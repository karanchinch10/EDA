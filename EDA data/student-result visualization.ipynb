{
 "cells": [
  {
   "cell_type": "code",
   "execution_count": 1,
   "id": "3c41ab3e",
   "metadata": {
    "execution": {
     "iopub.execute_input": "2022-06-11T15:13:38.709671Z",
     "iopub.status.busy": "2022-06-11T15:13:38.708956Z",
     "iopub.status.idle": "2022-06-11T15:13:39.832622Z",
     "shell.execute_reply": "2022-06-11T15:13:39.831733Z"
    },
    "papermill": {
     "duration": 1.145848,
     "end_time": "2022-06-11T15:13:39.835121",
     "exception": false,
     "start_time": "2022-06-11T15:13:38.689273",
     "status": "completed"
    },
    "tags": []
   },
   "outputs": [],
   "source": [
    "import numpy as np\n",
    "import pandas as pd\n",
    "import matplotlib.pyplot as plt\n",
    "import seaborn as sns\n",
    "import warnings\n",
    "warnings.filterwarnings('ignore')"
   ]
  },
  {
   "cell_type": "code",
   "execution_count": 2,
   "id": "37889238",
   "metadata": {
    "execution": {
     "iopub.execute_input": "2022-06-11T15:13:39.871604Z",
     "iopub.status.busy": "2022-06-11T15:13:39.871019Z",
     "iopub.status.idle": "2022-06-11T15:13:53.974494Z",
     "shell.execute_reply": "2022-06-11T15:13:53.972781Z"
    },
    "papermill": {
     "duration": 14.124277,
     "end_time": "2022-06-11T15:13:53.977079",
     "exception": false,
     "start_time": "2022-06-11T15:13:39.852802",
     "status": "completed"
    },
    "tags": []
   },
   "outputs": [
    {
     "name": "stdout",
     "output_type": "stream",
     "text": [
      "Collecting openpyxl\r\n",
      "  Downloading openpyxl-3.0.10-py2.py3-none-any.whl (242 kB)\r\n",
      "\u001b[2K     \u001b[90m━━━━━━━━━━━━━━━━━━━━━━━━━━━━━━━━━━━━━\u001b[0m \u001b[32m242.1/242.1 kB\u001b[0m \u001b[31m909.4 kB/s\u001b[0m eta \u001b[36m0:00:00\u001b[0m\r\n",
      "\u001b[?25hCollecting et-xmlfile\r\n",
      "  Downloading et_xmlfile-1.1.0-py3-none-any.whl (4.7 kB)\r\n",
      "Installing collected packages: et-xmlfile, openpyxl\r\n",
      "Successfully installed et-xmlfile-1.1.0 openpyxl-3.0.10\r\n",
      "\u001b[33mWARNING: Running pip as the 'root' user can result in broken permissions and conflicting behaviour with the system package manager. It is recommended to use a virtual environment instead: https://pip.pypa.io/warnings/venv\u001b[0m\u001b[33m\r\n",
      "\u001b[0mNote: you may need to restart the kernel to use updated packages.\n"
     ]
    }
   ],
   "source": [
    "pip install openpyxl"
   ]
  },
  {
   "cell_type": "code",
   "execution_count": 3,
   "id": "0d8b9630",
   "metadata": {
    "execution": {
     "iopub.execute_input": "2022-06-11T15:13:54.020247Z",
     "iopub.status.busy": "2022-06-11T15:13:54.019680Z",
     "iopub.status.idle": "2022-06-11T15:13:54.326611Z",
     "shell.execute_reply": "2022-06-11T15:13:54.325406Z"
    },
    "papermill": {
     "duration": 0.331634,
     "end_time": "2022-06-11T15:13:54.329963",
     "exception": false,
     "start_time": "2022-06-11T15:13:53.998329",
     "status": "completed"
    },
    "tags": []
   },
   "outputs": [
    {
     "data": {
      "text/html": [
       "<div>\n",
       "<style scoped>\n",
       "    .dataframe tbody tr th:only-of-type {\n",
       "        vertical-align: middle;\n",
       "    }\n",
       "\n",
       "    .dataframe tbody tr th {\n",
       "        vertical-align: top;\n",
       "    }\n",
       "\n",
       "    .dataframe thead th {\n",
       "        text-align: right;\n",
       "    }\n",
       "</style>\n",
       "<table border=\"1\" class=\"dataframe\">\n",
       "  <thead>\n",
       "    <tr style=\"text-align: right;\">\n",
       "      <th></th>\n",
       "      <th>name</th>\n",
       "      <th>gender</th>\n",
       "      <th>state</th>\n",
       "      <th>phy</th>\n",
       "      <th>maths</th>\n",
       "      <th>bio</th>\n",
       "    </tr>\n",
       "  </thead>\n",
       "  <tbody>\n",
       "    <tr>\n",
       "      <th>0</th>\n",
       "      <td>rohan</td>\n",
       "      <td>male</td>\n",
       "      <td>mh</td>\n",
       "      <td>60</td>\n",
       "      <td>90</td>\n",
       "      <td>68</td>\n",
       "    </tr>\n",
       "    <tr>\n",
       "      <th>1</th>\n",
       "      <td>aniket</td>\n",
       "      <td>male</td>\n",
       "      <td>up</td>\n",
       "      <td>52</td>\n",
       "      <td>85</td>\n",
       "      <td>72</td>\n",
       "    </tr>\n",
       "    <tr>\n",
       "      <th>2</th>\n",
       "      <td>ganesh</td>\n",
       "      <td>male</td>\n",
       "      <td>up</td>\n",
       "      <td>45</td>\n",
       "      <td>82</td>\n",
       "      <td>78</td>\n",
       "    </tr>\n",
       "    <tr>\n",
       "      <th>3</th>\n",
       "      <td>meena</td>\n",
       "      <td>female</td>\n",
       "      <td>mp</td>\n",
       "      <td>72</td>\n",
       "      <td>69</td>\n",
       "      <td>80</td>\n",
       "    </tr>\n",
       "    <tr>\n",
       "      <th>4</th>\n",
       "      <td>seema</td>\n",
       "      <td>female</td>\n",
       "      <td>mh</td>\n",
       "      <td>68</td>\n",
       "      <td>90</td>\n",
       "      <td>78</td>\n",
       "    </tr>\n",
       "    <tr>\n",
       "      <th>5</th>\n",
       "      <td>dinesh</td>\n",
       "      <td>male</td>\n",
       "      <td>mp</td>\n",
       "      <td>48</td>\n",
       "      <td>34</td>\n",
       "      <td>67</td>\n",
       "    </tr>\n",
       "    <tr>\n",
       "      <th>6</th>\n",
       "      <td>yogita</td>\n",
       "      <td>female</td>\n",
       "      <td>mp</td>\n",
       "      <td>39</td>\n",
       "      <td>65</td>\n",
       "      <td>90</td>\n",
       "    </tr>\n",
       "    <tr>\n",
       "      <th>7</th>\n",
       "      <td>karan</td>\n",
       "      <td>male</td>\n",
       "      <td>mh</td>\n",
       "      <td>82</td>\n",
       "      <td>78</td>\n",
       "      <td>55</td>\n",
       "    </tr>\n",
       "    <tr>\n",
       "      <th>8</th>\n",
       "      <td>jayesh</td>\n",
       "      <td>male</td>\n",
       "      <td>up</td>\n",
       "      <td>87</td>\n",
       "      <td>88</td>\n",
       "      <td>32</td>\n",
       "    </tr>\n",
       "    <tr>\n",
       "      <th>9</th>\n",
       "      <td>mangesh</td>\n",
       "      <td>male</td>\n",
       "      <td>mp</td>\n",
       "      <td>91</td>\n",
       "      <td>78</td>\n",
       "      <td>82</td>\n",
       "    </tr>\n",
       "    <tr>\n",
       "      <th>10</th>\n",
       "      <td>geeta</td>\n",
       "      <td>female</td>\n",
       "      <td>mh</td>\n",
       "      <td>31</td>\n",
       "      <td>58</td>\n",
       "      <td>78</td>\n",
       "    </tr>\n",
       "    <tr>\n",
       "      <th>11</th>\n",
       "      <td>runali</td>\n",
       "      <td>female</td>\n",
       "      <td>up</td>\n",
       "      <td>85</td>\n",
       "      <td>92</td>\n",
       "      <td>66</td>\n",
       "    </tr>\n",
       "    <tr>\n",
       "      <th>12</th>\n",
       "      <td>tushar</td>\n",
       "      <td>male</td>\n",
       "      <td>up</td>\n",
       "      <td>32</td>\n",
       "      <td>92</td>\n",
       "      <td>77</td>\n",
       "    </tr>\n",
       "    <tr>\n",
       "      <th>13</th>\n",
       "      <td>binod</td>\n",
       "      <td>male</td>\n",
       "      <td>mh</td>\n",
       "      <td>95</td>\n",
       "      <td>78</td>\n",
       "      <td>88</td>\n",
       "    </tr>\n",
       "    <tr>\n",
       "      <th>14</th>\n",
       "      <td>sanjay</td>\n",
       "      <td>male</td>\n",
       "      <td>mh</td>\n",
       "      <td>63</td>\n",
       "      <td>90</td>\n",
       "      <td>80</td>\n",
       "    </tr>\n",
       "  </tbody>\n",
       "</table>\n",
       "</div>"
      ],
      "text/plain": [
       "       name  gender state  phy  maths  bio\n",
       "0     rohan    male    mh   60     90   68\n",
       "1    aniket    male    up   52     85   72\n",
       "2    ganesh    male    up   45     82   78\n",
       "3     meena  female    mp   72     69   80\n",
       "4     seema  female    mh   68     90   78\n",
       "5    dinesh    male    mp   48     34   67\n",
       "6    yogita  female    mp   39     65   90\n",
       "7     karan    male    mh   82     78   55\n",
       "8    jayesh    male    up   87     88   32\n",
       "9   mangesh    male    mp   91     78   82\n",
       "10    geeta  female    mh   31     58   78\n",
       "11   runali  female    up   85     92   66\n",
       "12   tushar    male    up   32     92   77\n",
       "13    binod    male    mh   95     78   88\n",
       "14   sanjay    male    mh   63     90   80"
      ]
     },
     "execution_count": 3,
     "metadata": {},
     "output_type": "execute_result"
    }
   ],
   "source": [
    "df = pd.read_excel('../input/result/marksheet.xlsx')\n",
    "df"
   ]
  },
  {
   "cell_type": "code",
   "execution_count": 4,
   "id": "dafac116",
   "metadata": {
    "execution": {
     "iopub.execute_input": "2022-06-11T15:13:54.372578Z",
     "iopub.status.busy": "2022-06-11T15:13:54.372148Z",
     "iopub.status.idle": "2022-06-11T15:13:54.378883Z",
     "shell.execute_reply": "2022-06-11T15:13:54.377960Z"
    },
    "papermill": {
     "duration": 0.028256,
     "end_time": "2022-06-11T15:13:54.381322",
     "exception": false,
     "start_time": "2022-06-11T15:13:54.353066",
     "status": "completed"
    },
    "tags": []
   },
   "outputs": [
    {
     "data": {
      "text/plain": [
       "(15, 6)"
      ]
     },
     "execution_count": 4,
     "metadata": {},
     "output_type": "execute_result"
    }
   ],
   "source": [
    "df.shape"
   ]
  },
  {
   "cell_type": "code",
   "execution_count": 5,
   "id": "4e68615b",
   "metadata": {
    "execution": {
     "iopub.execute_input": "2022-06-11T15:13:54.419111Z",
     "iopub.status.busy": "2022-06-11T15:13:54.418276Z",
     "iopub.status.idle": "2022-06-11T15:13:54.426345Z",
     "shell.execute_reply": "2022-06-11T15:13:54.425525Z"
    },
    "papermill": {
     "duration": 0.029183,
     "end_time": "2022-06-11T15:13:54.428340",
     "exception": false,
     "start_time": "2022-06-11T15:13:54.399157",
     "status": "completed"
    },
    "tags": []
   },
   "outputs": [
    {
     "data": {
      "text/plain": [
       "name      object\n",
       "gender    object\n",
       "state     object\n",
       "phy        int64\n",
       "maths      int64\n",
       "bio        int64\n",
       "dtype: object"
      ]
     },
     "execution_count": 5,
     "metadata": {},
     "output_type": "execute_result"
    }
   ],
   "source": [
    "df.dtypes"
   ]
  },
  {
   "cell_type": "markdown",
   "id": "abee6cd6",
   "metadata": {
    "papermill": {
     "duration": 0.01764,
     "end_time": "2022-06-11T15:13:54.464018",
     "exception": false,
     "start_time": "2022-06-11T15:13:54.446378",
     "status": "completed"
    },
    "tags": []
   },
   "source": [
    "## Data Visualization"
   ]
  },
  {
   "cell_type": "code",
   "execution_count": 6,
   "id": "d85760ea",
   "metadata": {
    "execution": {
     "iopub.execute_input": "2022-06-11T15:13:54.501946Z",
     "iopub.status.busy": "2022-06-11T15:13:54.501001Z",
     "iopub.status.idle": "2022-06-11T15:13:54.519504Z",
     "shell.execute_reply": "2022-06-11T15:13:54.518230Z"
    },
    "papermill": {
     "duration": 0.040021,
     "end_time": "2022-06-11T15:13:54.521917",
     "exception": false,
     "start_time": "2022-06-11T15:13:54.481896",
     "status": "completed"
    },
    "tags": []
   },
   "outputs": [
    {
     "data": {
      "text/html": [
       "<div>\n",
       "<style scoped>\n",
       "    .dataframe tbody tr th:only-of-type {\n",
       "        vertical-align: middle;\n",
       "    }\n",
       "\n",
       "    .dataframe tbody tr th {\n",
       "        vertical-align: top;\n",
       "    }\n",
       "\n",
       "    .dataframe thead th {\n",
       "        text-align: right;\n",
       "    }\n",
       "</style>\n",
       "<table border=\"1\" class=\"dataframe\">\n",
       "  <thead>\n",
       "    <tr style=\"text-align: right;\">\n",
       "      <th></th>\n",
       "      <th>name</th>\n",
       "      <th>gender</th>\n",
       "      <th>state</th>\n",
       "      <th>phy</th>\n",
       "      <th>maths</th>\n",
       "      <th>bio</th>\n",
       "    </tr>\n",
       "  </thead>\n",
       "  <tbody>\n",
       "    <tr>\n",
       "      <th>9</th>\n",
       "      <td>mangesh</td>\n",
       "      <td>male</td>\n",
       "      <td>mp</td>\n",
       "      <td>91</td>\n",
       "      <td>78</td>\n",
       "      <td>82</td>\n",
       "    </tr>\n",
       "    <tr>\n",
       "      <th>13</th>\n",
       "      <td>binod</td>\n",
       "      <td>male</td>\n",
       "      <td>mh</td>\n",
       "      <td>95</td>\n",
       "      <td>78</td>\n",
       "      <td>88</td>\n",
       "    </tr>\n",
       "  </tbody>\n",
       "</table>\n",
       "</div>"
      ],
      "text/plain": [
       "       name gender state  phy  maths  bio\n",
       "9   mangesh   male    mp   91     78   82\n",
       "13    binod   male    mh   95     78   88"
      ]
     },
     "execution_count": 6,
     "metadata": {},
     "output_type": "execute_result"
    }
   ],
   "source": [
    "df[df['phy']>90]"
   ]
  },
  {
   "cell_type": "markdown",
   "id": "ed997281",
   "metadata": {
    "papermill": {
     "duration": 0.018308,
     "end_time": "2022-06-11T15:13:54.558532",
     "exception": false,
     "start_time": "2022-06-11T15:13:54.540224",
     "status": "completed"
    },
    "tags": []
   },
   "source": [
    "### statement\n",
    "* Only 2 students has score moore than 90 in phy"
   ]
  },
  {
   "cell_type": "code",
   "execution_count": 7,
   "id": "2d6bf489",
   "metadata": {
    "execution": {
     "iopub.execute_input": "2022-06-11T15:13:54.596876Z",
     "iopub.status.busy": "2022-06-11T15:13:54.596495Z",
     "iopub.status.idle": "2022-06-11T15:13:54.613290Z",
     "shell.execute_reply": "2022-06-11T15:13:54.612325Z"
    },
    "papermill": {
     "duration": 0.038521,
     "end_time": "2022-06-11T15:13:54.615344",
     "exception": false,
     "start_time": "2022-06-11T15:13:54.576823",
     "status": "completed"
    },
    "tags": []
   },
   "outputs": [
    {
     "data": {
      "text/html": [
       "<div>\n",
       "<style scoped>\n",
       "    .dataframe tbody tr th:only-of-type {\n",
       "        vertical-align: middle;\n",
       "    }\n",
       "\n",
       "    .dataframe tbody tr th {\n",
       "        vertical-align: top;\n",
       "    }\n",
       "\n",
       "    .dataframe thead th {\n",
       "        text-align: right;\n",
       "    }\n",
       "</style>\n",
       "<table border=\"1\" class=\"dataframe\">\n",
       "  <thead>\n",
       "    <tr style=\"text-align: right;\">\n",
       "      <th></th>\n",
       "      <th>name</th>\n",
       "      <th>gender</th>\n",
       "      <th>state</th>\n",
       "      <th>phy</th>\n",
       "      <th>maths</th>\n",
       "      <th>bio</th>\n",
       "    </tr>\n",
       "  </thead>\n",
       "  <tbody>\n",
       "    <tr>\n",
       "      <th>1</th>\n",
       "      <td>aniket</td>\n",
       "      <td>male</td>\n",
       "      <td>up</td>\n",
       "      <td>52</td>\n",
       "      <td>85</td>\n",
       "      <td>72</td>\n",
       "    </tr>\n",
       "    <tr>\n",
       "      <th>2</th>\n",
       "      <td>ganesh</td>\n",
       "      <td>male</td>\n",
       "      <td>up</td>\n",
       "      <td>45</td>\n",
       "      <td>82</td>\n",
       "      <td>78</td>\n",
       "    </tr>\n",
       "    <tr>\n",
       "      <th>5</th>\n",
       "      <td>dinesh</td>\n",
       "      <td>male</td>\n",
       "      <td>mp</td>\n",
       "      <td>48</td>\n",
       "      <td>34</td>\n",
       "      <td>67</td>\n",
       "    </tr>\n",
       "    <tr>\n",
       "      <th>8</th>\n",
       "      <td>jayesh</td>\n",
       "      <td>male</td>\n",
       "      <td>up</td>\n",
       "      <td>87</td>\n",
       "      <td>88</td>\n",
       "      <td>32</td>\n",
       "    </tr>\n",
       "    <tr>\n",
       "      <th>9</th>\n",
       "      <td>mangesh</td>\n",
       "      <td>male</td>\n",
       "      <td>mp</td>\n",
       "      <td>91</td>\n",
       "      <td>78</td>\n",
       "      <td>82</td>\n",
       "    </tr>\n",
       "    <tr>\n",
       "      <th>12</th>\n",
       "      <td>tushar</td>\n",
       "      <td>male</td>\n",
       "      <td>up</td>\n",
       "      <td>32</td>\n",
       "      <td>92</td>\n",
       "      <td>77</td>\n",
       "    </tr>\n",
       "  </tbody>\n",
       "</table>\n",
       "</div>"
      ],
      "text/plain": [
       "       name gender state  phy  maths  bio\n",
       "1    aniket   male    up   52     85   72\n",
       "2    ganesh   male    up   45     82   78\n",
       "5    dinesh   male    mp   48     34   67\n",
       "8    jayesh   male    up   87     88   32\n",
       "9   mangesh   male    mp   91     78   82\n",
       "12   tushar   male    up   32     92   77"
      ]
     },
     "execution_count": 7,
     "metadata": {},
     "output_type": "execute_result"
    }
   ],
   "source": [
    "df[(df['state'].isin(['mp','up'])) & (df['gender']=='male')]"
   ]
  },
  {
   "cell_type": "markdown",
   "id": "05d2ffb1",
   "metadata": {
    "papermill": {
     "duration": 0.018185,
     "end_time": "2022-06-11T15:13:54.652533",
     "exception": false,
     "start_time": "2022-06-11T15:13:54.634348",
     "status": "completed"
    },
    "tags": []
   },
   "source": [
    "## piovt Table\n",
    "* Pivot table in pandas is an excellent tool to summarize one or more numeric variable based on two other categorical variables."
   ]
  },
  {
   "cell_type": "code",
   "execution_count": 8,
   "id": "fe2ddd73",
   "metadata": {
    "execution": {
     "iopub.execute_input": "2022-06-11T15:13:54.691551Z",
     "iopub.status.busy": "2022-06-11T15:13:54.690804Z",
     "iopub.status.idle": "2022-06-11T15:13:54.725652Z",
     "shell.execute_reply": "2022-06-11T15:13:54.724686Z"
    },
    "papermill": {
     "duration": 0.05757,
     "end_time": "2022-06-11T15:13:54.728587",
     "exception": false,
     "start_time": "2022-06-11T15:13:54.671017",
     "status": "completed"
    },
    "tags": []
   },
   "outputs": [
    {
     "data": {
      "text/html": [
       "<div>\n",
       "<style scoped>\n",
       "    .dataframe tbody tr th:only-of-type {\n",
       "        vertical-align: middle;\n",
       "    }\n",
       "\n",
       "    .dataframe tbody tr th {\n",
       "        vertical-align: top;\n",
       "    }\n",
       "\n",
       "    .dataframe thead tr th {\n",
       "        text-align: left;\n",
       "    }\n",
       "\n",
       "    .dataframe thead tr:last-of-type th {\n",
       "        text-align: right;\n",
       "    }\n",
       "</style>\n",
       "<table border=\"1\" class=\"dataframe\">\n",
       "  <thead>\n",
       "    <tr>\n",
       "      <th></th>\n",
       "      <th></th>\n",
       "      <th colspan=\"2\" halign=\"left\">phy</th>\n",
       "      <th colspan=\"2\" halign=\"left\">maths</th>\n",
       "      <th colspan=\"2\" halign=\"left\">bio</th>\n",
       "    </tr>\n",
       "    <tr>\n",
       "      <th></th>\n",
       "      <th></th>\n",
       "      <th>sum</th>\n",
       "      <th>mean</th>\n",
       "      <th>sum</th>\n",
       "      <th>mean</th>\n",
       "      <th>sum</th>\n",
       "      <th>mean</th>\n",
       "    </tr>\n",
       "    <tr>\n",
       "      <th>state</th>\n",
       "      <th>gender</th>\n",
       "      <th></th>\n",
       "      <th></th>\n",
       "      <th></th>\n",
       "      <th></th>\n",
       "      <th></th>\n",
       "      <th></th>\n",
       "    </tr>\n",
       "  </thead>\n",
       "  <tbody>\n",
       "    <tr>\n",
       "      <th rowspan=\"2\" valign=\"top\">mh</th>\n",
       "      <th>female</th>\n",
       "      <td>99</td>\n",
       "      <td>49.5</td>\n",
       "      <td>148</td>\n",
       "      <td>74.00</td>\n",
       "      <td>156</td>\n",
       "      <td>78.00</td>\n",
       "    </tr>\n",
       "    <tr>\n",
       "      <th>male</th>\n",
       "      <td>300</td>\n",
       "      <td>75.0</td>\n",
       "      <td>336</td>\n",
       "      <td>84.00</td>\n",
       "      <td>291</td>\n",
       "      <td>72.75</td>\n",
       "    </tr>\n",
       "    <tr>\n",
       "      <th rowspan=\"2\" valign=\"top\">mp</th>\n",
       "      <th>female</th>\n",
       "      <td>111</td>\n",
       "      <td>55.5</td>\n",
       "      <td>134</td>\n",
       "      <td>67.00</td>\n",
       "      <td>170</td>\n",
       "      <td>85.00</td>\n",
       "    </tr>\n",
       "    <tr>\n",
       "      <th>male</th>\n",
       "      <td>139</td>\n",
       "      <td>69.5</td>\n",
       "      <td>112</td>\n",
       "      <td>56.00</td>\n",
       "      <td>149</td>\n",
       "      <td>74.50</td>\n",
       "    </tr>\n",
       "    <tr>\n",
       "      <th rowspan=\"2\" valign=\"top\">up</th>\n",
       "      <th>female</th>\n",
       "      <td>85</td>\n",
       "      <td>85.0</td>\n",
       "      <td>92</td>\n",
       "      <td>92.00</td>\n",
       "      <td>66</td>\n",
       "      <td>66.00</td>\n",
       "    </tr>\n",
       "    <tr>\n",
       "      <th>male</th>\n",
       "      <td>216</td>\n",
       "      <td>54.0</td>\n",
       "      <td>347</td>\n",
       "      <td>86.75</td>\n",
       "      <td>259</td>\n",
       "      <td>64.75</td>\n",
       "    </tr>\n",
       "  </tbody>\n",
       "</table>\n",
       "</div>"
      ],
      "text/plain": [
       "              phy       maths         bio       \n",
       "              sum  mean   sum   mean  sum   mean\n",
       "state gender                                    \n",
       "mh    female   99  49.5   148  74.00  156  78.00\n",
       "      male    300  75.0   336  84.00  291  72.75\n",
       "mp    female  111  55.5   134  67.00  170  85.00\n",
       "      male    139  69.5   112  56.00  149  74.50\n",
       "up    female   85  85.0    92  92.00   66  66.00\n",
       "      male    216  54.0   347  86.75  259  64.75"
      ]
     },
     "execution_count": 8,
     "metadata": {},
     "output_type": "execute_result"
    }
   ],
   "source": [
    "df.groupby(['state','gender'],sort=True).agg([np.sum,np.mean])"
   ]
  },
  {
   "cell_type": "markdown",
   "id": "a8000a9a",
   "metadata": {
    "papermill": {
     "duration": 0.019241,
     "end_time": "2022-06-11T15:13:54.771350",
     "exception": false,
     "start_time": "2022-06-11T15:13:54.752109",
     "status": "completed"
    },
    "tags": []
   },
   "source": [
    "### Same visualize by Bar Plot"
   ]
  },
  {
   "cell_type": "code",
   "execution_count": 9,
   "id": "b3fae9da",
   "metadata": {
    "execution": {
     "iopub.execute_input": "2022-06-11T15:13:54.811059Z",
     "iopub.status.busy": "2022-06-11T15:13:54.810675Z",
     "iopub.status.idle": "2022-06-11T15:13:55.792404Z",
     "shell.execute_reply": "2022-06-11T15:13:55.791336Z"
    },
    "papermill": {
     "duration": 1.004297,
     "end_time": "2022-06-11T15:13:55.794971",
     "exception": false,
     "start_time": "2022-06-11T15:13:54.790674",
     "status": "completed"
    },
    "tags": []
   },
   "outputs": [
    {
     "name": "stdout",
     "output_type": "stream",
     "text": [
      "0 phy\n",
      "1 maths\n",
      "2 bio\n"
     ]
    },
    {
     "data": {
      "image/png": "[encoded data removed]",
      "text/plain": [
       "<Figure size 1296x864 with 3 Axes>"
      ]
     },
     "metadata": {
      "needs_background": "light"
     },
     "output_type": "display_data"
    }
   ],
   "source": [
    "col=['phy', 'maths', 'bio'] #Create a list of input columns\n",
    "plt.figure(figsize=(18,12))\n",
    "for i,v in enumerate(col):\n",
    "    print(i,v)\n",
    "    plt.subplot(2,2,i+1)\n",
    "    sns.barplot(x=\"state\", y=v, data=df, hue=\"gender\") \n",
    "plt.show()"
   ]
  },
  {
   "cell_type": "markdown",
   "id": "6310b3bc",
   "metadata": {
    "papermill": {
     "duration": 0.018998,
     "end_time": "2022-06-11T15:13:55.833580",
     "exception": false,
     "start_time": "2022-06-11T15:13:55.814582",
     "status": "completed"
    },
    "tags": []
   },
   "source": [
    "### statement\n",
    "* In mp average score of female in bio is higher than other states\n",
    "* In UP average score of female and female in maths is higher than other states\n",
    "* In maths score is less for male those belong to mp state\n",
    "* In phy performace of female is very much less those belong to maharashtra state"
   ]
  },
  {
   "cell_type": "markdown",
   "id": "1a76bfc0",
   "metadata": {
    "papermill": {
     "duration": 0.018942,
     "end_time": "2022-06-11T15:13:55.871955",
     "exception": false,
     "start_time": "2022-06-11T15:13:55.853013",
     "status": "completed"
    },
    "tags": []
   },
   "source": [
    "## Bar Plot\n",
    "* Pandas Bar Plot is a great way to visually compare 2 or more items together. Traditionally, bar plots use the y-axis to show how values compare to each other."
   ]
  },
  {
   "cell_type": "code",
   "execution_count": 10,
   "id": "307a5885",
   "metadata": {
    "execution": {
     "iopub.execute_input": "2022-06-11T15:13:55.912146Z",
     "iopub.status.busy": "2022-06-11T15:13:55.911498Z",
     "iopub.status.idle": "2022-06-11T15:13:56.130473Z",
     "shell.execute_reply": "2022-06-11T15:13:56.129430Z"
    },
    "papermill": {
     "duration": 0.241578,
     "end_time": "2022-06-11T15:13:56.132761",
     "exception": false,
     "start_time": "2022-06-11T15:13:55.891183",
     "status": "completed"
    },
    "tags": []
   },
   "outputs": [
    {
     "data": {
      "image/png": "[encoded data removed]",
      "text/plain": [
       "<Figure size 1080x576 with 1 Axes>"
      ]
     },
     "metadata": {
      "needs_background": "light"
     },
     "output_type": "display_data"
    }
   ],
   "source": [
    "plt.figure(figsize=(15,8))\n",
    "sns.countplot(data=df,x='state',hue='gender')\n",
    "plt.show()"
   ]
  },
  {
   "cell_type": "markdown",
   "id": "17a8e398",
   "metadata": {
    "papermill": {
     "duration": 0.019903,
     "end_time": "2022-06-11T15:13:56.172390",
     "exception": false,
     "start_time": "2022-06-11T15:13:56.152487",
     "status": "completed"
    },
    "tags": []
   },
   "source": [
    "### statement\n",
    "* Total no on male and Female in mp was same \n",
    "* In case of MP and UP taotal no of male are greater than female"
   ]
  },
  {
   "cell_type": "markdown",
   "id": "8cd94cef",
   "metadata": {
    "execution": {
     "iopub.execute_input": "2022-06-11T09:31:21.564258Z",
     "iopub.status.busy": "2022-06-11T09:31:21.563845Z",
     "iopub.status.idle": "2022-06-11T09:31:21.568303Z",
     "shell.execute_reply": "2022-06-11T09:31:21.567162Z",
     "shell.execute_reply.started": "2022-06-11T09:31:21.564199Z"
    },
    "papermill": {
     "duration": 0.019214,
     "end_time": "2022-06-11T15:13:56.211458",
     "exception": false,
     "start_time": "2022-06-11T15:13:56.192244",
     "status": "completed"
    },
    "tags": []
   },
   "source": [
    "### Avg score of male in mh"
   ]
  },
  {
   "cell_type": "code",
   "execution_count": 11,
   "id": "5f3caea2",
   "metadata": {
    "execution": {
     "iopub.execute_input": "2022-06-11T15:13:56.252651Z",
     "iopub.status.busy": "2022-06-11T15:13:56.251996Z",
     "iopub.status.idle": "2022-06-11T15:13:56.261453Z",
     "shell.execute_reply": "2022-06-11T15:13:56.260814Z"
    },
    "papermill": {
     "duration": 0.032248,
     "end_time": "2022-06-11T15:13:56.263293",
     "exception": false,
     "start_time": "2022-06-11T15:13:56.231045",
     "status": "completed"
    },
    "scrolled": true,
    "tags": []
   },
   "outputs": [
    {
     "data": {
      "text/plain": [
       "phy      75.00\n",
       "maths    84.00\n",
       "bio      72.75\n",
       "dtype: float64"
      ]
     },
     "execution_count": 11,
     "metadata": {},
     "output_type": "execute_result"
    }
   ],
   "source": [
    "df[(df['state']=='mh') & (df['gender']=='male')].mean()"
   ]
  },
  {
   "cell_type": "markdown",
   "id": "51841c86",
   "metadata": {
    "papermill": {
     "duration": 0.021379,
     "end_time": "2022-06-11T15:13:56.304587",
     "exception": false,
     "start_time": "2022-06-11T15:13:56.283208",
     "status": "completed"
    },
    "tags": []
   },
   "source": [
    "### Overall total per of Male and Female"
   ]
  },
  {
   "cell_type": "code",
   "execution_count": 12,
   "id": "6f9d5151",
   "metadata": {
    "execution": {
     "iopub.execute_input": "2022-06-11T15:13:56.350568Z",
     "iopub.status.busy": "2022-06-11T15:13:56.349929Z",
     "iopub.status.idle": "2022-06-11T15:13:56.358271Z",
     "shell.execute_reply": "2022-06-11T15:13:56.357267Z"
    },
    "papermill": {
     "duration": 0.031798,
     "end_time": "2022-06-11T15:13:56.360324",
     "exception": false,
     "start_time": "2022-06-11T15:13:56.328526",
     "status": "completed"
    },
    "tags": []
   },
   "outputs": [
    {
     "data": {
      "text/plain": [
       "male      66.666667\n",
       "female    33.333333\n",
       "Name: gender, dtype: float64"
      ]
     },
     "execution_count": 12,
     "metadata": {},
     "output_type": "execute_result"
    }
   ],
   "source": [
    "df['gender'].value_counts()/df.shape[0]*100"
   ]
  },
  {
   "cell_type": "code",
   "execution_count": 13,
   "id": "84e17f75",
   "metadata": {
    "execution": {
     "iopub.execute_input": "2022-06-11T15:13:56.403687Z",
     "iopub.status.busy": "2022-06-11T15:13:56.402943Z",
     "iopub.status.idle": "2022-06-11T15:13:56.408044Z",
     "shell.execute_reply": "2022-06-11T15:13:56.407298Z"
    },
    "papermill": {
     "duration": 0.029805,
     "end_time": "2022-06-11T15:13:56.410130",
     "exception": false,
     "start_time": "2022-06-11T15:13:56.380325",
     "status": "completed"
    },
    "tags": []
   },
   "outputs": [],
   "source": [
    "df1 = df.copy()"
   ]
  },
  {
   "cell_type": "code",
   "execution_count": 14,
   "id": "b7d0f4a7",
   "metadata": {
    "execution": {
     "iopub.execute_input": "2022-06-11T15:13:56.452118Z",
     "iopub.status.busy": "2022-06-11T15:13:56.451386Z",
     "iopub.status.idle": "2022-06-11T15:13:56.465319Z",
     "shell.execute_reply": "2022-06-11T15:13:56.464141Z"
    },
    "papermill": {
     "duration": 0.037446,
     "end_time": "2022-06-11T15:13:56.467553",
     "exception": false,
     "start_time": "2022-06-11T15:13:56.430107",
     "status": "completed"
    },
    "tags": []
   },
   "outputs": [
    {
     "data": {
      "text/html": [
       "<div>\n",
       "<style scoped>\n",
       "    .dataframe tbody tr th:only-of-type {\n",
       "        vertical-align: middle;\n",
       "    }\n",
       "\n",
       "    .dataframe tbody tr th {\n",
       "        vertical-align: top;\n",
       "    }\n",
       "\n",
       "    .dataframe thead th {\n",
       "        text-align: right;\n",
       "    }\n",
       "</style>\n",
       "<table border=\"1\" class=\"dataframe\">\n",
       "  <thead>\n",
       "    <tr style=\"text-align: right;\">\n",
       "      <th></th>\n",
       "      <th>name</th>\n",
       "      <th>gender</th>\n",
       "      <th>state</th>\n",
       "      <th>phy</th>\n",
       "      <th>maths</th>\n",
       "      <th>bio</th>\n",
       "    </tr>\n",
       "  </thead>\n",
       "  <tbody>\n",
       "    <tr>\n",
       "      <th>0</th>\n",
       "      <td>rohan</td>\n",
       "      <td>male</td>\n",
       "      <td>mh</td>\n",
       "      <td>60</td>\n",
       "      <td>90</td>\n",
       "      <td>68</td>\n",
       "    </tr>\n",
       "    <tr>\n",
       "      <th>1</th>\n",
       "      <td>aniket</td>\n",
       "      <td>male</td>\n",
       "      <td>up</td>\n",
       "      <td>52</td>\n",
       "      <td>85</td>\n",
       "      <td>72</td>\n",
       "    </tr>\n",
       "    <tr>\n",
       "      <th>2</th>\n",
       "      <td>ganesh</td>\n",
       "      <td>male</td>\n",
       "      <td>up</td>\n",
       "      <td>45</td>\n",
       "      <td>82</td>\n",
       "      <td>78</td>\n",
       "    </tr>\n",
       "    <tr>\n",
       "      <th>3</th>\n",
       "      <td>meena</td>\n",
       "      <td>female</td>\n",
       "      <td>mp</td>\n",
       "      <td>72</td>\n",
       "      <td>69</td>\n",
       "      <td>80</td>\n",
       "    </tr>\n",
       "    <tr>\n",
       "      <th>4</th>\n",
       "      <td>seema</td>\n",
       "      <td>female</td>\n",
       "      <td>mh</td>\n",
       "      <td>68</td>\n",
       "      <td>90</td>\n",
       "      <td>78</td>\n",
       "    </tr>\n",
       "    <tr>\n",
       "      <th>5</th>\n",
       "      <td>dinesh</td>\n",
       "      <td>male</td>\n",
       "      <td>mp</td>\n",
       "      <td>48</td>\n",
       "      <td>34</td>\n",
       "      <td>67</td>\n",
       "    </tr>\n",
       "    <tr>\n",
       "      <th>6</th>\n",
       "      <td>yogita</td>\n",
       "      <td>female</td>\n",
       "      <td>mp</td>\n",
       "      <td>39</td>\n",
       "      <td>65</td>\n",
       "      <td>90</td>\n",
       "    </tr>\n",
       "    <tr>\n",
       "      <th>7</th>\n",
       "      <td>karan</td>\n",
       "      <td>male</td>\n",
       "      <td>mh</td>\n",
       "      <td>82</td>\n",
       "      <td>78</td>\n",
       "      <td>55</td>\n",
       "    </tr>\n",
       "    <tr>\n",
       "      <th>8</th>\n",
       "      <td>jayesh</td>\n",
       "      <td>male</td>\n",
       "      <td>up</td>\n",
       "      <td>87</td>\n",
       "      <td>88</td>\n",
       "      <td>32</td>\n",
       "    </tr>\n",
       "    <tr>\n",
       "      <th>9</th>\n",
       "      <td>mangesh</td>\n",
       "      <td>male</td>\n",
       "      <td>mp</td>\n",
       "      <td>91</td>\n",
       "      <td>78</td>\n",
       "      <td>82</td>\n",
       "    </tr>\n",
       "    <tr>\n",
       "      <th>10</th>\n",
       "      <td>geeta</td>\n",
       "      <td>female</td>\n",
       "      <td>mh</td>\n",
       "      <td>31</td>\n",
       "      <td>58</td>\n",
       "      <td>78</td>\n",
       "    </tr>\n",
       "    <tr>\n",
       "      <th>11</th>\n",
       "      <td>runali</td>\n",
       "      <td>female</td>\n",
       "      <td>up</td>\n",
       "      <td>85</td>\n",
       "      <td>92</td>\n",
       "      <td>66</td>\n",
       "    </tr>\n",
       "    <tr>\n",
       "      <th>12</th>\n",
       "      <td>tushar</td>\n",
       "      <td>male</td>\n",
       "      <td>up</td>\n",
       "      <td>32</td>\n",
       "      <td>92</td>\n",
       "      <td>77</td>\n",
       "    </tr>\n",
       "    <tr>\n",
       "      <th>13</th>\n",
       "      <td>binod</td>\n",
       "      <td>male</td>\n",
       "      <td>mh</td>\n",
       "      <td>95</td>\n",
       "      <td>78</td>\n",
       "      <td>88</td>\n",
       "    </tr>\n",
       "    <tr>\n",
       "      <th>14</th>\n",
       "      <td>sanjay</td>\n",
       "      <td>male</td>\n",
       "      <td>mh</td>\n",
       "      <td>63</td>\n",
       "      <td>90</td>\n",
       "      <td>80</td>\n",
       "    </tr>\n",
       "  </tbody>\n",
       "</table>\n",
       "</div>"
      ],
      "text/plain": [
       "       name  gender state  phy  maths  bio\n",
       "0     rohan    male    mh   60     90   68\n",
       "1    aniket    male    up   52     85   72\n",
       "2    ganesh    male    up   45     82   78\n",
       "3     meena  female    mp   72     69   80\n",
       "4     seema  female    mh   68     90   78\n",
       "5    dinesh    male    mp   48     34   67\n",
       "6    yogita  female    mp   39     65   90\n",
       "7     karan    male    mh   82     78   55\n",
       "8    jayesh    male    up   87     88   32\n",
       "9   mangesh    male    mp   91     78   82\n",
       "10    geeta  female    mh   31     58   78\n",
       "11   runali  female    up   85     92   66\n",
       "12   tushar    male    up   32     92   77\n",
       "13    binod    male    mh   95     78   88\n",
       "14   sanjay    male    mh   63     90   80"
      ]
     },
     "execution_count": 14,
     "metadata": {},
     "output_type": "execute_result"
    }
   ],
   "source": [
    "df1"
   ]
  },
  {
   "cell_type": "markdown",
   "id": "1622d267",
   "metadata": {
    "papermill": {
     "duration": 0.02101,
     "end_time": "2022-06-11T15:13:56.509511",
     "exception": false,
     "start_time": "2022-06-11T15:13:56.488501",
     "status": "completed"
    },
    "tags": []
   },
   "source": [
    "### Construct New feature of Total marks & Percentages"
   ]
  },
  {
   "cell_type": "code",
   "execution_count": 15,
   "id": "ffe5402d",
   "metadata": {
    "execution": {
     "iopub.execute_input": "2022-06-11T15:13:56.552709Z",
     "iopub.status.busy": "2022-06-11T15:13:56.552238Z",
     "iopub.status.idle": "2022-06-11T15:13:56.566926Z",
     "shell.execute_reply": "2022-06-11T15:13:56.566202Z"
    },
    "papermill": {
     "duration": 0.03777,
     "end_time": "2022-06-11T15:13:56.568684",
     "exception": false,
     "start_time": "2022-06-11T15:13:56.530914",
     "status": "completed"
    },
    "tags": []
   },
   "outputs": [
    {
     "data": {
      "text/html": [
       "<div>\n",
       "<style scoped>\n",
       "    .dataframe tbody tr th:only-of-type {\n",
       "        vertical-align: middle;\n",
       "    }\n",
       "\n",
       "    .dataframe tbody tr th {\n",
       "        vertical-align: top;\n",
       "    }\n",
       "\n",
       "    .dataframe thead th {\n",
       "        text-align: right;\n",
       "    }\n",
       "</style>\n",
       "<table border=\"1\" class=\"dataframe\">\n",
       "  <thead>\n",
       "    <tr style=\"text-align: right;\">\n",
       "      <th></th>\n",
       "      <th>name</th>\n",
       "      <th>gender</th>\n",
       "      <th>state</th>\n",
       "      <th>phy</th>\n",
       "      <th>maths</th>\n",
       "      <th>bio</th>\n",
       "      <th>total</th>\n",
       "    </tr>\n",
       "  </thead>\n",
       "  <tbody>\n",
       "    <tr>\n",
       "      <th>0</th>\n",
       "      <td>rohan</td>\n",
       "      <td>male</td>\n",
       "      <td>mh</td>\n",
       "      <td>60</td>\n",
       "      <td>90</td>\n",
       "      <td>68</td>\n",
       "      <td>218</td>\n",
       "    </tr>\n",
       "    <tr>\n",
       "      <th>1</th>\n",
       "      <td>aniket</td>\n",
       "      <td>male</td>\n",
       "      <td>up</td>\n",
       "      <td>52</td>\n",
       "      <td>85</td>\n",
       "      <td>72</td>\n",
       "      <td>209</td>\n",
       "    </tr>\n",
       "    <tr>\n",
       "      <th>2</th>\n",
       "      <td>ganesh</td>\n",
       "      <td>male</td>\n",
       "      <td>up</td>\n",
       "      <td>45</td>\n",
       "      <td>82</td>\n",
       "      <td>78</td>\n",
       "      <td>205</td>\n",
       "    </tr>\n",
       "    <tr>\n",
       "      <th>3</th>\n",
       "      <td>meena</td>\n",
       "      <td>female</td>\n",
       "      <td>mp</td>\n",
       "      <td>72</td>\n",
       "      <td>69</td>\n",
       "      <td>80</td>\n",
       "      <td>221</td>\n",
       "    </tr>\n",
       "    <tr>\n",
       "      <th>4</th>\n",
       "      <td>seema</td>\n",
       "      <td>female</td>\n",
       "      <td>mh</td>\n",
       "      <td>68</td>\n",
       "      <td>90</td>\n",
       "      <td>78</td>\n",
       "      <td>236</td>\n",
       "    </tr>\n",
       "    <tr>\n",
       "      <th>5</th>\n",
       "      <td>dinesh</td>\n",
       "      <td>male</td>\n",
       "      <td>mp</td>\n",
       "      <td>48</td>\n",
       "      <td>34</td>\n",
       "      <td>67</td>\n",
       "      <td>149</td>\n",
       "    </tr>\n",
       "    <tr>\n",
       "      <th>6</th>\n",
       "      <td>yogita</td>\n",
       "      <td>female</td>\n",
       "      <td>mp</td>\n",
       "      <td>39</td>\n",
       "      <td>65</td>\n",
       "      <td>90</td>\n",
       "      <td>194</td>\n",
       "    </tr>\n",
       "    <tr>\n",
       "      <th>7</th>\n",
       "      <td>karan</td>\n",
       "      <td>male</td>\n",
       "      <td>mh</td>\n",
       "      <td>82</td>\n",
       "      <td>78</td>\n",
       "      <td>55</td>\n",
       "      <td>215</td>\n",
       "    </tr>\n",
       "    <tr>\n",
       "      <th>8</th>\n",
       "      <td>jayesh</td>\n",
       "      <td>male</td>\n",
       "      <td>up</td>\n",
       "      <td>87</td>\n",
       "      <td>88</td>\n",
       "      <td>32</td>\n",
       "      <td>207</td>\n",
       "    </tr>\n",
       "    <tr>\n",
       "      <th>9</th>\n",
       "      <td>mangesh</td>\n",
       "      <td>male</td>\n",
       "      <td>mp</td>\n",
       "      <td>91</td>\n",
       "      <td>78</td>\n",
       "      <td>82</td>\n",
       "      <td>251</td>\n",
       "    </tr>\n",
       "    <tr>\n",
       "      <th>10</th>\n",
       "      <td>geeta</td>\n",
       "      <td>female</td>\n",
       "      <td>mh</td>\n",
       "      <td>31</td>\n",
       "      <td>58</td>\n",
       "      <td>78</td>\n",
       "      <td>167</td>\n",
       "    </tr>\n",
       "    <tr>\n",
       "      <th>11</th>\n",
       "      <td>runali</td>\n",
       "      <td>female</td>\n",
       "      <td>up</td>\n",
       "      <td>85</td>\n",
       "      <td>92</td>\n",
       "      <td>66</td>\n",
       "      <td>243</td>\n",
       "    </tr>\n",
       "    <tr>\n",
       "      <th>12</th>\n",
       "      <td>tushar</td>\n",
       "      <td>male</td>\n",
       "      <td>up</td>\n",
       "      <td>32</td>\n",
       "      <td>92</td>\n",
       "      <td>77</td>\n",
       "      <td>201</td>\n",
       "    </tr>\n",
       "    <tr>\n",
       "      <th>13</th>\n",
       "      <td>binod</td>\n",
       "      <td>male</td>\n",
       "      <td>mh</td>\n",
       "      <td>95</td>\n",
       "      <td>78</td>\n",
       "      <td>88</td>\n",
       "      <td>261</td>\n",
       "    </tr>\n",
       "    <tr>\n",
       "      <th>14</th>\n",
       "      <td>sanjay</td>\n",
       "      <td>male</td>\n",
       "      <td>mh</td>\n",
       "      <td>63</td>\n",
       "      <td>90</td>\n",
       "      <td>80</td>\n",
       "      <td>233</td>\n",
       "    </tr>\n",
       "  </tbody>\n",
       "</table>\n",
       "</div>"
      ],
      "text/plain": [
       "       name  gender state  phy  maths  bio  total\n",
       "0     rohan    male    mh   60     90   68    218\n",
       "1    aniket    male    up   52     85   72    209\n",
       "2    ganesh    male    up   45     82   78    205\n",
       "3     meena  female    mp   72     69   80    221\n",
       "4     seema  female    mh   68     90   78    236\n",
       "5    dinesh    male    mp   48     34   67    149\n",
       "6    yogita  female    mp   39     65   90    194\n",
       "7     karan    male    mh   82     78   55    215\n",
       "8    jayesh    male    up   87     88   32    207\n",
       "9   mangesh    male    mp   91     78   82    251\n",
       "10    geeta  female    mh   31     58   78    167\n",
       "11   runali  female    up   85     92   66    243\n",
       "12   tushar    male    up   32     92   77    201\n",
       "13    binod    male    mh   95     78   88    261\n",
       "14   sanjay    male    mh   63     90   80    233"
      ]
     },
     "execution_count": 15,
     "metadata": {},
     "output_type": "execute_result"
    }
   ],
   "source": [
    "df1['total']=df1['phy']+df1['maths']+df1['bio']\n",
    "df1"
   ]
  },
  {
   "cell_type": "markdown",
   "id": "7476093d",
   "metadata": {
    "papermill": {
     "duration": 0.020449,
     "end_time": "2022-06-11T15:13:56.610353",
     "exception": false,
     "start_time": "2022-06-11T15:13:56.589904",
     "status": "completed"
    },
    "tags": []
   },
   "source": [
    "### Calculate percentage of all students\n",
    "* (Total marks / No of subject) * 100\n",
    "* (Total marks / 3) * 100"
   ]
  },
  {
   "cell_type": "code",
   "execution_count": 16,
   "id": "21db3641",
   "metadata": {
    "execution": {
     "iopub.execute_input": "2022-06-11T15:13:56.653612Z",
     "iopub.status.busy": "2022-06-11T15:13:56.652967Z",
     "iopub.status.idle": "2022-06-11T15:13:56.659134Z",
     "shell.execute_reply": "2022-06-11T15:13:56.658312Z"
    },
    "papermill": {
     "duration": 0.030178,
     "end_time": "2022-06-11T15:13:56.661183",
     "exception": false,
     "start_time": "2022-06-11T15:13:56.631005",
     "status": "completed"
    },
    "tags": []
   },
   "outputs": [],
   "source": [
    "df1['per']=(df1['total']/300)*100\n",
    "df1['per']=df1['per'].round(2)"
   ]
  },
  {
   "cell_type": "markdown",
   "id": "701e2e99",
   "metadata": {
    "papermill": {
     "duration": 0.020253,
     "end_time": "2022-06-11T15:13:56.701988",
     "exception": false,
     "start_time": "2022-06-11T15:13:56.681735",
     "status": "completed"
    },
    "tags": []
   },
   "source": [
    "### Construct new feature called Grade :\n",
    "* Calculate grade of each student base on their total marks\n",
    "* marks > 85              ---- O\n",
    "* marks<85 and marks>75   ---- A\n",
    "* marks<75 and marks>65   ---- B\n",
    "* marks<65 and marks>35   ---- C\n",
    "* marks < 35             --- Fail"
   ]
  },
  {
   "cell_type": "markdown",
   "id": "7d04de6a",
   "metadata": {
    "papermill": {
     "duration": 0.020013,
     "end_time": "2022-06-11T15:13:56.742451",
     "exception": false,
     "start_time": "2022-06-11T15:13:56.722438",
     "status": "completed"
    },
    "tags": []
   },
   "source": [
    "### Function for grade"
   ]
  },
  {
   "cell_type": "code",
   "execution_count": 17,
   "id": "7692ed81",
   "metadata": {
    "execution": {
     "iopub.execute_input": "2022-06-11T15:13:56.786007Z",
     "iopub.status.busy": "2022-06-11T15:13:56.785149Z",
     "iopub.status.idle": "2022-06-11T15:13:56.792709Z",
     "shell.execute_reply": "2022-06-11T15:13:56.791782Z"
    },
    "papermill": {
     "duration": 0.032325,
     "end_time": "2022-06-11T15:13:56.795172",
     "exception": false,
     "start_time": "2022-06-11T15:13:56.762847",
     "status": "completed"
    },
    "tags": []
   },
   "outputs": [],
   "source": [
    "def gd(no):\n",
    "    if no>85:\n",
    "        return \"O\"\n",
    "    elif (no<85 and no>75):\n",
    "        return \"A\"\n",
    "    elif (no<75 and no>65):\n",
    "        return \"B\"\n",
    "    elif (no<65 and no>35):\n",
    "        return \"C\"\n",
    "    else:\n",
    "        return \"Fail\"\n",
    "df1['gradee']=df1['per'].apply(gd)"
   ]
  },
  {
   "cell_type": "markdown",
   "id": "8e985dff",
   "metadata": {
    "execution": {
     "iopub.execute_input": "2022-06-11T15:07:54.442495Z",
     "iopub.status.busy": "2022-06-11T15:07:54.441786Z",
     "iopub.status.idle": "2022-06-11T15:07:54.454508Z",
     "shell.execute_reply": "2022-06-11T15:07:54.453272Z",
     "shell.execute_reply.started": "2022-06-11T15:07:54.442452Z"
    },
    "papermill": {
     "duration": 0.020504,
     "end_time": "2022-06-11T15:13:56.836486",
     "exception": false,
     "start_time": "2022-06-11T15:13:56.815982",
     "status": "completed"
    },
    "tags": []
   },
   "source": [
    "#List comprehension\n",
    "* df1['grade']=[\"A\" if x>85 else \"B\" if (x<85 and x>75) else \"C\" if (x<75 and x>65) else \"D\" for x in df1['per']]"
   ]
  },
  {
   "cell_type": "markdown",
   "id": "5692545a",
   "metadata": {
    "papermill": {
     "duration": 0.020328,
     "end_time": "2022-06-11T15:13:56.877647",
     "exception": false,
     "start_time": "2022-06-11T15:13:56.857319",
     "status": "completed"
    },
    "tags": []
   },
   "source": [
    "### Consrtuct new feature result \n",
    "* student is pass only if he/she is passed all subject"
   ]
  },
  {
   "cell_type": "code",
   "execution_count": 18,
   "id": "3da3eb42",
   "metadata": {
    "execution": {
     "iopub.execute_input": "2022-06-11T15:13:56.921717Z",
     "iopub.status.busy": "2022-06-11T15:13:56.920629Z",
     "iopub.status.idle": "2022-06-11T15:13:56.933348Z",
     "shell.execute_reply": "2022-06-11T15:13:56.932474Z"
    },
    "papermill": {
     "duration": 0.036999,
     "end_time": "2022-06-11T15:13:56.935521",
     "exception": false,
     "start_time": "2022-06-11T15:13:56.898522",
     "status": "completed"
    },
    "tags": []
   },
   "outputs": [
    {
     "name": "stdout",
     "output_type": "stream",
     "text": [
      "[(60, 90, 68), (52, 85, 72), (45, 82, 78), (72, 69, 80), (68, 90, 78), (48, 34, 67), (39, 65, 90), (82, 78, 55), (87, 88, 32), (91, 78, 82), (31, 58, 78), (85, 92, 66), (32, 92, 77), (95, 78, 88), (63, 90, 80)]\n"
     ]
    }
   ],
   "source": [
    "df1['result']=''\n",
    "a= list(zip(df1['phy'],df1['maths'],df1['bio']))\n",
    "print(a)\n",
    "for i,v in enumerate(a):\n",
    "    if v[0]>35 and v[1]>35 and v[2]>35:\n",
    "        df1['result'][i]=\"Pass\"\n",
    "    else:\n",
    "        df1['result'][i]=\"Fail\""
   ]
  },
  {
   "cell_type": "code",
   "execution_count": 19,
   "id": "874733c7",
   "metadata": {
    "execution": {
     "iopub.execute_input": "2022-06-11T15:13:56.978992Z",
     "iopub.status.busy": "2022-06-11T15:13:56.978430Z",
     "iopub.status.idle": "2022-06-11T15:13:56.982964Z",
     "shell.execute_reply": "2022-06-11T15:13:56.982242Z"
    },
    "papermill": {
     "duration": 0.02853,
     "end_time": "2022-06-11T15:13:56.985049",
     "exception": false,
     "start_time": "2022-06-11T15:13:56.956519",
     "status": "completed"
    },
    "tags": []
   },
   "outputs": [],
   "source": [
    "df1.rename(columns={'gradee':\"grade\"},inplace=True)"
   ]
  },
  {
   "cell_type": "code",
   "execution_count": 20,
   "id": "2f627f02",
   "metadata": {
    "execution": {
     "iopub.execute_input": "2022-06-11T15:13:57.029353Z",
     "iopub.status.busy": "2022-06-11T15:13:57.028622Z",
     "iopub.status.idle": "2022-06-11T15:13:57.045103Z",
     "shell.execute_reply": "2022-06-11T15:13:57.044398Z"
    },
    "papermill": {
     "duration": 0.041282,
     "end_time": "2022-06-11T15:13:57.046997",
     "exception": false,
     "start_time": "2022-06-11T15:13:57.005715",
     "status": "completed"
    },
    "tags": []
   },
   "outputs": [
    {
     "data": {
      "text/html": [
       "<div>\n",
       "<style scoped>\n",
       "    .dataframe tbody tr th:only-of-type {\n",
       "        vertical-align: middle;\n",
       "    }\n",
       "\n",
       "    .dataframe tbody tr th {\n",
       "        vertical-align: top;\n",
       "    }\n",
       "\n",
       "    .dataframe thead th {\n",
       "        text-align: right;\n",
       "    }\n",
       "</style>\n",
       "<table border=\"1\" class=\"dataframe\">\n",
       "  <thead>\n",
       "    <tr style=\"text-align: right;\">\n",
       "      <th></th>\n",
       "      <th>name</th>\n",
       "      <th>gender</th>\n",
       "      <th>state</th>\n",
       "      <th>phy</th>\n",
       "      <th>maths</th>\n",
       "      <th>bio</th>\n",
       "      <th>total</th>\n",
       "      <th>per</th>\n",
       "      <th>grade</th>\n",
       "      <th>result</th>\n",
       "    </tr>\n",
       "  </thead>\n",
       "  <tbody>\n",
       "    <tr>\n",
       "      <th>0</th>\n",
       "      <td>rohan</td>\n",
       "      <td>male</td>\n",
       "      <td>mh</td>\n",
       "      <td>60</td>\n",
       "      <td>90</td>\n",
       "      <td>68</td>\n",
       "      <td>218</td>\n",
       "      <td>72.67</td>\n",
       "      <td>B</td>\n",
       "      <td>Pass</td>\n",
       "    </tr>\n",
       "    <tr>\n",
       "      <th>1</th>\n",
       "      <td>aniket</td>\n",
       "      <td>male</td>\n",
       "      <td>up</td>\n",
       "      <td>52</td>\n",
       "      <td>85</td>\n",
       "      <td>72</td>\n",
       "      <td>209</td>\n",
       "      <td>69.67</td>\n",
       "      <td>B</td>\n",
       "      <td>Pass</td>\n",
       "    </tr>\n",
       "    <tr>\n",
       "      <th>2</th>\n",
       "      <td>ganesh</td>\n",
       "      <td>male</td>\n",
       "      <td>up</td>\n",
       "      <td>45</td>\n",
       "      <td>82</td>\n",
       "      <td>78</td>\n",
       "      <td>205</td>\n",
       "      <td>68.33</td>\n",
       "      <td>B</td>\n",
       "      <td>Pass</td>\n",
       "    </tr>\n",
       "    <tr>\n",
       "      <th>3</th>\n",
       "      <td>meena</td>\n",
       "      <td>female</td>\n",
       "      <td>mp</td>\n",
       "      <td>72</td>\n",
       "      <td>69</td>\n",
       "      <td>80</td>\n",
       "      <td>221</td>\n",
       "      <td>73.67</td>\n",
       "      <td>B</td>\n",
       "      <td>Pass</td>\n",
       "    </tr>\n",
       "    <tr>\n",
       "      <th>4</th>\n",
       "      <td>seema</td>\n",
       "      <td>female</td>\n",
       "      <td>mh</td>\n",
       "      <td>68</td>\n",
       "      <td>90</td>\n",
       "      <td>78</td>\n",
       "      <td>236</td>\n",
       "      <td>78.67</td>\n",
       "      <td>A</td>\n",
       "      <td>Pass</td>\n",
       "    </tr>\n",
       "    <tr>\n",
       "      <th>5</th>\n",
       "      <td>dinesh</td>\n",
       "      <td>male</td>\n",
       "      <td>mp</td>\n",
       "      <td>48</td>\n",
       "      <td>34</td>\n",
       "      <td>67</td>\n",
       "      <td>149</td>\n",
       "      <td>49.67</td>\n",
       "      <td>C</td>\n",
       "      <td>Fail</td>\n",
       "    </tr>\n",
       "    <tr>\n",
       "      <th>6</th>\n",
       "      <td>yogita</td>\n",
       "      <td>female</td>\n",
       "      <td>mp</td>\n",
       "      <td>39</td>\n",
       "      <td>65</td>\n",
       "      <td>90</td>\n",
       "      <td>194</td>\n",
       "      <td>64.67</td>\n",
       "      <td>C</td>\n",
       "      <td>Pass</td>\n",
       "    </tr>\n",
       "    <tr>\n",
       "      <th>7</th>\n",
       "      <td>karan</td>\n",
       "      <td>male</td>\n",
       "      <td>mh</td>\n",
       "      <td>82</td>\n",
       "      <td>78</td>\n",
       "      <td>55</td>\n",
       "      <td>215</td>\n",
       "      <td>71.67</td>\n",
       "      <td>B</td>\n",
       "      <td>Pass</td>\n",
       "    </tr>\n",
       "    <tr>\n",
       "      <th>8</th>\n",
       "      <td>jayesh</td>\n",
       "      <td>male</td>\n",
       "      <td>up</td>\n",
       "      <td>87</td>\n",
       "      <td>88</td>\n",
       "      <td>32</td>\n",
       "      <td>207</td>\n",
       "      <td>69.00</td>\n",
       "      <td>B</td>\n",
       "      <td>Fail</td>\n",
       "    </tr>\n",
       "    <tr>\n",
       "      <th>9</th>\n",
       "      <td>mangesh</td>\n",
       "      <td>male</td>\n",
       "      <td>mp</td>\n",
       "      <td>91</td>\n",
       "      <td>78</td>\n",
       "      <td>82</td>\n",
       "      <td>251</td>\n",
       "      <td>83.67</td>\n",
       "      <td>A</td>\n",
       "      <td>Pass</td>\n",
       "    </tr>\n",
       "    <tr>\n",
       "      <th>10</th>\n",
       "      <td>geeta</td>\n",
       "      <td>female</td>\n",
       "      <td>mh</td>\n",
       "      <td>31</td>\n",
       "      <td>58</td>\n",
       "      <td>78</td>\n",
       "      <td>167</td>\n",
       "      <td>55.67</td>\n",
       "      <td>C</td>\n",
       "      <td>Fail</td>\n",
       "    </tr>\n",
       "    <tr>\n",
       "      <th>11</th>\n",
       "      <td>runali</td>\n",
       "      <td>female</td>\n",
       "      <td>up</td>\n",
       "      <td>85</td>\n",
       "      <td>92</td>\n",
       "      <td>66</td>\n",
       "      <td>243</td>\n",
       "      <td>81.00</td>\n",
       "      <td>A</td>\n",
       "      <td>Pass</td>\n",
       "    </tr>\n",
       "    <tr>\n",
       "      <th>12</th>\n",
       "      <td>tushar</td>\n",
       "      <td>male</td>\n",
       "      <td>up</td>\n",
       "      <td>32</td>\n",
       "      <td>92</td>\n",
       "      <td>77</td>\n",
       "      <td>201</td>\n",
       "      <td>67.00</td>\n",
       "      <td>B</td>\n",
       "      <td>Fail</td>\n",
       "    </tr>\n",
       "    <tr>\n",
       "      <th>13</th>\n",
       "      <td>binod</td>\n",
       "      <td>male</td>\n",
       "      <td>mh</td>\n",
       "      <td>95</td>\n",
       "      <td>78</td>\n",
       "      <td>88</td>\n",
       "      <td>261</td>\n",
       "      <td>87.00</td>\n",
       "      <td>O</td>\n",
       "      <td>Pass</td>\n",
       "    </tr>\n",
       "    <tr>\n",
       "      <th>14</th>\n",
       "      <td>sanjay</td>\n",
       "      <td>male</td>\n",
       "      <td>mh</td>\n",
       "      <td>63</td>\n",
       "      <td>90</td>\n",
       "      <td>80</td>\n",
       "      <td>233</td>\n",
       "      <td>77.67</td>\n",
       "      <td>A</td>\n",
       "      <td>Pass</td>\n",
       "    </tr>\n",
       "  </tbody>\n",
       "</table>\n",
       "</div>"
      ],
      "text/plain": [
       "       name  gender state  phy  maths  bio  total    per grade result\n",
       "0     rohan    male    mh   60     90   68    218  72.67     B   Pass\n",
       "1    aniket    male    up   52     85   72    209  69.67     B   Pass\n",
       "2    ganesh    male    up   45     82   78    205  68.33     B   Pass\n",
       "3     meena  female    mp   72     69   80    221  73.67     B   Pass\n",
       "4     seema  female    mh   68     90   78    236  78.67     A   Pass\n",
       "5    dinesh    male    mp   48     34   67    149  49.67     C   Fail\n",
       "6    yogita  female    mp   39     65   90    194  64.67     C   Pass\n",
       "7     karan    male    mh   82     78   55    215  71.67     B   Pass\n",
       "8    jayesh    male    up   87     88   32    207  69.00     B   Fail\n",
       "9   mangesh    male    mp   91     78   82    251  83.67     A   Pass\n",
       "10    geeta  female    mh   31     58   78    167  55.67     C   Fail\n",
       "11   runali  female    up   85     92   66    243  81.00     A   Pass\n",
       "12   tushar    male    up   32     92   77    201  67.00     B   Fail\n",
       "13    binod    male    mh   95     78   88    261  87.00     O   Pass\n",
       "14   sanjay    male    mh   63     90   80    233  77.67     A   Pass"
      ]
     },
     "execution_count": 20,
     "metadata": {},
     "output_type": "execute_result"
    }
   ],
   "source": [
    "df1\n"
   ]
  },
  {
   "cell_type": "code",
   "execution_count": 21,
   "id": "a41e4e51",
   "metadata": {
    "execution": {
     "iopub.execute_input": "2022-06-11T15:13:57.091698Z",
     "iopub.status.busy": "2022-06-11T15:13:57.091148Z",
     "iopub.status.idle": "2022-06-11T15:13:57.097515Z",
     "shell.execute_reply": "2022-06-11T15:13:57.096685Z"
    },
    "papermill": {
     "duration": 0.031055,
     "end_time": "2022-06-11T15:13:57.099614",
     "exception": false,
     "start_time": "2022-06-11T15:13:57.068559",
     "status": "completed"
    },
    "tags": []
   },
   "outputs": [],
   "source": [
    "for i,j in enumerate(df1['result']):\n",
    "    if j=='Fail':\n",
    "        df1['grade'][i]='Fail'\n",
    "    continue"
   ]
  },
  {
   "cell_type": "code",
   "execution_count": 22,
   "id": "3c53791f",
   "metadata": {
    "execution": {
     "iopub.execute_input": "2022-06-11T15:13:57.144691Z",
     "iopub.status.busy": "2022-06-11T15:13:57.144147Z",
     "iopub.status.idle": "2022-06-11T15:13:57.150587Z",
     "shell.execute_reply": "2022-06-11T15:13:57.149638Z"
    },
    "papermill": {
     "duration": 0.031108,
     "end_time": "2022-06-11T15:13:57.152496",
     "exception": false,
     "start_time": "2022-06-11T15:13:57.121388",
     "status": "completed"
    },
    "tags": []
   },
   "outputs": [
    {
     "data": {
      "text/plain": [
       "array([ 24.,  43.,  62.,  81., 100.])"
      ]
     },
     "execution_count": 22,
     "metadata": {},
     "output_type": "execute_result"
    }
   ],
   "source": [
    "bn = np.linspace(24,100,5)\n",
    "bn"
   ]
  },
  {
   "cell_type": "code",
   "execution_count": 23,
   "id": "a54c241c",
   "metadata": {
    "execution": {
     "iopub.execute_input": "2022-06-11T15:13:57.197356Z",
     "iopub.status.busy": "2022-06-11T15:13:57.196738Z",
     "iopub.status.idle": "2022-06-11T15:13:57.213220Z",
     "shell.execute_reply": "2022-06-11T15:13:57.212346Z"
    },
    "papermill": {
     "duration": 0.041125,
     "end_time": "2022-06-11T15:13:57.215227",
     "exception": false,
     "start_time": "2022-06-11T15:13:57.174102",
     "status": "completed"
    },
    "tags": []
   },
   "outputs": [
    {
     "data": {
      "text/html": [
       "<div>\n",
       "<style scoped>\n",
       "    .dataframe tbody tr th:only-of-type {\n",
       "        vertical-align: middle;\n",
       "    }\n",
       "\n",
       "    .dataframe tbody tr th {\n",
       "        vertical-align: top;\n",
       "    }\n",
       "\n",
       "    .dataframe thead th {\n",
       "        text-align: right;\n",
       "    }\n",
       "</style>\n",
       "<table border=\"1\" class=\"dataframe\">\n",
       "  <thead>\n",
       "    <tr style=\"text-align: right;\">\n",
       "      <th></th>\n",
       "      <th>name</th>\n",
       "      <th>gender</th>\n",
       "      <th>state</th>\n",
       "      <th>phy</th>\n",
       "      <th>maths</th>\n",
       "      <th>bio</th>\n",
       "      <th>total</th>\n",
       "      <th>per</th>\n",
       "      <th>grade</th>\n",
       "      <th>result</th>\n",
       "    </tr>\n",
       "  </thead>\n",
       "  <tbody>\n",
       "    <tr>\n",
       "      <th>0</th>\n",
       "      <td>rohan</td>\n",
       "      <td>male</td>\n",
       "      <td>mh</td>\n",
       "      <td>60</td>\n",
       "      <td>90</td>\n",
       "      <td>68</td>\n",
       "      <td>218</td>\n",
       "      <td>72.67</td>\n",
       "      <td>B</td>\n",
       "      <td>Pass</td>\n",
       "    </tr>\n",
       "    <tr>\n",
       "      <th>1</th>\n",
       "      <td>aniket</td>\n",
       "      <td>male</td>\n",
       "      <td>up</td>\n",
       "      <td>52</td>\n",
       "      <td>85</td>\n",
       "      <td>72</td>\n",
       "      <td>209</td>\n",
       "      <td>69.67</td>\n",
       "      <td>B</td>\n",
       "      <td>Pass</td>\n",
       "    </tr>\n",
       "    <tr>\n",
       "      <th>2</th>\n",
       "      <td>ganesh</td>\n",
       "      <td>male</td>\n",
       "      <td>up</td>\n",
       "      <td>45</td>\n",
       "      <td>82</td>\n",
       "      <td>78</td>\n",
       "      <td>205</td>\n",
       "      <td>68.33</td>\n",
       "      <td>B</td>\n",
       "      <td>Pass</td>\n",
       "    </tr>\n",
       "    <tr>\n",
       "      <th>3</th>\n",
       "      <td>meena</td>\n",
       "      <td>female</td>\n",
       "      <td>mp</td>\n",
       "      <td>72</td>\n",
       "      <td>69</td>\n",
       "      <td>80</td>\n",
       "      <td>221</td>\n",
       "      <td>73.67</td>\n",
       "      <td>B</td>\n",
       "      <td>Pass</td>\n",
       "    </tr>\n",
       "    <tr>\n",
       "      <th>4</th>\n",
       "      <td>seema</td>\n",
       "      <td>female</td>\n",
       "      <td>mh</td>\n",
       "      <td>68</td>\n",
       "      <td>90</td>\n",
       "      <td>78</td>\n",
       "      <td>236</td>\n",
       "      <td>78.67</td>\n",
       "      <td>A</td>\n",
       "      <td>Pass</td>\n",
       "    </tr>\n",
       "    <tr>\n",
       "      <th>5</th>\n",
       "      <td>dinesh</td>\n",
       "      <td>male</td>\n",
       "      <td>mp</td>\n",
       "      <td>48</td>\n",
       "      <td>34</td>\n",
       "      <td>67</td>\n",
       "      <td>149</td>\n",
       "      <td>49.67</td>\n",
       "      <td>Fail</td>\n",
       "      <td>Fail</td>\n",
       "    </tr>\n",
       "    <tr>\n",
       "      <th>6</th>\n",
       "      <td>yogita</td>\n",
       "      <td>female</td>\n",
       "      <td>mp</td>\n",
       "      <td>39</td>\n",
       "      <td>65</td>\n",
       "      <td>90</td>\n",
       "      <td>194</td>\n",
       "      <td>64.67</td>\n",
       "      <td>C</td>\n",
       "      <td>Pass</td>\n",
       "    </tr>\n",
       "    <tr>\n",
       "      <th>7</th>\n",
       "      <td>karan</td>\n",
       "      <td>male</td>\n",
       "      <td>mh</td>\n",
       "      <td>82</td>\n",
       "      <td>78</td>\n",
       "      <td>55</td>\n",
       "      <td>215</td>\n",
       "      <td>71.67</td>\n",
       "      <td>B</td>\n",
       "      <td>Pass</td>\n",
       "    </tr>\n",
       "    <tr>\n",
       "      <th>8</th>\n",
       "      <td>jayesh</td>\n",
       "      <td>male</td>\n",
       "      <td>up</td>\n",
       "      <td>87</td>\n",
       "      <td>88</td>\n",
       "      <td>32</td>\n",
       "      <td>207</td>\n",
       "      <td>69.00</td>\n",
       "      <td>Fail</td>\n",
       "      <td>Fail</td>\n",
       "    </tr>\n",
       "    <tr>\n",
       "      <th>9</th>\n",
       "      <td>mangesh</td>\n",
       "      <td>male</td>\n",
       "      <td>mp</td>\n",
       "      <td>91</td>\n",
       "      <td>78</td>\n",
       "      <td>82</td>\n",
       "      <td>251</td>\n",
       "      <td>83.67</td>\n",
       "      <td>A</td>\n",
       "      <td>Pass</td>\n",
       "    </tr>\n",
       "    <tr>\n",
       "      <th>10</th>\n",
       "      <td>geeta</td>\n",
       "      <td>female</td>\n",
       "      <td>mh</td>\n",
       "      <td>31</td>\n",
       "      <td>58</td>\n",
       "      <td>78</td>\n",
       "      <td>167</td>\n",
       "      <td>55.67</td>\n",
       "      <td>Fail</td>\n",
       "      <td>Fail</td>\n",
       "    </tr>\n",
       "    <tr>\n",
       "      <th>11</th>\n",
       "      <td>runali</td>\n",
       "      <td>female</td>\n",
       "      <td>up</td>\n",
       "      <td>85</td>\n",
       "      <td>92</td>\n",
       "      <td>66</td>\n",
       "      <td>243</td>\n",
       "      <td>81.00</td>\n",
       "      <td>A</td>\n",
       "      <td>Pass</td>\n",
       "    </tr>\n",
       "    <tr>\n",
       "      <th>12</th>\n",
       "      <td>tushar</td>\n",
       "      <td>male</td>\n",
       "      <td>up</td>\n",
       "      <td>32</td>\n",
       "      <td>92</td>\n",
       "      <td>77</td>\n",
       "      <td>201</td>\n",
       "      <td>67.00</td>\n",
       "      <td>Fail</td>\n",
       "      <td>Fail</td>\n",
       "    </tr>\n",
       "    <tr>\n",
       "      <th>13</th>\n",
       "      <td>binod</td>\n",
       "      <td>male</td>\n",
       "      <td>mh</td>\n",
       "      <td>95</td>\n",
       "      <td>78</td>\n",
       "      <td>88</td>\n",
       "      <td>261</td>\n",
       "      <td>87.00</td>\n",
       "      <td>O</td>\n",
       "      <td>Pass</td>\n",
       "    </tr>\n",
       "    <tr>\n",
       "      <th>14</th>\n",
       "      <td>sanjay</td>\n",
       "      <td>male</td>\n",
       "      <td>mh</td>\n",
       "      <td>63</td>\n",
       "      <td>90</td>\n",
       "      <td>80</td>\n",
       "      <td>233</td>\n",
       "      <td>77.67</td>\n",
       "      <td>A</td>\n",
       "      <td>Pass</td>\n",
       "    </tr>\n",
       "  </tbody>\n",
       "</table>\n",
       "</div>"
      ],
      "text/plain": [
       "       name  gender state  phy  maths  bio  total    per grade result\n",
       "0     rohan    male    mh   60     90   68    218  72.67     B   Pass\n",
       "1    aniket    male    up   52     85   72    209  69.67     B   Pass\n",
       "2    ganesh    male    up   45     82   78    205  68.33     B   Pass\n",
       "3     meena  female    mp   72     69   80    221  73.67     B   Pass\n",
       "4     seema  female    mh   68     90   78    236  78.67     A   Pass\n",
       "5    dinesh    male    mp   48     34   67    149  49.67  Fail   Fail\n",
       "6    yogita  female    mp   39     65   90    194  64.67     C   Pass\n",
       "7     karan    male    mh   82     78   55    215  71.67     B   Pass\n",
       "8    jayesh    male    up   87     88   32    207  69.00  Fail   Fail\n",
       "9   mangesh    male    mp   91     78   82    251  83.67     A   Pass\n",
       "10    geeta  female    mh   31     58   78    167  55.67  Fail   Fail\n",
       "11   runali  female    up   85     92   66    243  81.00     A   Pass\n",
       "12   tushar    male    up   32     92   77    201  67.00  Fail   Fail\n",
       "13    binod    male    mh   95     78   88    261  87.00     O   Pass\n",
       "14   sanjay    male    mh   63     90   80    233  77.67     A   Pass"
      ]
     },
     "execution_count": 23,
     "metadata": {},
     "output_type": "execute_result"
    }
   ],
   "source": [
    "df1"
   ]
  },
  {
   "cell_type": "markdown",
   "id": "aa9401ca",
   "metadata": {
    "papermill": {
     "duration": 0.021451,
     "end_time": "2022-06-11T15:13:57.258989",
     "exception": false,
     "start_time": "2022-06-11T15:13:57.237538",
     "status": "completed"
    },
    "tags": []
   },
   "source": [
    "### Data Distribution of per"
   ]
  },
  {
   "cell_type": "code",
   "execution_count": 24,
   "id": "c22919a5",
   "metadata": {
    "execution": {
     "iopub.execute_input": "2022-06-11T15:13:57.304361Z",
     "iopub.status.busy": "2022-06-11T15:13:57.303804Z",
     "iopub.status.idle": "2022-06-11T15:13:57.563877Z",
     "shell.execute_reply": "2022-06-11T15:13:57.562882Z"
    },
    "papermill": {
     "duration": 0.285387,
     "end_time": "2022-06-11T15:13:57.566172",
     "exception": false,
     "start_time": "2022-06-11T15:13:57.280785",
     "status": "completed"
    },
    "tags": []
   },
   "outputs": [
    {
     "data": {
      "text/plain": [
       "<AxesSubplot:xlabel='per', ylabel='Density'>"
      ]
     },
     "execution_count": 24,
     "metadata": {},
     "output_type": "execute_result"
    },
    {
     "data": {
      "image/png": "[encoded data removed]",
      "text/plain": [
       "<Figure size 1080x648 with 1 Axes>"
      ]
     },
     "metadata": {
      "needs_background": "light"
     },
     "output_type": "display_data"
    }
   ],
   "source": [
    "plt.figure(figsize=(15,9))   \n",
    "sns.distplot(df1['per'],bins=bn,kde_kws={'linewidth':4,'color':'red','label':'before_modify'})"
   ]
  },
  {
   "cell_type": "markdown",
   "id": "1843c1df",
   "metadata": {
    "papermill": {
     "duration": 0.022332,
     "end_time": "2022-06-11T15:13:57.611079",
     "exception": false,
     "start_time": "2022-06-11T15:13:57.588747",
     "status": "completed"
    },
    "tags": []
   },
   "source": [
    "### statement\n",
    "* as seen here average percentages of student is around 75"
   ]
  },
  {
   "cell_type": "markdown",
   "id": "2c69704b",
   "metadata": {
    "papermill": {
     "duration": 0.022342,
     "end_time": "2022-06-11T15:13:57.656039",
     "exception": false,
     "start_time": "2022-06-11T15:13:57.633697",
     "status": "completed"
    },
    "tags": []
   },
   "source": [
    "### Statistical Info of all subject columns"
   ]
  },
  {
   "cell_type": "code",
   "execution_count": 25,
   "id": "e121b3a6",
   "metadata": {
    "execution": {
     "iopub.execute_input": "2022-06-11T15:13:57.703655Z",
     "iopub.status.busy": "2022-06-11T15:13:57.702982Z",
     "iopub.status.idle": "2022-06-11T15:13:57.722876Z",
     "shell.execute_reply": "2022-06-11T15:13:57.722218Z"
    },
    "papermill": {
     "duration": 0.04609,
     "end_time": "2022-06-11T15:13:57.724768",
     "exception": false,
     "start_time": "2022-06-11T15:13:57.678678",
     "status": "completed"
    },
    "tags": []
   },
   "outputs": [
    {
     "data": {
      "text/html": [
       "<div>\n",
       "<style scoped>\n",
       "    .dataframe tbody tr th:only-of-type {\n",
       "        vertical-align: middle;\n",
       "    }\n",
       "\n",
       "    .dataframe tbody tr th {\n",
       "        vertical-align: top;\n",
       "    }\n",
       "\n",
       "    .dataframe thead th {\n",
       "        text-align: right;\n",
       "    }\n",
       "</style>\n",
       "<table border=\"1\" class=\"dataframe\">\n",
       "  <thead>\n",
       "    <tr style=\"text-align: right;\">\n",
       "      <th></th>\n",
       "      <th>phy</th>\n",
       "      <th>maths</th>\n",
       "      <th>bio</th>\n",
       "    </tr>\n",
       "  </thead>\n",
       "  <tbody>\n",
       "    <tr>\n",
       "      <th>count</th>\n",
       "      <td>15.000000</td>\n",
       "      <td>15.000000</td>\n",
       "      <td>15.000000</td>\n",
       "    </tr>\n",
       "    <tr>\n",
       "      <th>mean</th>\n",
       "      <td>63.333333</td>\n",
       "      <td>77.933333</td>\n",
       "      <td>72.733333</td>\n",
       "    </tr>\n",
       "    <tr>\n",
       "      <th>std</th>\n",
       "      <td>21.668498</td>\n",
       "      <td>15.979749</td>\n",
       "      <td>14.389811</td>\n",
       "    </tr>\n",
       "    <tr>\n",
       "      <th>min</th>\n",
       "      <td>31.000000</td>\n",
       "      <td>34.000000</td>\n",
       "      <td>32.000000</td>\n",
       "    </tr>\n",
       "    <tr>\n",
       "      <th>25%</th>\n",
       "      <td>46.500000</td>\n",
       "      <td>73.500000</td>\n",
       "      <td>67.500000</td>\n",
       "    </tr>\n",
       "    <tr>\n",
       "      <th>50%</th>\n",
       "      <td>63.000000</td>\n",
       "      <td>82.000000</td>\n",
       "      <td>78.000000</td>\n",
       "    </tr>\n",
       "    <tr>\n",
       "      <th>75%</th>\n",
       "      <td>83.500000</td>\n",
       "      <td>90.000000</td>\n",
       "      <td>80.000000</td>\n",
       "    </tr>\n",
       "    <tr>\n",
       "      <th>max</th>\n",
       "      <td>95.000000</td>\n",
       "      <td>92.000000</td>\n",
       "      <td>90.000000</td>\n",
       "    </tr>\n",
       "  </tbody>\n",
       "</table>\n",
       "</div>"
      ],
      "text/plain": [
       "             phy      maths        bio\n",
       "count  15.000000  15.000000  15.000000\n",
       "mean   63.333333  77.933333  72.733333\n",
       "std    21.668498  15.979749  14.389811\n",
       "min    31.000000  34.000000  32.000000\n",
       "25%    46.500000  73.500000  67.500000\n",
       "50%    63.000000  82.000000  78.000000\n",
       "75%    83.500000  90.000000  80.000000\n",
       "max    95.000000  92.000000  90.000000"
      ]
     },
     "execution_count": 25,
     "metadata": {},
     "output_type": "execute_result"
    }
   ],
   "source": [
    "df1[['phy','maths','bio']].describe()"
   ]
  },
  {
   "cell_type": "markdown",
   "id": "e0d28fc5",
   "metadata": {
    "papermill": {
     "duration": 0.022062,
     "end_time": "2022-06-11T15:13:57.769506",
     "exception": false,
     "start_time": "2022-06-11T15:13:57.747444",
     "status": "completed"
    },
    "tags": []
   },
   "source": [
    "### All subjects marks distribution"
   ]
  },
  {
   "cell_type": "code",
   "execution_count": 26,
   "id": "0f5269c4",
   "metadata": {
    "execution": {
     "iopub.execute_input": "2022-06-11T15:13:57.816361Z",
     "iopub.status.busy": "2022-06-11T15:13:57.815682Z",
     "iopub.status.idle": "2022-06-11T15:13:58.099400Z",
     "shell.execute_reply": "2022-06-11T15:13:58.098702Z"
    },
    "papermill": {
     "duration": 0.309819,
     "end_time": "2022-06-11T15:13:58.101791",
     "exception": false,
     "start_time": "2022-06-11T15:13:57.791972",
     "status": "completed"
    },
    "tags": []
   },
   "outputs": [
    {
     "name": "stdout",
     "output_type": "stream",
     "text": [
      "Green : Maths\n",
      "Red : Phy\n",
      "Black : Bio\n"
     ]
    },
    {
     "data": {
      "text/plain": [
       "<AxesSubplot:xlabel='bio', ylabel='Density'>"
      ]
     },
     "execution_count": 26,
     "metadata": {},
     "output_type": "execute_result"
    },
    {
     "data": {
      "image/png": "[encoded data removed]",
      "text/plain": [
       "<Figure size 1080x648 with 1 Axes>"
      ]
     },
     "metadata": {
      "needs_background": "light"
     },
     "output_type": "display_data"
    }
   ],
   "source": [
    "print(\"Green : Maths\")\n",
    "print(\"Red : Phy\")\n",
    "print(\"Black : Bio\")\n",
    "plt.figure(figsize=(15,9))   \n",
    "sns.distplot(df1['phy'],bins=bn,kde_kws={'linewidth':4,'color':'red'})\n",
    "sns.distplot(df1['maths'],bins=bn,kde_kws={'linewidth':4,'color':'green'})\n",
    "sns.distplot(df1['bio'],bins=bn,kde_kws={'linewidth':4,'color':'k'})"
   ]
  },
  {
   "cell_type": "markdown",
   "id": "74183779",
   "metadata": {
    "papermill": {
     "duration": 0.023624,
     "end_time": "2022-06-11T15:13:58.149541",
     "exception": false,
     "start_time": "2022-06-11T15:13:58.125917",
     "status": "completed"
    },
    "tags": []
   },
   "source": [
    "### statement\n",
    "* as seen here data distribution is almost normal except phy marks"
   ]
  },
  {
   "cell_type": "markdown",
   "id": "23dbf3c1",
   "metadata": {
    "papermill": {
     "duration": 0.024405,
     "end_time": "2022-06-11T15:13:58.197930",
     "exception": false,
     "start_time": "2022-06-11T15:13:58.173525",
     "status": "completed"
    },
    "tags": []
   },
   "source": [
    "### Box Plot : To Detect Outliers\n",
    "* A boxplot is a standardized way of displaying the distribution of data based on a five number summary (“minimum”, first quartile (Q1), median, third quartile (Q3), and “maximum”). It can tell you about your outliers and what their values are. It can also tell you if your data is symmetrical, how tightly your data is grouped, and if and how your data is skewed."
   ]
  },
  {
   "cell_type": "code",
   "execution_count": 27,
   "id": "48a13a49",
   "metadata": {
    "execution": {
     "iopub.execute_input": "2022-06-11T15:13:58.249407Z",
     "iopub.status.busy": "2022-06-11T15:13:58.248723Z",
     "iopub.status.idle": "2022-06-11T15:13:58.602554Z",
     "shell.execute_reply": "2022-06-11T15:13:58.601195Z"
    },
    "papermill": {
     "duration": 0.381752,
     "end_time": "2022-06-11T15:13:58.604977",
     "exception": false,
     "start_time": "2022-06-11T15:13:58.223225",
     "status": "completed"
    },
    "tags": []
   },
   "outputs": [
    {
     "name": "stdout",
     "output_type": "stream",
     "text": [
      "0 phy\n",
      "1 maths\n",
      "2 bio\n"
     ]
    },
    {
     "data": {
      "image/png": "[encoded data removed]",
      "text/plain": [
       "<Figure size 1296x504 with 3 Axes>"
      ]
     },
     "metadata": {
      "needs_background": "light"
     },
     "output_type": "display_data"
    }
   ],
   "source": [
    "col=['phy', 'maths', 'bio'] #Create a list of input columns\n",
    "plt.figure(figsize=(18,7))\n",
    "for i,v in enumerate(col):\n",
    "    print(i,v)\n",
    "    plt.subplot(2,2,i+1)\n",
    "    sns.boxplot(x=v, data=df1)\n",
    "plt.show()"
   ]
  },
  {
   "cell_type": "markdown",
   "id": "de943065",
   "metadata": {
    "papermill": {
     "duration": 0.03977,
     "end_time": "2022-06-11T15:13:58.670158",
     "exception": false,
     "start_time": "2022-06-11T15:13:58.630388",
     "status": "completed"
    },
    "tags": []
   },
   "source": [
    "### Statement:\n",
    "* In Bio and maths 2 students got very much less marks 32"
   ]
  },
  {
   "cell_type": "code",
   "execution_count": 28,
   "id": "881b5cb9",
   "metadata": {
    "execution": {
     "iopub.execute_input": "2022-06-11T15:13:58.723023Z",
     "iopub.status.busy": "2022-06-11T15:13:58.722576Z",
     "iopub.status.idle": "2022-06-11T15:13:58.742770Z",
     "shell.execute_reply": "2022-06-11T15:13:58.741588Z"
    },
    "papermill": {
     "duration": 0.050262,
     "end_time": "2022-06-11T15:13:58.744921",
     "exception": false,
     "start_time": "2022-06-11T15:13:58.694659",
     "status": "completed"
    },
    "tags": []
   },
   "outputs": [
    {
     "data": {
      "text/html": [
       "<div>\n",
       "<style scoped>\n",
       "    .dataframe tbody tr th:only-of-type {\n",
       "        vertical-align: middle;\n",
       "    }\n",
       "\n",
       "    .dataframe tbody tr th {\n",
       "        vertical-align: top;\n",
       "    }\n",
       "\n",
       "    .dataframe thead th {\n",
       "        text-align: right;\n",
       "    }\n",
       "</style>\n",
       "<table border=\"1\" class=\"dataframe\">\n",
       "  <thead>\n",
       "    <tr style=\"text-align: right;\">\n",
       "      <th></th>\n",
       "      <th>name</th>\n",
       "      <th>gender</th>\n",
       "      <th>state</th>\n",
       "      <th>phy</th>\n",
       "      <th>maths</th>\n",
       "      <th>bio</th>\n",
       "      <th>total</th>\n",
       "      <th>per</th>\n",
       "      <th>grade</th>\n",
       "      <th>result</th>\n",
       "    </tr>\n",
       "  </thead>\n",
       "  <tbody>\n",
       "    <tr>\n",
       "      <th>0</th>\n",
       "      <td>rohan</td>\n",
       "      <td>male</td>\n",
       "      <td>mh</td>\n",
       "      <td>60</td>\n",
       "      <td>90</td>\n",
       "      <td>68</td>\n",
       "      <td>218</td>\n",
       "      <td>72.67</td>\n",
       "      <td>B</td>\n",
       "      <td>Pass</td>\n",
       "    </tr>\n",
       "    <tr>\n",
       "      <th>1</th>\n",
       "      <td>aniket</td>\n",
       "      <td>male</td>\n",
       "      <td>up</td>\n",
       "      <td>52</td>\n",
       "      <td>85</td>\n",
       "      <td>72</td>\n",
       "      <td>209</td>\n",
       "      <td>69.67</td>\n",
       "      <td>B</td>\n",
       "      <td>Pass</td>\n",
       "    </tr>\n",
       "    <tr>\n",
       "      <th>2</th>\n",
       "      <td>ganesh</td>\n",
       "      <td>male</td>\n",
       "      <td>up</td>\n",
       "      <td>45</td>\n",
       "      <td>82</td>\n",
       "      <td>78</td>\n",
       "      <td>205</td>\n",
       "      <td>68.33</td>\n",
       "      <td>B</td>\n",
       "      <td>Pass</td>\n",
       "    </tr>\n",
       "    <tr>\n",
       "      <th>3</th>\n",
       "      <td>meena</td>\n",
       "      <td>female</td>\n",
       "      <td>mp</td>\n",
       "      <td>72</td>\n",
       "      <td>69</td>\n",
       "      <td>80</td>\n",
       "      <td>221</td>\n",
       "      <td>73.67</td>\n",
       "      <td>B</td>\n",
       "      <td>Pass</td>\n",
       "    </tr>\n",
       "    <tr>\n",
       "      <th>4</th>\n",
       "      <td>seema</td>\n",
       "      <td>female</td>\n",
       "      <td>mh</td>\n",
       "      <td>68</td>\n",
       "      <td>90</td>\n",
       "      <td>78</td>\n",
       "      <td>236</td>\n",
       "      <td>78.67</td>\n",
       "      <td>A</td>\n",
       "      <td>Pass</td>\n",
       "    </tr>\n",
       "    <tr>\n",
       "      <th>5</th>\n",
       "      <td>dinesh</td>\n",
       "      <td>male</td>\n",
       "      <td>mp</td>\n",
       "      <td>48</td>\n",
       "      <td>34</td>\n",
       "      <td>67</td>\n",
       "      <td>149</td>\n",
       "      <td>49.67</td>\n",
       "      <td>Fail</td>\n",
       "      <td>Fail</td>\n",
       "    </tr>\n",
       "    <tr>\n",
       "      <th>6</th>\n",
       "      <td>yogita</td>\n",
       "      <td>female</td>\n",
       "      <td>mp</td>\n",
       "      <td>39</td>\n",
       "      <td>65</td>\n",
       "      <td>90</td>\n",
       "      <td>194</td>\n",
       "      <td>64.67</td>\n",
       "      <td>C</td>\n",
       "      <td>Pass</td>\n",
       "    </tr>\n",
       "    <tr>\n",
       "      <th>7</th>\n",
       "      <td>karan</td>\n",
       "      <td>male</td>\n",
       "      <td>mh</td>\n",
       "      <td>82</td>\n",
       "      <td>78</td>\n",
       "      <td>55</td>\n",
       "      <td>215</td>\n",
       "      <td>71.67</td>\n",
       "      <td>B</td>\n",
       "      <td>Pass</td>\n",
       "    </tr>\n",
       "    <tr>\n",
       "      <th>8</th>\n",
       "      <td>jayesh</td>\n",
       "      <td>male</td>\n",
       "      <td>up</td>\n",
       "      <td>87</td>\n",
       "      <td>88</td>\n",
       "      <td>32</td>\n",
       "      <td>207</td>\n",
       "      <td>69.00</td>\n",
       "      <td>Fail</td>\n",
       "      <td>Fail</td>\n",
       "    </tr>\n",
       "    <tr>\n",
       "      <th>9</th>\n",
       "      <td>mangesh</td>\n",
       "      <td>male</td>\n",
       "      <td>mp</td>\n",
       "      <td>91</td>\n",
       "      <td>78</td>\n",
       "      <td>82</td>\n",
       "      <td>251</td>\n",
       "      <td>83.67</td>\n",
       "      <td>A</td>\n",
       "      <td>Pass</td>\n",
       "    </tr>\n",
       "    <tr>\n",
       "      <th>10</th>\n",
       "      <td>geeta</td>\n",
       "      <td>female</td>\n",
       "      <td>mh</td>\n",
       "      <td>31</td>\n",
       "      <td>58</td>\n",
       "      <td>78</td>\n",
       "      <td>167</td>\n",
       "      <td>55.67</td>\n",
       "      <td>Fail</td>\n",
       "      <td>Fail</td>\n",
       "    </tr>\n",
       "    <tr>\n",
       "      <th>11</th>\n",
       "      <td>runali</td>\n",
       "      <td>female</td>\n",
       "      <td>up</td>\n",
       "      <td>85</td>\n",
       "      <td>92</td>\n",
       "      <td>66</td>\n",
       "      <td>243</td>\n",
       "      <td>81.00</td>\n",
       "      <td>A</td>\n",
       "      <td>Pass</td>\n",
       "    </tr>\n",
       "    <tr>\n",
       "      <th>12</th>\n",
       "      <td>tushar</td>\n",
       "      <td>male</td>\n",
       "      <td>up</td>\n",
       "      <td>32</td>\n",
       "      <td>92</td>\n",
       "      <td>77</td>\n",
       "      <td>201</td>\n",
       "      <td>67.00</td>\n",
       "      <td>Fail</td>\n",
       "      <td>Fail</td>\n",
       "    </tr>\n",
       "    <tr>\n",
       "      <th>13</th>\n",
       "      <td>binod</td>\n",
       "      <td>male</td>\n",
       "      <td>mh</td>\n",
       "      <td>95</td>\n",
       "      <td>78</td>\n",
       "      <td>88</td>\n",
       "      <td>261</td>\n",
       "      <td>87.00</td>\n",
       "      <td>O</td>\n",
       "      <td>Pass</td>\n",
       "    </tr>\n",
       "    <tr>\n",
       "      <th>14</th>\n",
       "      <td>sanjay</td>\n",
       "      <td>male</td>\n",
       "      <td>mh</td>\n",
       "      <td>63</td>\n",
       "      <td>90</td>\n",
       "      <td>80</td>\n",
       "      <td>233</td>\n",
       "      <td>77.67</td>\n",
       "      <td>A</td>\n",
       "      <td>Pass</td>\n",
       "    </tr>\n",
       "  </tbody>\n",
       "</table>\n",
       "</div>"
      ],
      "text/plain": [
       "       name  gender state  phy  maths  bio  total    per grade result\n",
       "0     rohan    male    mh   60     90   68    218  72.67     B   Pass\n",
       "1    aniket    male    up   52     85   72    209  69.67     B   Pass\n",
       "2    ganesh    male    up   45     82   78    205  68.33     B   Pass\n",
       "3     meena  female    mp   72     69   80    221  73.67     B   Pass\n",
       "4     seema  female    mh   68     90   78    236  78.67     A   Pass\n",
       "5    dinesh    male    mp   48     34   67    149  49.67  Fail   Fail\n",
       "6    yogita  female    mp   39     65   90    194  64.67     C   Pass\n",
       "7     karan    male    mh   82     78   55    215  71.67     B   Pass\n",
       "8    jayesh    male    up   87     88   32    207  69.00  Fail   Fail\n",
       "9   mangesh    male    mp   91     78   82    251  83.67     A   Pass\n",
       "10    geeta  female    mh   31     58   78    167  55.67  Fail   Fail\n",
       "11   runali  female    up   85     92   66    243  81.00     A   Pass\n",
       "12   tushar    male    up   32     92   77    201  67.00  Fail   Fail\n",
       "13    binod    male    mh   95     78   88    261  87.00     O   Pass\n",
       "14   sanjay    male    mh   63     90   80    233  77.67     A   Pass"
      ]
     },
     "execution_count": 28,
     "metadata": {},
     "output_type": "execute_result"
    }
   ],
   "source": [
    "df2 = df1.copy()\n",
    "df2"
   ]
  },
  {
   "cell_type": "markdown",
   "id": "e34fbe94",
   "metadata": {
    "papermill": {
     "duration": 0.0243,
     "end_time": "2022-06-11T15:13:58.794028",
     "exception": false,
     "start_time": "2022-06-11T15:13:58.769728",
     "status": "completed"
    },
    "tags": []
   },
   "source": [
    "### statements:\n",
    "* 4 students get fail and those all are from mp and up (mh no one get fail)\n",
    "* only 1 student got o grade "
   ]
  },
  {
   "cell_type": "markdown",
   "id": "45988ffb",
   "metadata": {
    "papermill": {
     "duration": 0.024068,
     "end_time": "2022-06-11T15:13:58.842496",
     "exception": false,
     "start_time": "2022-06-11T15:13:58.818428",
     "status": "completed"
    },
    "tags": []
   },
   "source": [
    "### Consider only num features"
   ]
  },
  {
   "cell_type": "code",
   "execution_count": 29,
   "id": "295a5479",
   "metadata": {
    "execution": {
     "iopub.execute_input": "2022-06-11T15:13:58.893095Z",
     "iopub.status.busy": "2022-06-11T15:13:58.892552Z",
     "iopub.status.idle": "2022-06-11T15:13:58.901222Z",
     "shell.execute_reply": "2022-06-11T15:13:58.900289Z"
    },
    "papermill": {
     "duration": 0.036135,
     "end_time": "2022-06-11T15:13:58.903125",
     "exception": false,
     "start_time": "2022-06-11T15:13:58.866990",
     "status": "completed"
    },
    "tags": []
   },
   "outputs": [],
   "source": [
    "numerics = ['int16', 'int32', 'int64', 'float16', 'float32', 'float64']\n",
    "num_df = df2.select_dtypes(include=numerics)\n",
    "num_df.drop(['total','per'],inplace=True,axis=1)"
   ]
  },
  {
   "cell_type": "markdown",
   "id": "e7e476c7",
   "metadata": {
    "papermill": {
     "duration": 0.024056,
     "end_time": "2022-06-11T15:13:58.951477",
     "exception": false,
     "start_time": "2022-06-11T15:13:58.927421",
     "status": "completed"
    },
    "tags": []
   },
   "source": [
    "### Heat MAP : Visualize performance of students with each subject\n",
    "* A heat map (or heatmap) is a data visualization technique that shows magnitude of a phenomenon as color in two dimensions\n",
    "* Visualize magnitude of data by its color intensity"
   ]
  },
  {
   "cell_type": "code",
   "execution_count": 30,
   "id": "f4dab2ef",
   "metadata": {
    "execution": {
     "iopub.execute_input": "2022-06-11T15:13:59.002471Z",
     "iopub.status.busy": "2022-06-11T15:13:59.001685Z",
     "iopub.status.idle": "2022-06-11T15:13:59.448695Z",
     "shell.execute_reply": "2022-06-11T15:13:59.447575Z"
    },
    "papermill": {
     "duration": 0.475105,
     "end_time": "2022-06-11T15:13:59.450818",
     "exception": false,
     "start_time": "2022-06-11T15:13:58.975713",
     "status": "completed"
    },
    "tags": []
   },
   "outputs": [
    {
     "data": {
      "text/plain": [
       "<AxesSubplot:>"
      ]
     },
     "execution_count": 30,
     "metadata": {},
     "output_type": "execute_result"
    },
    {
     "data": {
      "image/png": "[encoded data removed]",
      "text/plain": [
       "<Figure size 1008x648 with 2 Axes>"
      ]
     },
     "metadata": {
      "needs_background": "light"
     },
     "output_type": "display_data"
    }
   ],
   "source": [
    "plt.figure(figsize=(14,9))\n",
    "sns.heatmap(num_df,cmap=\"coolwarm\", annot=True, cbar=True, linewidth=4, linecolor=\"k\")"
   ]
  },
  {
   "cell_type": "markdown",
   "id": "ba3bfe6c",
   "metadata": {
    "papermill": {
     "duration": 0.024981,
     "end_time": "2022-06-11T15:13:59.501150",
     "exception": false,
     "start_time": "2022-06-11T15:13:59.476169",
     "status": "completed"
    },
    "tags": []
   },
   "source": [
    "### statements\n",
    "\n",
    "* As seen In Phy paper, most of students got less marks that is below 50 and there was 4-5 students those score is very high (above 85)\n",
    "* so we conclude that phy paper was tough \n",
    "* In case of maths, paper was easy almost 80-90% students score more than 80 still there was only 2-3 students those score was very bad even paper was so easy\n",
    "* In case of Bio, students perform almost AVERAGE only 1 studnet got 32 very poor so we can conclude that bio paper was so moderate\n",
    "* final we can conclue that phy paper was very tough, maths was very easy , and bio some what easy that is moderate"
   ]
  },
  {
   "cell_type": "markdown",
   "id": "c023b425",
   "metadata": {
    "papermill": {
     "duration": 0.024529,
     "end_time": "2022-06-11T15:13:59.550842",
     "exception": false,
     "start_time": "2022-06-11T15:13:59.526313",
     "status": "completed"
    },
    "tags": []
   },
   "source": [
    "### Visualize Percentages of all students"
   ]
  },
  {
   "cell_type": "code",
   "execution_count": 31,
   "id": "45ffe0cf",
   "metadata": {
    "execution": {
     "iopub.execute_input": "2022-06-11T15:13:59.603757Z",
     "iopub.status.busy": "2022-06-11T15:13:59.602615Z",
     "iopub.status.idle": "2022-06-11T15:13:59.921615Z",
     "shell.execute_reply": "2022-06-11T15:13:59.920561Z"
    },
    "papermill": {
     "duration": 0.347657,
     "end_time": "2022-06-11T15:13:59.924038",
     "exception": false,
     "start_time": "2022-06-11T15:13:59.576381",
     "status": "completed"
    },
    "tags": []
   },
   "outputs": [
    {
     "data": {
      "text/plain": [
       "<AxesSubplot:>"
      ]
     },
     "execution_count": 31,
     "metadata": {},
     "output_type": "execute_result"
    },
    {
     "data": {
      "image/png": "[encoded data removed]",
      "text/plain": [
       "<Figure size 360x720 with 2 Axes>"
      ]
     },
     "metadata": {
      "needs_background": "light"
     },
     "output_type": "display_data"
    }
   ],
   "source": [
    "per_df = df2[['per']].copy()\n",
    "plt.figure(figsize=(5,10))\n",
    "sns.heatmap(per_df,cmap=\"coolwarm\", annot=True, cbar=True, linewidth=4, linecolor=\"k\")"
   ]
  },
  {
   "cell_type": "markdown",
   "id": "b147737a",
   "metadata": {
    "papermill": {
     "duration": 0.02563,
     "end_time": "2022-06-11T15:13:59.975408",
     "exception": false,
     "start_time": "2022-06-11T15:13:59.949778",
     "status": "completed"
    },
    "tags": []
   },
   "source": [
    "### Statements\n",
    "* as seen only 2 students got less than 50%\n",
    "* Topper got 87% highest rank\n",
    "* Only 3 students got more than 80%"
   ]
  },
  {
   "cell_type": "code",
   "execution_count": 32,
   "id": "dc9f70fe",
   "metadata": {
    "execution": {
     "iopub.execute_input": "2022-06-11T15:14:00.028311Z",
     "iopub.status.busy": "2022-06-11T15:14:00.027932Z",
     "iopub.status.idle": "2022-06-11T15:14:00.039983Z",
     "shell.execute_reply": "2022-06-11T15:14:00.038907Z"
    },
    "papermill": {
     "duration": 0.041354,
     "end_time": "2022-06-11T15:14:00.042235",
     "exception": false,
     "start_time": "2022-06-11T15:14:00.000881",
     "status": "completed"
    },
    "tags": []
   },
   "outputs": [
    {
     "data": {
      "text/plain": [
       "count     4.00000\n",
       "mean     67.92000\n",
       "std      14.43087\n",
       "min      49.67000\n",
       "25%      60.92000\n",
       "50%      69.17000\n",
       "75%      76.17000\n",
       "max      83.67000\n",
       "Name: per, dtype: float64"
      ]
     },
     "execution_count": 32,
     "metadata": {},
     "output_type": "execute_result"
    }
   ],
   "source": [
    "df2[df2['state']=='mp']['per'].describe()"
   ]
  },
  {
   "cell_type": "markdown",
   "id": "3aaf9d4d",
   "metadata": {
    "papermill": {
     "duration": 0.025753,
     "end_time": "2022-06-11T15:14:00.093975",
     "exception": false,
     "start_time": "2022-06-11T15:14:00.068222",
     "status": "completed"
    },
    "tags": []
   },
   "source": [
    "### Pandas GROUPBY :\n",
    "* used to group similar categ together and used in conjuction with agg function such as min max mean etc"
   ]
  },
  {
   "cell_type": "code",
   "execution_count": 33,
   "id": "1a64099f",
   "metadata": {
    "execution": {
     "iopub.execute_input": "2022-06-11T15:14:00.147770Z",
     "iopub.status.busy": "2022-06-11T15:14:00.147378Z",
     "iopub.status.idle": "2022-06-11T15:14:00.160893Z",
     "shell.execute_reply": "2022-06-11T15:14:00.160153Z"
    },
    "papermill": {
     "duration": 0.043037,
     "end_time": "2022-06-11T15:14:00.162779",
     "exception": false,
     "start_time": "2022-06-11T15:14:00.119742",
     "status": "completed"
    },
    "tags": []
   },
   "outputs": [
    {
     "data": {
      "text/html": [
       "<div>\n",
       "<style scoped>\n",
       "    .dataframe tbody tr th:only-of-type {\n",
       "        vertical-align: middle;\n",
       "    }\n",
       "\n",
       "    .dataframe tbody tr th {\n",
       "        vertical-align: top;\n",
       "    }\n",
       "\n",
       "    .dataframe thead th {\n",
       "        text-align: right;\n",
       "    }\n",
       "</style>\n",
       "<table border=\"1\" class=\"dataframe\">\n",
       "  <thead>\n",
       "    <tr style=\"text-align: right;\">\n",
       "      <th></th>\n",
       "      <th>phy</th>\n",
       "      <th>maths</th>\n",
       "      <th>bio</th>\n",
       "      <th>total</th>\n",
       "      <th>per</th>\n",
       "    </tr>\n",
       "    <tr>\n",
       "      <th>state</th>\n",
       "      <th></th>\n",
       "      <th></th>\n",
       "      <th></th>\n",
       "      <th></th>\n",
       "      <th></th>\n",
       "    </tr>\n",
       "  </thead>\n",
       "  <tbody>\n",
       "    <tr>\n",
       "      <th>mh</th>\n",
       "      <td>66.5</td>\n",
       "      <td>80.666667</td>\n",
       "      <td>74.50</td>\n",
       "      <td>221.666667</td>\n",
       "      <td>73.891667</td>\n",
       "    </tr>\n",
       "    <tr>\n",
       "      <th>mp</th>\n",
       "      <td>62.5</td>\n",
       "      <td>61.500000</td>\n",
       "      <td>79.75</td>\n",
       "      <td>203.750000</td>\n",
       "      <td>67.920000</td>\n",
       "    </tr>\n",
       "    <tr>\n",
       "      <th>up</th>\n",
       "      <td>60.2</td>\n",
       "      <td>87.800000</td>\n",
       "      <td>65.00</td>\n",
       "      <td>213.000000</td>\n",
       "      <td>71.000000</td>\n",
       "    </tr>\n",
       "  </tbody>\n",
       "</table>\n",
       "</div>"
      ],
      "text/plain": [
       "        phy      maths    bio       total        per\n",
       "state                                               \n",
       "mh     66.5  80.666667  74.50  221.666667  73.891667\n",
       "mp     62.5  61.500000  79.75  203.750000  67.920000\n",
       "up     60.2  87.800000  65.00  213.000000  71.000000"
      ]
     },
     "execution_count": 33,
     "metadata": {},
     "output_type": "execute_result"
    }
   ],
   "source": [
    "df2.groupby(['state']).mean()"
   ]
  },
  {
   "cell_type": "markdown",
   "id": "3025ee37",
   "metadata": {
    "papermill": {
     "duration": 0.025512,
     "end_time": "2022-06-11T15:14:00.214561",
     "exception": false,
     "start_time": "2022-06-11T15:14:00.189049",
     "status": "completed"
    },
    "tags": []
   },
   "source": [
    "### Result of 3 Differents states\n",
    "* Avg per of mh is very high that is 74%\n",
    "* Avg per of mp is less than others that is 68%"
   ]
  },
  {
   "cell_type": "markdown",
   "id": "c697c3a7",
   "metadata": {
    "papermill": {
     "duration": 0.025772,
     "end_time": "2022-06-11T15:14:00.266198",
     "exception": false,
     "start_time": "2022-06-11T15:14:00.240426",
     "status": "completed"
    },
    "tags": []
   },
   "source": [
    "### Stat info all all subjects marks and percentages"
   ]
  },
  {
   "cell_type": "code",
   "execution_count": 34,
   "id": "c57a7159",
   "metadata": {
    "execution": {
     "iopub.execute_input": "2022-06-11T15:14:00.328142Z",
     "iopub.status.busy": "2022-06-11T15:14:00.326840Z",
     "iopub.status.idle": "2022-06-11T15:14:00.360314Z",
     "shell.execute_reply": "2022-06-11T15:14:00.359137Z"
    },
    "papermill": {
     "duration": 0.071833,
     "end_time": "2022-06-11T15:14:00.363787",
     "exception": false,
     "start_time": "2022-06-11T15:14:00.291954",
     "status": "completed"
    },
    "tags": []
   },
   "outputs": [
    {
     "data": {
      "text/html": [
       "<div>\n",
       "<style scoped>\n",
       "    .dataframe tbody tr th:only-of-type {\n",
       "        vertical-align: middle;\n",
       "    }\n",
       "\n",
       "    .dataframe tbody tr th {\n",
       "        vertical-align: top;\n",
       "    }\n",
       "\n",
       "    .dataframe thead th {\n",
       "        text-align: right;\n",
       "    }\n",
       "</style>\n",
       "<table border=\"1\" class=\"dataframe\">\n",
       "  <thead>\n",
       "    <tr style=\"text-align: right;\">\n",
       "      <th></th>\n",
       "      <th>phy</th>\n",
       "      <th>maths</th>\n",
       "      <th>bio</th>\n",
       "      <th>total</th>\n",
       "      <th>per</th>\n",
       "    </tr>\n",
       "  </thead>\n",
       "  <tbody>\n",
       "    <tr>\n",
       "      <th>count</th>\n",
       "      <td>15.000000</td>\n",
       "      <td>15.000000</td>\n",
       "      <td>15.000000</td>\n",
       "      <td>15.000000</td>\n",
       "      <td>15.000000</td>\n",
       "    </tr>\n",
       "    <tr>\n",
       "      <th>mean</th>\n",
       "      <td>63.333333</td>\n",
       "      <td>77.933333</td>\n",
       "      <td>72.733333</td>\n",
       "      <td>214.000000</td>\n",
       "      <td>71.335333</td>\n",
       "    </tr>\n",
       "    <tr>\n",
       "      <th>std</th>\n",
       "      <td>21.668498</td>\n",
       "      <td>15.979749</td>\n",
       "      <td>14.389811</td>\n",
       "      <td>29.866369</td>\n",
       "      <td>9.955154</td>\n",
       "    </tr>\n",
       "    <tr>\n",
       "      <th>min</th>\n",
       "      <td>31.000000</td>\n",
       "      <td>34.000000</td>\n",
       "      <td>32.000000</td>\n",
       "      <td>149.000000</td>\n",
       "      <td>49.670000</td>\n",
       "    </tr>\n",
       "    <tr>\n",
       "      <th>25%</th>\n",
       "      <td>46.500000</td>\n",
       "      <td>73.500000</td>\n",
       "      <td>67.500000</td>\n",
       "      <td>203.000000</td>\n",
       "      <td>67.665000</td>\n",
       "    </tr>\n",
       "    <tr>\n",
       "      <th>50%</th>\n",
       "      <td>63.000000</td>\n",
       "      <td>82.000000</td>\n",
       "      <td>78.000000</td>\n",
       "      <td>215.000000</td>\n",
       "      <td>71.670000</td>\n",
       "    </tr>\n",
       "    <tr>\n",
       "      <th>75%</th>\n",
       "      <td>83.500000</td>\n",
       "      <td>90.000000</td>\n",
       "      <td>80.000000</td>\n",
       "      <td>234.500000</td>\n",
       "      <td>78.170000</td>\n",
       "    </tr>\n",
       "    <tr>\n",
       "      <th>max</th>\n",
       "      <td>95.000000</td>\n",
       "      <td>92.000000</td>\n",
       "      <td>90.000000</td>\n",
       "      <td>261.000000</td>\n",
       "      <td>87.000000</td>\n",
       "    </tr>\n",
       "  </tbody>\n",
       "</table>\n",
       "</div>"
      ],
      "text/plain": [
       "             phy      maths        bio       total        per\n",
       "count  15.000000  15.000000  15.000000   15.000000  15.000000\n",
       "mean   63.333333  77.933333  72.733333  214.000000  71.335333\n",
       "std    21.668498  15.979749  14.389811   29.866369   9.955154\n",
       "min    31.000000  34.000000  32.000000  149.000000  49.670000\n",
       "25%    46.500000  73.500000  67.500000  203.000000  67.665000\n",
       "50%    63.000000  82.000000  78.000000  215.000000  71.670000\n",
       "75%    83.500000  90.000000  80.000000  234.500000  78.170000\n",
       "max    95.000000  92.000000  90.000000  261.000000  87.000000"
      ]
     },
     "execution_count": 34,
     "metadata": {},
     "output_type": "execute_result"
    }
   ],
   "source": [
    "df2.describe()"
   ]
  },
  {
   "cell_type": "markdown",
   "id": "c2de24ab",
   "metadata": {
    "papermill": {
     "duration": 0.03126,
     "end_time": "2022-06-11T15:14:00.430400",
     "exception": false,
     "start_time": "2022-06-11T15:14:00.399140",
     "status": "completed"
    },
    "tags": []
   },
   "source": [
    "### statements:\n",
    "* avg percentages of 12th board exam from 3 diff state is 71%\n",
    "* avg score of phy - 63 less\n",
    "* avg score of maths - 78 good\n",
    "* avg score of bio - 72 good"
   ]
  },
  {
   "cell_type": "markdown",
   "id": "a41249be",
   "metadata": {
    "papermill": {
     "duration": 0.026094,
     "end_time": "2022-06-11T15:14:00.482676",
     "exception": false,
     "start_time": "2022-06-11T15:14:00.456582",
     "status": "completed"
    },
    "tags": []
   },
   "source": [
    "## score of M/F"
   ]
  },
  {
   "cell_type": "code",
   "execution_count": 35,
   "id": "aee7b59f",
   "metadata": {
    "execution": {
     "iopub.execute_input": "2022-06-11T15:14:00.537431Z",
     "iopub.status.busy": "2022-06-11T15:14:00.536427Z",
     "iopub.status.idle": "2022-06-11T15:14:00.551980Z",
     "shell.execute_reply": "2022-06-11T15:14:00.551068Z"
    },
    "papermill": {
     "duration": 0.044973,
     "end_time": "2022-06-11T15:14:00.554028",
     "exception": false,
     "start_time": "2022-06-11T15:14:00.509055",
     "status": "completed"
    },
    "tags": []
   },
   "outputs": [
    {
     "data": {
      "text/html": [
       "<div>\n",
       "<style scoped>\n",
       "    .dataframe tbody tr th:only-of-type {\n",
       "        vertical-align: middle;\n",
       "    }\n",
       "\n",
       "    .dataframe tbody tr th {\n",
       "        vertical-align: top;\n",
       "    }\n",
       "\n",
       "    .dataframe thead th {\n",
       "        text-align: right;\n",
       "    }\n",
       "</style>\n",
       "<table border=\"1\" class=\"dataframe\">\n",
       "  <thead>\n",
       "    <tr style=\"text-align: right;\">\n",
       "      <th></th>\n",
       "      <th>phy</th>\n",
       "      <th>maths</th>\n",
       "      <th>bio</th>\n",
       "      <th>total</th>\n",
       "      <th>per</th>\n",
       "    </tr>\n",
       "    <tr>\n",
       "      <th>gender</th>\n",
       "      <th></th>\n",
       "      <th></th>\n",
       "      <th></th>\n",
       "      <th></th>\n",
       "      <th></th>\n",
       "    </tr>\n",
       "  </thead>\n",
       "  <tbody>\n",
       "    <tr>\n",
       "      <th>female</th>\n",
       "      <td>59.0</td>\n",
       "      <td>74.8</td>\n",
       "      <td>78.4</td>\n",
       "      <td>212.2</td>\n",
       "      <td>70.736</td>\n",
       "    </tr>\n",
       "    <tr>\n",
       "      <th>male</th>\n",
       "      <td>65.5</td>\n",
       "      <td>79.5</td>\n",
       "      <td>69.9</td>\n",
       "      <td>214.9</td>\n",
       "      <td>71.635</td>\n",
       "    </tr>\n",
       "  </tbody>\n",
       "</table>\n",
       "</div>"
      ],
      "text/plain": [
       "         phy  maths   bio  total     per\n",
       "gender                                  \n",
       "female  59.0   74.8  78.4  212.2  70.736\n",
       "male    65.5   79.5  69.9  214.9  71.635"
      ]
     },
     "execution_count": 35,
     "metadata": {},
     "output_type": "execute_result"
    }
   ],
   "source": [
    "df2.groupby(['gender']).mean()"
   ]
  },
  {
   "cell_type": "markdown",
   "id": "8edf5f1d",
   "metadata": {
    "papermill": {
     "duration": 0.026801,
     "end_time": "2022-06-11T15:14:00.607304",
     "exception": false,
     "start_time": "2022-06-11T15:14:00.580503",
     "status": "completed"
    },
    "tags": []
   },
   "source": [
    "### Statements:\n",
    "* as seen here gender is not matter\n",
    "* average performance both of male and female is almost equal"
   ]
  },
  {
   "cell_type": "markdown",
   "id": "0511e171",
   "metadata": {
    "papermill": {
     "duration": 0.02623,
     "end_time": "2022-06-11T15:14:00.660022",
     "exception": false,
     "start_time": "2022-06-11T15:14:00.633792",
     "status": "completed"
    },
    "tags": []
   },
   "source": [
    "### Pie Diagram \n",
    "*A pie chart (or a pie graph) is a circular statistical graphical chart, which is divided into slices in order to explain or illustrate numerical proportions."
   ]
  },
  {
   "cell_type": "code",
   "execution_count": 36,
   "id": "87dceaa2",
   "metadata": {
    "execution": {
     "iopub.execute_input": "2022-06-11T15:14:00.715130Z",
     "iopub.status.busy": "2022-06-11T15:14:00.714400Z",
     "iopub.status.idle": "2022-06-11T15:14:01.002301Z",
     "shell.execute_reply": "2022-06-11T15:14:01.000957Z"
    },
    "papermill": {
     "duration": 0.319371,
     "end_time": "2022-06-11T15:14:01.005911",
     "exception": false,
     "start_time": "2022-06-11T15:14:00.686540",
     "status": "completed"
    },
    "tags": []
   },
   "outputs": [
    {
     "data": {
      "text/plain": [
       "<AxesSubplot:ylabel='gender'>"
      ]
     },
     "execution_count": 36,
     "metadata": {},
     "output_type": "execute_result"
    },
    {
     "data": {
      "image/png": "[encoded data removed]",
      "text/plain": [
       "<Figure size 360x720 with 1 Axes>"
      ]
     },
     "metadata": {},
     "output_type": "display_data"
    }
   ],
   "source": [
    "plt.figure(figsize=(5,10))\n",
    "df2['gender'].value_counts().plot(kind='pie',autopct='%1.0f%%')"
   ]
  },
  {
   "cell_type": "markdown",
   "id": "51fe63b6",
   "metadata": {
    "papermill": {
     "duration": 0.041509,
     "end_time": "2022-06-11T15:14:01.097611",
     "exception": false,
     "start_time": "2022-06-11T15:14:01.056102",
     "status": "completed"
    },
    "tags": []
   },
   "source": [
    "### statements:\n",
    "* percetages of total male appear for exam was more than female\n",
    "* male - 67 & female -33"
   ]
  },
  {
   "cell_type": "markdown",
   "id": "3b46425b",
   "metadata": {
    "papermill": {
     "duration": 0.026972,
     "end_time": "2022-06-11T15:14:01.151626",
     "exception": false,
     "start_time": "2022-06-11T15:14:01.124654",
     "status": "completed"
    },
    "tags": []
   },
   "source": [
    "### Percentages of students state wise"
   ]
  },
  {
   "cell_type": "code",
   "execution_count": 37,
   "id": "b9038ae2",
   "metadata": {
    "execution": {
     "iopub.execute_input": "2022-06-11T15:14:01.206944Z",
     "iopub.status.busy": "2022-06-11T15:14:01.206518Z",
     "iopub.status.idle": "2022-06-11T15:14:01.314229Z",
     "shell.execute_reply": "2022-06-11T15:14:01.313232Z"
    },
    "papermill": {
     "duration": 0.140198,
     "end_time": "2022-06-11T15:14:01.318687",
     "exception": false,
     "start_time": "2022-06-11T15:14:01.178489",
     "status": "completed"
    },
    "tags": []
   },
   "outputs": [
    {
     "data": {
      "text/plain": [
       "<AxesSubplot:ylabel='state'>"
      ]
     },
     "execution_count": 37,
     "metadata": {},
     "output_type": "execute_result"
    },
    {
     "data": {
      "image/png": "[encoded data removed]",
      "text/plain": [
       "<Figure size 360x720 with 1 Axes>"
      ]
     },
     "metadata": {},
     "output_type": "display_data"
    }
   ],
   "source": [
    "plt.figure(figsize=(5,10))\n",
    "df2['state'].value_counts().plot(kind='pie',autopct='%1.0f%%')"
   ]
  },
  {
   "cell_type": "markdown",
   "id": "ebcd34c6",
   "metadata": {
    "papermill": {
     "duration": 0.039589,
     "end_time": "2022-06-11T15:14:01.411690",
     "exception": false,
     "start_time": "2022-06-11T15:14:01.372101",
     "status": "completed"
    },
    "tags": []
   },
   "source": [
    "### statements:\n",
    "* highest students was from up which is 40%"
   ]
  },
  {
   "cell_type": "code",
   "execution_count": 38,
   "id": "968dd275",
   "metadata": {
    "execution": {
     "iopub.execute_input": "2022-06-11T15:14:01.468880Z",
     "iopub.status.busy": "2022-06-11T15:14:01.468447Z",
     "iopub.status.idle": "2022-06-11T15:14:01.477410Z",
     "shell.execute_reply": "2022-06-11T15:14:01.476608Z"
    },
    "papermill": {
     "duration": 0.039953,
     "end_time": "2022-06-11T15:14:01.479485",
     "exception": false,
     "start_time": "2022-06-11T15:14:01.439532",
     "status": "completed"
    },
    "tags": []
   },
   "outputs": [
    {
     "data": {
      "text/plain": [
       "mh    6\n",
       "up    5\n",
       "mp    4\n",
       "Name: state, dtype: int64"
      ]
     },
     "execution_count": 38,
     "metadata": {},
     "output_type": "execute_result"
    }
   ],
   "source": [
    "df2['state'].value_counts()"
   ]
  },
  {
   "cell_type": "markdown",
   "id": "c1d47427",
   "metadata": {
    "papermill": {
     "duration": 0.02722,
     "end_time": "2022-06-11T15:14:01.534472",
     "exception": false,
     "start_time": "2022-06-11T15:14:01.507252",
     "status": "completed"
    },
    "tags": []
   },
   "source": [
    "### For any query feel free to contact me 9987353543"
   ]
  }
 ],
 "metadata": {
  "kernelspec": {
   "display_name": "Python 3",
   "language": "python",
   "name": "python3"
  },
  "language_info": {
   "codemirror_mode": {
    "name": "ipython",
    "version": 3
   },
   "file_extension": ".py",
   "mimetype": "text/x-python",
   "name": "python",
   "nbconvert_exporter": "python",
   "pygments_lexer": "ipython3",
   "version": "3.7.12"
  },
  "papermill": {
   "default_parameters": {},
   "duration": 33.997486,
   "end_time": "2022-06-11T15:14:02.383440",
   "environment_variables": {},
   "exception": null,
   "input_path": "__notebook__.ipynb",
   "output_path": "__notebook__.ipynb",
   "parameters": {},
   "start_time": "2022-06-11T15:13:28.385954",
   "version": "2.3.4"
  }
 },
 "nbformat": 4,
 "nbformat_minor": 5
}
