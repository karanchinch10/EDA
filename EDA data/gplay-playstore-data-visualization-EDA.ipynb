{
 "cells": [
  {
   "cell_type": "markdown",
   "id": "f8b3bba0",
   "metadata": {
    "papermill": {
     "duration": 0.022008,
     "end_time": "2022-06-10T18:56:56.616912",
     "exception": false,
     "start_time": "2022-06-10T18:56:56.594904",
     "status": "completed"
    },
    "tags": []
   },
   "source": [
    "## Problem Statement\n",
    "* Google Play Store team is about to launch a new feature wherein, certain apps that are promising, are boosted in visibility. The boost will manifest in multiple ways including higher priority in recommendations sections (“Similar apps”, “You might also like”, “New and updated games”). These will also get a boost in search results visibility. This feature will help bring more attention to newer apps that have the potential."
   ]
  },
  {
   "cell_type": "markdown",
   "id": "73f6bad8",
   "metadata": {
    "papermill": {
     "duration": 0.015114,
     "end_time": "2022-06-10T18:56:56.651430",
     "exception": false,
     "start_time": "2022-06-10T18:56:56.636316",
     "status": "completed"
    },
    "tags": []
   },
   "source": [
    "## Content:\n",
    "* Dataset: Google Play Store data (“googleplaystore.csv”)\n",
    "* Fields in the data:\n",
    "* App: Application name\n",
    "* Category: Category to which the app belongs\n",
    "* Rating: Overall user rating of the app\n",
    "* Reviews: Number of user reviews for the app\n",
    "* Size: Size of the app\n",
    "* Installs: Number of user downloads/installs for the app\n",
    "* Type: Paid or Free\n",
    "* Price: Price of the app\n",
    "* Content Rating: Age group the app is targeted at - Children / Mature 21+ / Adult* \n",
    "* Genres: An app can belong to multiple genres (apart from its main category). For example, a musical family game will belong to Music, Game, * * * Family genres.\n",
    "* Last Updated: Date when the app was last updated on Play Store\n",
    "* Current Ver: Current version of the app available on Play Store\n",
    "* Android Ver: Minimum required Android version"
   ]
  },
  {
   "cell_type": "markdown",
   "id": "ad36ea16",
   "metadata": {
    "papermill": {
     "duration": 0.017833,
     "end_time": "2022-06-10T18:56:56.686892",
     "exception": false,
     "start_time": "2022-06-10T18:56:56.669059",
     "status": "completed"
    },
    "tags": []
   },
   "source": [
    "# Import Required Library"
   ]
  },
  {
   "cell_type": "code",
   "execution_count": 1,
   "id": "12bf5cbf",
   "metadata": {
    "execution": {
     "iopub.execute_input": "2022-06-10T18:56:56.719162Z",
     "iopub.status.busy": "2022-06-10T18:56:56.718592Z",
     "iopub.status.idle": "2022-06-10T18:56:57.841900Z",
     "shell.execute_reply": "2022-06-10T18:56:57.840857Z"
    },
    "papermill": {
     "duration": 1.142841,
     "end_time": "2022-06-10T18:56:57.844793",
     "exception": false,
     "start_time": "2022-06-10T18:56:56.701952",
     "status": "completed"
    },
    "tags": []
   },
   "outputs": [],
   "source": [
    "import numpy as np\n",
    "import pandas as pd\n",
    "import matplotlib.pyplot as plt\n",
    "import seaborn as sns\n",
    "import warnings\n",
    "warnings.filterwarnings('ignore')"
   ]
  },
  {
   "cell_type": "markdown",
   "id": "8b0d086e",
   "metadata": {
    "papermill": {
     "duration": 0.015776,
     "end_time": "2022-06-10T18:56:57.876551",
     "exception": false,
     "start_time": "2022-06-10T18:56:57.860775",
     "status": "completed"
    },
    "tags": []
   },
   "source": [
    "### load dataset"
   ]
  },
  {
   "cell_type": "code",
   "execution_count": 2,
   "id": "78957050",
   "metadata": {
    "execution": {
     "iopub.execute_input": "2022-06-10T18:56:57.908830Z",
     "iopub.status.busy": "2022-06-10T18:56:57.907899Z",
     "iopub.status.idle": "2022-06-10T18:56:58.009172Z",
     "shell.execute_reply": "2022-06-10T18:56:58.008246Z"
    },
    "papermill": {
     "duration": 0.119875,
     "end_time": "2022-06-10T18:56:58.011552",
     "exception": false,
     "start_time": "2022-06-10T18:56:57.891677",
     "status": "completed"
    },
    "tags": []
   },
   "outputs": [
    {
     "data": {
      "text/html": [
       "<div>\n",
       "<style scoped>\n",
       "    .dataframe tbody tr th:only-of-type {\n",
       "        vertical-align: middle;\n",
       "    }\n",
       "\n",
       "    .dataframe tbody tr th {\n",
       "        vertical-align: top;\n",
       "    }\n",
       "\n",
       "    .dataframe thead th {\n",
       "        text-align: right;\n",
       "    }\n",
       "</style>\n",
       "<table border=\"1\" class=\"dataframe\">\n",
       "  <thead>\n",
       "    <tr style=\"text-align: right;\">\n",
       "      <th></th>\n",
       "      <th>App</th>\n",
       "      <th>Category</th>\n",
       "      <th>Rating</th>\n",
       "      <th>Reviews</th>\n",
       "      <th>Size</th>\n",
       "      <th>Installs</th>\n",
       "      <th>Type</th>\n",
       "      <th>Price</th>\n",
       "      <th>Content Rating</th>\n",
       "      <th>Genres</th>\n",
       "      <th>Last Updated</th>\n",
       "      <th>Current Ver</th>\n",
       "      <th>Android Ver</th>\n",
       "    </tr>\n",
       "  </thead>\n",
       "  <tbody>\n",
       "    <tr>\n",
       "      <th>0</th>\n",
       "      <td>Photo Editor &amp; Candy Camera &amp; Grid &amp; ScrapBook</td>\n",
       "      <td>ART_AND_DESIGN</td>\n",
       "      <td>4.1</td>\n",
       "      <td>159</td>\n",
       "      <td>19M</td>\n",
       "      <td>10,000+</td>\n",
       "      <td>Free</td>\n",
       "      <td>0</td>\n",
       "      <td>Everyone</td>\n",
       "      <td>Art &amp; Design</td>\n",
       "      <td>January 7, 2018</td>\n",
       "      <td>1.0.0</td>\n",
       "      <td>4.0.3 and up</td>\n",
       "    </tr>\n",
       "    <tr>\n",
       "      <th>1</th>\n",
       "      <td>Coloring book moana</td>\n",
       "      <td>ART_AND_DESIGN</td>\n",
       "      <td>3.9</td>\n",
       "      <td>967</td>\n",
       "      <td>14M</td>\n",
       "      <td>500,000+</td>\n",
       "      <td>Free</td>\n",
       "      <td>0</td>\n",
       "      <td>Everyone</td>\n",
       "      <td>Art &amp; Design;Pretend Play</td>\n",
       "      <td>January 15, 2018</td>\n",
       "      <td>2.0.0</td>\n",
       "      <td>4.0.3 and up</td>\n",
       "    </tr>\n",
       "    <tr>\n",
       "      <th>2</th>\n",
       "      <td>U Launcher Lite – FREE Live Cool Themes, Hide ...</td>\n",
       "      <td>ART_AND_DESIGN</td>\n",
       "      <td>4.7</td>\n",
       "      <td>87510</td>\n",
       "      <td>8.7M</td>\n",
       "      <td>5,000,000+</td>\n",
       "      <td>Free</td>\n",
       "      <td>0</td>\n",
       "      <td>Everyone</td>\n",
       "      <td>Art &amp; Design</td>\n",
       "      <td>August 1, 2018</td>\n",
       "      <td>1.2.4</td>\n",
       "      <td>4.0.3 and up</td>\n",
       "    </tr>\n",
       "    <tr>\n",
       "      <th>3</th>\n",
       "      <td>Sketch - Draw &amp; Paint</td>\n",
       "      <td>ART_AND_DESIGN</td>\n",
       "      <td>4.5</td>\n",
       "      <td>215644</td>\n",
       "      <td>25M</td>\n",
       "      <td>50,000,000+</td>\n",
       "      <td>Free</td>\n",
       "      <td>0</td>\n",
       "      <td>Teen</td>\n",
       "      <td>Art &amp; Design</td>\n",
       "      <td>June 8, 2018</td>\n",
       "      <td>Varies with device</td>\n",
       "      <td>4.2 and up</td>\n",
       "    </tr>\n",
       "    <tr>\n",
       "      <th>4</th>\n",
       "      <td>Pixel Draw - Number Art Coloring Book</td>\n",
       "      <td>ART_AND_DESIGN</td>\n",
       "      <td>4.3</td>\n",
       "      <td>967</td>\n",
       "      <td>2.8M</td>\n",
       "      <td>100,000+</td>\n",
       "      <td>Free</td>\n",
       "      <td>0</td>\n",
       "      <td>Everyone</td>\n",
       "      <td>Art &amp; Design;Creativity</td>\n",
       "      <td>June 20, 2018</td>\n",
       "      <td>1.1</td>\n",
       "      <td>4.4 and up</td>\n",
       "    </tr>\n",
       "    <tr>\n",
       "      <th>...</th>\n",
       "      <td>...</td>\n",
       "      <td>...</td>\n",
       "      <td>...</td>\n",
       "      <td>...</td>\n",
       "      <td>...</td>\n",
       "      <td>...</td>\n",
       "      <td>...</td>\n",
       "      <td>...</td>\n",
       "      <td>...</td>\n",
       "      <td>...</td>\n",
       "      <td>...</td>\n",
       "      <td>...</td>\n",
       "      <td>...</td>\n",
       "    </tr>\n",
       "    <tr>\n",
       "      <th>10836</th>\n",
       "      <td>Sya9a Maroc - FR</td>\n",
       "      <td>FAMILY</td>\n",
       "      <td>4.5</td>\n",
       "      <td>38</td>\n",
       "      <td>53M</td>\n",
       "      <td>5,000+</td>\n",
       "      <td>Free</td>\n",
       "      <td>0</td>\n",
       "      <td>Everyone</td>\n",
       "      <td>Education</td>\n",
       "      <td>July 25, 2017</td>\n",
       "      <td>1.48</td>\n",
       "      <td>4.1 and up</td>\n",
       "    </tr>\n",
       "    <tr>\n",
       "      <th>10837</th>\n",
       "      <td>Fr. Mike Schmitz Audio Teachings</td>\n",
       "      <td>FAMILY</td>\n",
       "      <td>5.0</td>\n",
       "      <td>4</td>\n",
       "      <td>3.6M</td>\n",
       "      <td>100+</td>\n",
       "      <td>Free</td>\n",
       "      <td>0</td>\n",
       "      <td>Everyone</td>\n",
       "      <td>Education</td>\n",
       "      <td>July 6, 2018</td>\n",
       "      <td>1.0</td>\n",
       "      <td>4.1 and up</td>\n",
       "    </tr>\n",
       "    <tr>\n",
       "      <th>10838</th>\n",
       "      <td>Parkinson Exercices FR</td>\n",
       "      <td>MEDICAL</td>\n",
       "      <td>NaN</td>\n",
       "      <td>3</td>\n",
       "      <td>9.5M</td>\n",
       "      <td>1,000+</td>\n",
       "      <td>Free</td>\n",
       "      <td>0</td>\n",
       "      <td>Everyone</td>\n",
       "      <td>Medical</td>\n",
       "      <td>January 20, 2017</td>\n",
       "      <td>1.0</td>\n",
       "      <td>2.2 and up</td>\n",
       "    </tr>\n",
       "    <tr>\n",
       "      <th>10839</th>\n",
       "      <td>The SCP Foundation DB fr nn5n</td>\n",
       "      <td>BOOKS_AND_REFERENCE</td>\n",
       "      <td>4.5</td>\n",
       "      <td>114</td>\n",
       "      <td>Varies with device</td>\n",
       "      <td>1,000+</td>\n",
       "      <td>Free</td>\n",
       "      <td>0</td>\n",
       "      <td>Mature 17+</td>\n",
       "      <td>Books &amp; Reference</td>\n",
       "      <td>January 19, 2015</td>\n",
       "      <td>Varies with device</td>\n",
       "      <td>Varies with device</td>\n",
       "    </tr>\n",
       "    <tr>\n",
       "      <th>10840</th>\n",
       "      <td>iHoroscope - 2018 Daily Horoscope &amp; Astrology</td>\n",
       "      <td>LIFESTYLE</td>\n",
       "      <td>4.5</td>\n",
       "      <td>398307</td>\n",
       "      <td>19M</td>\n",
       "      <td>10,000,000+</td>\n",
       "      <td>Free</td>\n",
       "      <td>0</td>\n",
       "      <td>Everyone</td>\n",
       "      <td>Lifestyle</td>\n",
       "      <td>July 25, 2018</td>\n",
       "      <td>Varies with device</td>\n",
       "      <td>Varies with device</td>\n",
       "    </tr>\n",
       "  </tbody>\n",
       "</table>\n",
       "<p>10841 rows × 13 columns</p>\n",
       "</div>"
      ],
      "text/plain": [
       "                                                     App             Category  \\\n",
       "0         Photo Editor & Candy Camera & Grid & ScrapBook       ART_AND_DESIGN   \n",
       "1                                    Coloring book moana       ART_AND_DESIGN   \n",
       "2      U Launcher Lite – FREE Live Cool Themes, Hide ...       ART_AND_DESIGN   \n",
       "3                                  Sketch - Draw & Paint       ART_AND_DESIGN   \n",
       "4                  Pixel Draw - Number Art Coloring Book       ART_AND_DESIGN   \n",
       "...                                                  ...                  ...   \n",
       "10836                                   Sya9a Maroc - FR               FAMILY   \n",
       "10837                   Fr. Mike Schmitz Audio Teachings               FAMILY   \n",
       "10838                             Parkinson Exercices FR              MEDICAL   \n",
       "10839                      The SCP Foundation DB fr nn5n  BOOKS_AND_REFERENCE   \n",
       "10840      iHoroscope - 2018 Daily Horoscope & Astrology            LIFESTYLE   \n",
       "\n",
       "       Rating Reviews                Size     Installs  Type Price  \\\n",
       "0         4.1     159                 19M      10,000+  Free     0   \n",
       "1         3.9     967                 14M     500,000+  Free     0   \n",
       "2         4.7   87510                8.7M   5,000,000+  Free     0   \n",
       "3         4.5  215644                 25M  50,000,000+  Free     0   \n",
       "4         4.3     967                2.8M     100,000+  Free     0   \n",
       "...       ...     ...                 ...          ...   ...   ...   \n",
       "10836     4.5      38                 53M       5,000+  Free     0   \n",
       "10837     5.0       4                3.6M         100+  Free     0   \n",
       "10838     NaN       3                9.5M       1,000+  Free     0   \n",
       "10839     4.5     114  Varies with device       1,000+  Free     0   \n",
       "10840     4.5  398307                 19M  10,000,000+  Free     0   \n",
       "\n",
       "      Content Rating                     Genres      Last Updated  \\\n",
       "0           Everyone               Art & Design   January 7, 2018   \n",
       "1           Everyone  Art & Design;Pretend Play  January 15, 2018   \n",
       "2           Everyone               Art & Design    August 1, 2018   \n",
       "3               Teen               Art & Design      June 8, 2018   \n",
       "4           Everyone    Art & Design;Creativity     June 20, 2018   \n",
       "...              ...                        ...               ...   \n",
       "10836       Everyone                  Education     July 25, 2017   \n",
       "10837       Everyone                  Education      July 6, 2018   \n",
       "10838       Everyone                    Medical  January 20, 2017   \n",
       "10839     Mature 17+          Books & Reference  January 19, 2015   \n",
       "10840       Everyone                  Lifestyle     July 25, 2018   \n",
       "\n",
       "              Current Ver         Android Ver  \n",
       "0                   1.0.0        4.0.3 and up  \n",
       "1                   2.0.0        4.0.3 and up  \n",
       "2                   1.2.4        4.0.3 and up  \n",
       "3      Varies with device          4.2 and up  \n",
       "4                     1.1          4.4 and up  \n",
       "...                   ...                 ...  \n",
       "10836                1.48          4.1 and up  \n",
       "10837                 1.0          4.1 and up  \n",
       "10838                 1.0          2.2 and up  \n",
       "10839  Varies with device  Varies with device  \n",
       "10840  Varies with device  Varies with device  \n",
       "\n",
       "[10841 rows x 13 columns]"
      ]
     },
     "execution_count": 2,
     "metadata": {},
     "output_type": "execute_result"
    }
   ],
   "source": [
    "#To load dataset\n",
    "df = pd.read_csv('../input/google-play-store-apps/googleplaystore.csv')\n",
    "df"
   ]
  },
  {
   "cell_type": "markdown",
   "id": "008bbef1",
   "metadata": {
    "papermill": {
     "duration": 0.015515,
     "end_time": "2022-06-10T18:56:58.043583",
     "exception": false,
     "start_time": "2022-06-10T18:56:58.028068",
     "status": "completed"
    },
    "tags": []
   },
   "source": [
    "# EDA"
   ]
  },
  {
   "cell_type": "markdown",
   "id": "454d1eb2",
   "metadata": {
    "papermill": {
     "duration": 0.016136,
     "end_time": "2022-06-10T18:56:58.075709",
     "exception": false,
     "start_time": "2022-06-10T18:56:58.059573",
     "status": "completed"
    },
    "tags": []
   },
   "source": [
    "### Shape & columns in dataFrame"
   ]
  },
  {
   "cell_type": "code",
   "execution_count": 3,
   "id": "d2033897",
   "metadata": {
    "execution": {
     "iopub.execute_input": "2022-06-10T18:56:58.108643Z",
     "iopub.status.busy": "2022-06-10T18:56:58.108205Z",
     "iopub.status.idle": "2022-06-10T18:56:58.113836Z",
     "shell.execute_reply": "2022-06-10T18:56:58.113129Z"
    },
    "papermill": {
     "duration": 0.024405,
     "end_time": "2022-06-10T18:56:58.115843",
     "exception": false,
     "start_time": "2022-06-10T18:56:58.091438",
     "status": "completed"
    },
    "tags": []
   },
   "outputs": [
    {
     "data": {
      "text/plain": [
       "(10841, 13)"
      ]
     },
     "execution_count": 3,
     "metadata": {},
     "output_type": "execute_result"
    }
   ],
   "source": [
    "df.shape"
   ]
  },
  {
   "cell_type": "code",
   "execution_count": 4,
   "id": "0082e49d",
   "metadata": {
    "execution": {
     "iopub.execute_input": "2022-06-10T18:56:58.149439Z",
     "iopub.status.busy": "2022-06-10T18:56:58.148321Z",
     "iopub.status.idle": "2022-06-10T18:56:58.154389Z",
     "shell.execute_reply": "2022-06-10T18:56:58.153507Z"
    },
    "papermill": {
     "duration": 0.024732,
     "end_time": "2022-06-10T18:56:58.156286",
     "exception": false,
     "start_time": "2022-06-10T18:56:58.131554",
     "status": "completed"
    },
    "tags": []
   },
   "outputs": [
    {
     "data": {
      "text/plain": [
       "Index(['App', 'Category', 'Rating', 'Reviews', 'Size', 'Installs', 'Type',\n",
       "       'Price', 'Content Rating', 'Genres', 'Last Updated', 'Current Ver',\n",
       "       'Android Ver'],\n",
       "      dtype='object')"
      ]
     },
     "execution_count": 4,
     "metadata": {},
     "output_type": "execute_result"
    }
   ],
   "source": [
    "df.columns"
   ]
  },
  {
   "cell_type": "markdown",
   "id": "b8522cbc",
   "metadata": {
    "papermill": {
     "duration": 0.015458,
     "end_time": "2022-06-10T18:56:58.187661",
     "exception": false,
     "start_time": "2022-06-10T18:56:58.172203",
     "status": "completed"
    },
    "tags": []
   },
   "source": [
    "### Null Values"
   ]
  },
  {
   "cell_type": "code",
   "execution_count": 5,
   "id": "ef7db01e",
   "metadata": {
    "execution": {
     "iopub.execute_input": "2022-06-10T18:56:58.221271Z",
     "iopub.status.busy": "2022-06-10T18:56:58.220368Z",
     "iopub.status.idle": "2022-06-10T18:56:58.235879Z",
     "shell.execute_reply": "2022-06-10T18:56:58.234714Z"
    },
    "papermill": {
     "duration": 0.034471,
     "end_time": "2022-06-10T18:56:58.237805",
     "exception": false,
     "start_time": "2022-06-10T18:56:58.203334",
     "status": "completed"
    },
    "tags": []
   },
   "outputs": [
    {
     "data": {
      "text/plain": [
       "App                  0\n",
       "Category             0\n",
       "Rating            1474\n",
       "Reviews              0\n",
       "Size                 0\n",
       "Installs             0\n",
       "Type                 1\n",
       "Price                0\n",
       "Content Rating       1\n",
       "Genres               0\n",
       "Last Updated         0\n",
       "Current Ver          8\n",
       "Android Ver          3\n",
       "dtype: int64"
      ]
     },
     "execution_count": 5,
     "metadata": {},
     "output_type": "execute_result"
    }
   ],
   "source": [
    "#check null values\n",
    "df.isnull().sum()"
   ]
  },
  {
   "cell_type": "code",
   "execution_count": 6,
   "id": "809fe4e3",
   "metadata": {
    "execution": {
     "iopub.execute_input": "2022-06-10T18:56:58.273083Z",
     "iopub.status.busy": "2022-06-10T18:56:58.272406Z",
     "iopub.status.idle": "2022-06-10T18:56:58.287056Z",
     "shell.execute_reply": "2022-06-10T18:56:58.286071Z"
    },
    "papermill": {
     "duration": 0.034825,
     "end_time": "2022-06-10T18:56:58.289092",
     "exception": false,
     "start_time": "2022-06-10T18:56:58.254267",
     "status": "completed"
    },
    "tags": []
   },
   "outputs": [
    {
     "data": {
      "text/plain": [
       "App                0.000000\n",
       "Category           0.000000\n",
       "Rating            13.596532\n",
       "Reviews            0.000000\n",
       "Size               0.000000\n",
       "Installs           0.000000\n",
       "Type               0.009224\n",
       "Price              0.000000\n",
       "Content Rating     0.009224\n",
       "Genres             0.000000\n",
       "Last Updated       0.000000\n",
       "Current Ver        0.073794\n",
       "Android Ver        0.027673\n",
       "dtype: float64"
      ]
     },
     "execution_count": 6,
     "metadata": {},
     "output_type": "execute_result"
    }
   ],
   "source": [
    "#check columnwise null values %\n",
    "df.isnull().sum()/df.shape[0]*100"
   ]
  },
  {
   "cell_type": "markdown",
   "id": "39318c5c",
   "metadata": {
    "papermill": {
     "duration": 0.016005,
     "end_time": "2022-06-10T18:56:58.320980",
     "exception": false,
     "start_time": "2022-06-10T18:56:58.304975",
     "status": "completed"
    },
    "tags": []
   },
   "source": [
    "### DataTypes"
   ]
  },
  {
   "cell_type": "code",
   "execution_count": 7,
   "id": "123e9c3c",
   "metadata": {
    "execution": {
     "iopub.execute_input": "2022-06-10T18:56:58.355135Z",
     "iopub.status.busy": "2022-06-10T18:56:58.354472Z",
     "iopub.status.idle": "2022-06-10T18:56:58.361221Z",
     "shell.execute_reply": "2022-06-10T18:56:58.360534Z"
    },
    "papermill": {
     "duration": 0.025843,
     "end_time": "2022-06-10T18:56:58.363001",
     "exception": false,
     "start_time": "2022-06-10T18:56:58.337158",
     "status": "completed"
    },
    "tags": []
   },
   "outputs": [
    {
     "data": {
      "text/plain": [
       "App                object\n",
       "Category           object\n",
       "Rating            float64\n",
       "Reviews            object\n",
       "Size               object\n",
       "Installs           object\n",
       "Type               object\n",
       "Price              object\n",
       "Content Rating     object\n",
       "Genres             object\n",
       "Last Updated       object\n",
       "Current Ver        object\n",
       "Android Ver        object\n",
       "dtype: object"
      ]
     },
     "execution_count": 7,
     "metadata": {},
     "output_type": "execute_result"
    }
   ],
   "source": [
    "#check datatypes\n",
    "df.dtypes"
   ]
  },
  {
   "cell_type": "markdown",
   "id": "87db69e8",
   "metadata": {
    "papermill": {
     "duration": 0.015978,
     "end_time": "2022-06-10T18:56:58.395003",
     "exception": false,
     "start_time": "2022-06-10T18:56:58.379025",
     "status": "completed"
    },
    "tags": []
   },
   "source": [
    "### As seen there are so many null values in rating columns"
   ]
  },
  {
   "cell_type": "code",
   "execution_count": 8,
   "id": "f8d84529",
   "metadata": {
    "execution": {
     "iopub.execute_input": "2022-06-10T18:56:58.429117Z",
     "iopub.status.busy": "2022-06-10T18:56:58.428449Z",
     "iopub.status.idle": "2022-06-10T18:56:58.966157Z",
     "shell.execute_reply": "2022-06-10T18:56:58.965158Z"
    },
    "papermill": {
     "duration": 0.557028,
     "end_time": "2022-06-10T18:56:58.968339",
     "exception": false,
     "start_time": "2022-06-10T18:56:58.411311",
     "status": "completed"
    },
    "tags": []
   },
   "outputs": [
    {
     "data": {
      "text/plain": [
       "<AxesSubplot:>"
      ]
     },
     "execution_count": 8,
     "metadata": {},
     "output_type": "execute_result"
    },
    {
     "data": {
      "image/png": "[encoded data removed]",
      "text/plain": [
       "<Figure size 432x288 with 2 Axes>"
      ]
     },
     "metadata": {
      "needs_background": "light"
     },
     "output_type": "display_data"
    }
   ],
   "source": [
    "#visualize null values\n",
    "sns.heatmap(df.isnull())"
   ]
  },
  {
   "cell_type": "markdown",
   "id": "f5908c7f",
   "metadata": {
    "papermill": {
     "duration": 0.016107,
     "end_time": "2022-06-10T18:56:59.001016",
     "exception": false,
     "start_time": "2022-06-10T18:56:58.984909",
     "status": "completed"
    },
    "tags": []
   },
   "source": [
    "### Handle Null values"
   ]
  },
  {
   "cell_type": "code",
   "execution_count": 9,
   "id": "35a123af",
   "metadata": {
    "execution": {
     "iopub.execute_input": "2022-06-10T18:56:59.035467Z",
     "iopub.status.busy": "2022-06-10T18:56:59.035060Z",
     "iopub.status.idle": "2022-06-10T18:56:59.043659Z",
     "shell.execute_reply": "2022-06-10T18:56:59.042960Z"
    },
    "papermill": {
     "duration": 0.028131,
     "end_time": "2022-06-10T18:56:59.045527",
     "exception": false,
     "start_time": "2022-06-10T18:56:59.017396",
     "status": "completed"
    },
    "tags": []
   },
   "outputs": [],
   "source": [
    "mean = df['Rating'].mean()\n",
    "mean\n",
    "df['Rating'].fillna(mean,inplace=True)"
   ]
  },
  {
   "cell_type": "markdown",
   "id": "53d89012",
   "metadata": {
    "papermill": {
     "duration": 0.016279,
     "end_time": "2022-06-10T18:56:59.078700",
     "exception": false,
     "start_time": "2022-06-10T18:56:59.062421",
     "status": "completed"
    },
    "tags": []
   },
   "source": [
    "### Drop other Records with Null values\n",
    "* In other columns null values are very very less \n",
    "* so by deleting its will not affect more"
   ]
  },
  {
   "cell_type": "code",
   "execution_count": 10,
   "id": "eaeacc26",
   "metadata": {
    "execution": {
     "iopub.execute_input": "2022-06-10T18:56:59.113836Z",
     "iopub.status.busy": "2022-06-10T18:56:59.113474Z",
     "iopub.status.idle": "2022-06-10T18:56:59.131006Z",
     "shell.execute_reply": "2022-06-10T18:56:59.129898Z"
    },
    "papermill": {
     "duration": 0.037437,
     "end_time": "2022-06-10T18:56:59.133189",
     "exception": false,
     "start_time": "2022-06-10T18:56:59.095752",
     "status": "completed"
    },
    "tags": []
   },
   "outputs": [],
   "source": [
    "df.dropna(inplace=True,axis=0)"
   ]
  },
  {
   "cell_type": "code",
   "execution_count": 11,
   "id": "e8210cb8",
   "metadata": {
    "execution": {
     "iopub.execute_input": "2022-06-10T18:56:59.169000Z",
     "iopub.status.busy": "2022-06-10T18:56:59.168280Z",
     "iopub.status.idle": "2022-06-10T18:56:59.182551Z",
     "shell.execute_reply": "2022-06-10T18:56:59.181543Z"
    },
    "papermill": {
     "duration": 0.034316,
     "end_time": "2022-06-10T18:56:59.184532",
     "exception": false,
     "start_time": "2022-06-10T18:56:59.150216",
     "status": "completed"
    },
    "tags": []
   },
   "outputs": [
    {
     "data": {
      "text/plain": [
       "App               0\n",
       "Category          0\n",
       "Rating            0\n",
       "Reviews           0\n",
       "Size              0\n",
       "Installs          0\n",
       "Type              0\n",
       "Price             0\n",
       "Content Rating    0\n",
       "Genres            0\n",
       "Last Updated      0\n",
       "Current Ver       0\n",
       "Android Ver       0\n",
       "dtype: int64"
      ]
     },
     "execution_count": 11,
     "metadata": {},
     "output_type": "execute_result"
    }
   ],
   "source": [
    "df.isnull().sum()"
   ]
  },
  {
   "cell_type": "markdown",
   "id": "af5a0600",
   "metadata": {
    "papermill": {
     "duration": 0.017005,
     "end_time": "2022-06-10T18:56:59.218173",
     "exception": false,
     "start_time": "2022-06-10T18:56:59.201168",
     "status": "completed"
    },
    "tags": []
   },
   "source": [
    "### check for unique values"
   ]
  },
  {
   "cell_type": "code",
   "execution_count": 12,
   "id": "b831f1f4",
   "metadata": {
    "execution": {
     "iopub.execute_input": "2022-06-10T18:56:59.255609Z",
     "iopub.status.busy": "2022-06-10T18:56:59.254937Z",
     "iopub.status.idle": "2022-06-10T18:56:59.266053Z",
     "shell.execute_reply": "2022-06-10T18:56:59.265399Z"
    },
    "papermill": {
     "duration": 0.031272,
     "end_time": "2022-06-10T18:56:59.267925",
     "exception": false,
     "start_time": "2022-06-10T18:56:59.236653",
     "status": "completed"
    },
    "tags": []
   },
   "outputs": [
    {
     "data": {
      "text/plain": [
       "Free    10032\n",
       "Paid      797\n",
       "Name: Type, dtype: int64"
      ]
     },
     "execution_count": 12,
     "metadata": {},
     "output_type": "execute_result"
    }
   ],
   "source": [
    "df['Type'].value_counts()"
   ]
  },
  {
   "cell_type": "code",
   "execution_count": 13,
   "id": "fcee4a54",
   "metadata": {
    "execution": {
     "iopub.execute_input": "2022-06-10T18:56:59.303923Z",
     "iopub.status.busy": "2022-06-10T18:56:59.302878Z",
     "iopub.status.idle": "2022-06-10T18:56:59.311493Z",
     "shell.execute_reply": "2022-06-10T18:56:59.310543Z"
    },
    "papermill": {
     "duration": 0.028635,
     "end_time": "2022-06-10T18:56:59.313371",
     "exception": false,
     "start_time": "2022-06-10T18:56:59.284736",
     "status": "completed"
    },
    "tags": []
   },
   "outputs": [
    {
     "data": {
      "text/plain": [
       "Everyone           8704\n",
       "Teen               1208\n",
       "Mature 17+          499\n",
       "Everyone 10+        413\n",
       "Adults only 18+       3\n",
       "Unrated               2\n",
       "Name: Content Rating, dtype: int64"
      ]
     },
     "execution_count": 13,
     "metadata": {},
     "output_type": "execute_result"
    }
   ],
   "source": [
    "df['Content Rating'].value_counts()"
   ]
  },
  {
   "cell_type": "code",
   "execution_count": 14,
   "id": "be556b6a",
   "metadata": {
    "execution": {
     "iopub.execute_input": "2022-06-10T18:56:59.348917Z",
     "iopub.status.busy": "2022-06-10T18:56:59.348031Z",
     "iopub.status.idle": "2022-06-10T18:56:59.355288Z",
     "shell.execute_reply": "2022-06-10T18:56:59.354535Z"
    },
    "papermill": {
     "duration": 0.026787,
     "end_time": "2022-06-10T18:56:59.357084",
     "exception": false,
     "start_time": "2022-06-10T18:56:59.330297",
     "status": "completed"
    },
    "tags": []
   },
   "outputs": [
    {
     "data": {
      "text/plain": [
       "array(['0', '$4.99', '$3.99', '$6.99', '$1.49', '$2.99', '$7.99', '$5.99',\n",
       "       '$3.49', '$1.99', '$9.99', '$7.49', '$0.99', '$9.00', '$5.49',\n",
       "       '$10.00', '$24.99', '$11.99', '$79.99', '$16.99', '$14.99',\n",
       "       '$1.00', '$29.99', '$12.99', '$2.49', '$10.99', '$1.50', '$19.99',\n",
       "       '$15.99', '$33.99', '$74.99', '$39.99', '$3.95', '$4.49', '$1.70',\n",
       "       '$8.99', '$2.00', '$3.88', '$25.99', '$399.99', '$17.99',\n",
       "       '$400.00', '$3.02', '$1.76', '$4.84', '$4.77', '$1.61', '$2.50',\n",
       "       '$1.59', '$6.49', '$1.29', '$5.00', '$13.99', '$299.99', '$379.99',\n",
       "       '$37.99', '$18.99', '$389.99', '$19.90', '$8.49', '$1.75',\n",
       "       '$14.00', '$4.85', '$46.99', '$109.99', '$154.99', '$3.08',\n",
       "       '$2.59', '$4.80', '$1.96', '$19.40', '$3.90', '$4.59', '$15.46',\n",
       "       '$3.04', '$4.29', '$2.60', '$3.28', '$4.60', '$28.99', '$2.95',\n",
       "       '$2.90', '$1.97', '$200.00', '$89.99', '$2.56', '$30.99', '$3.61',\n",
       "       '$394.99', '$1.26', '$1.20', '$1.04'], dtype=object)"
      ]
     },
     "execution_count": 14,
     "metadata": {},
     "output_type": "execute_result"
    }
   ],
   "source": [
    "df['Price'].unique()"
   ]
  },
  {
   "cell_type": "markdown",
   "id": "fbb5cdcb",
   "metadata": {
    "papermill": {
     "duration": 0.017197,
     "end_time": "2022-06-10T18:56:59.391314",
     "exception": false,
     "start_time": "2022-06-10T18:56:59.374117",
     "status": "completed"
    },
    "tags": []
   },
   "source": [
    "### Correct Price data & then change its data types"
   ]
  },
  {
   "cell_type": "code",
   "execution_count": 15,
   "id": "c826f90e",
   "metadata": {
    "execution": {
     "iopub.execute_input": "2022-06-10T18:56:59.426986Z",
     "iopub.status.busy": "2022-06-10T18:56:59.426295Z",
     "iopub.status.idle": "2022-06-10T18:56:59.433436Z",
     "shell.execute_reply": "2022-06-10T18:56:59.432751Z"
    },
    "papermill": {
     "duration": 0.027265,
     "end_time": "2022-06-10T18:56:59.435466",
     "exception": false,
     "start_time": "2022-06-10T18:56:59.408201",
     "status": "completed"
    },
    "tags": []
   },
   "outputs": [],
   "source": [
    "df['Price'] = df['Price'].map(lambda x : x.lstrip('$'))"
   ]
  },
  {
   "cell_type": "code",
   "execution_count": 16,
   "id": "7b4b8248",
   "metadata": {
    "execution": {
     "iopub.execute_input": "2022-06-10T18:56:59.471384Z",
     "iopub.status.busy": "2022-06-10T18:56:59.470722Z",
     "iopub.status.idle": "2022-06-10T18:56:59.477950Z",
     "shell.execute_reply": "2022-06-10T18:56:59.477285Z"
    },
    "papermill": {
     "duration": 0.027342,
     "end_time": "2022-06-10T18:56:59.479990",
     "exception": false,
     "start_time": "2022-06-10T18:56:59.452648",
     "status": "completed"
    },
    "tags": []
   },
   "outputs": [],
   "source": [
    "df['Price']=df['Price'].astype('float')"
   ]
  },
  {
   "cell_type": "code",
   "execution_count": 17,
   "id": "22bf2c8d",
   "metadata": {
    "execution": {
     "iopub.execute_input": "2022-06-10T18:56:59.515914Z",
     "iopub.status.busy": "2022-06-10T18:56:59.515217Z",
     "iopub.status.idle": "2022-06-10T18:56:59.524608Z",
     "shell.execute_reply": "2022-06-10T18:56:59.523521Z"
    },
    "papermill": {
     "duration": 0.029562,
     "end_time": "2022-06-10T18:56:59.526638",
     "exception": false,
     "start_time": "2022-06-10T18:56:59.497076",
     "status": "completed"
    },
    "tags": []
   },
   "outputs": [
    {
     "data": {
      "text/plain": [
       "array([  0.  ,   4.99,   3.99,   6.99,   1.49,   2.99,   7.99,   5.99,\n",
       "         3.49,   1.99,   9.99,   7.49,   0.99,   9.  ,   5.49,  10.  ,\n",
       "        24.99,  11.99,  79.99,  16.99,  14.99,   1.  ,  29.99,  12.99,\n",
       "         2.49,  10.99,   1.5 ,  19.99,  15.99,  33.99,  74.99,  39.99,\n",
       "         3.95,   4.49,   1.7 ,   8.99,   2.  ,   3.88,  25.99, 399.99,\n",
       "        17.99, 400.  ,   3.02,   1.76,   4.84,   4.77,   1.61,   2.5 ,\n",
       "         1.59,   6.49,   1.29,   5.  ,  13.99, 299.99, 379.99,  37.99,\n",
       "        18.99, 389.99,  19.9 ,   8.49,   1.75,  14.  ,   4.85,  46.99,\n",
       "       109.99, 154.99,   3.08,   2.59,   4.8 ,   1.96,  19.4 ,   3.9 ,\n",
       "         4.59,  15.46,   3.04,   4.29,   2.6 ,   3.28,   4.6 ,  28.99,\n",
       "         2.95,   2.9 ,   1.97, 200.  ,  89.99,   2.56,  30.99,   3.61,\n",
       "       394.99,   1.26,   1.2 ,   1.04])"
      ]
     },
     "execution_count": 17,
     "metadata": {},
     "output_type": "execute_result"
    }
   ],
   "source": [
    "df['Price'].unique()"
   ]
  },
  {
   "cell_type": "markdown",
   "id": "0b168aa5",
   "metadata": {
    "papermill": {
     "duration": 0.016767,
     "end_time": "2022-06-10T18:56:59.560924",
     "exception": false,
     "start_time": "2022-06-10T18:56:59.544157",
     "status": "completed"
    },
    "tags": []
   },
   "source": [
    "### Unique Values in size"
   ]
  },
  {
   "cell_type": "code",
   "execution_count": 18,
   "id": "2c75d1d3",
   "metadata": {
    "execution": {
     "iopub.execute_input": "2022-06-10T18:56:59.597244Z",
     "iopub.status.busy": "2022-06-10T18:56:59.596303Z",
     "iopub.status.idle": "2022-06-10T18:56:59.603878Z",
     "shell.execute_reply": "2022-06-10T18:56:59.603134Z"
    },
    "papermill": {
     "duration": 0.027611,
     "end_time": "2022-06-10T18:56:59.605645",
     "exception": false,
     "start_time": "2022-06-10T18:56:59.578034",
     "status": "completed"
    },
    "tags": []
   },
   "outputs": [
    {
     "data": {
      "text/plain": [
       "array(['19M', '14M', '8.7M', '25M', '2.8M', '5.6M', '29M', '33M', '3.1M',\n",
       "       '28M', '12M', '20M', '21M', '37M', '5.5M', '17M', '39M', '31M',\n",
       "       '4.2M', '7.0M', '23M', '6.0M', '6.1M', '4.6M', '9.2M', '5.2M',\n",
       "       '11M', '24M', 'Varies with device', '9.4M', '15M', '10M', '1.2M',\n",
       "       '26M', '8.0M', '7.9M', '56M', '57M', '35M', '54M', '201k', '3.6M',\n",
       "       '5.7M', '8.6M', '2.4M', '27M', '2.7M', '2.5M', '16M', '3.4M',\n",
       "       '8.9M', '3.9M', '2.9M', '38M', '32M', '5.4M', '18M', '1.1M',\n",
       "       '2.2M', '4.5M', '9.8M', '52M', '9.0M', '6.7M', '30M', '2.6M',\n",
       "       '7.1M', '3.7M', '22M', '7.4M', '6.4M', '3.2M', '8.2M', '9.9M',\n",
       "       '4.9M', '9.5M', '5.0M', '5.9M', '13M', '73M', '6.8M', '3.5M',\n",
       "       '4.0M', '2.3M', '7.2M', '2.1M', '42M', '7.3M', '9.1M', '55M',\n",
       "       '23k', '6.5M', '1.5M', '7.5M', '51M', '41M', '48M', '8.5M', '46M',\n",
       "       '8.3M', '4.3M', '4.7M', '3.3M', '40M', '7.8M', '8.8M', '6.6M',\n",
       "       '5.1M', '61M', '66M', '79k', '8.4M', '118k', '44M', '695k', '1.6M',\n",
       "       '6.2M', '18k', '53M', '1.4M', '3.0M', '5.8M', '3.8M', '9.6M',\n",
       "       '45M', '63M', '49M', '77M', '4.4M', '4.8M', '70M', '6.9M', '9.3M',\n",
       "       '10.0M', '8.1M', '36M', '84M', '97M', '2.0M', '1.9M', '1.8M',\n",
       "       '5.3M', '47M', '556k', '526k', '76M', '7.6M', '59M', '9.7M', '78M',\n",
       "       '72M', '43M', '7.7M', '6.3M', '334k', '34M', '93M', '65M', '79M',\n",
       "       '100M', '58M', '50M', '68M', '64M', '67M', '60M', '94M', '232k',\n",
       "       '99M', '624k', '95M', '8.5k', '41k', '292k', '80M', '1.7M', '74M',\n",
       "       '62M', '69M', '75M', '98M', '85M', '82M', '96M', '87M', '71M',\n",
       "       '86M', '91M', '81M', '92M', '83M', '88M', '704k', '862k', '899k',\n",
       "       '378k', '266k', '375k', '1.3M', '975k', '980k', '4.1M', '89M',\n",
       "       '696k', '544k', '525k', '920k', '779k', '853k', '720k', '713k',\n",
       "       '772k', '318k', '58k', '241k', '196k', '857k', '51k', '953k',\n",
       "       '865k', '251k', '930k', '540k', '313k', '746k', '203k', '26k',\n",
       "       '314k', '239k', '371k', '220k', '730k', '756k', '91k', '293k',\n",
       "       '17k', '74k', '14k', '317k', '78k', '924k', '902k', '818k', '81k',\n",
       "       '939k', '169k', '45k', '475k', '965k', '90M', '545k', '61k',\n",
       "       '283k', '655k', '714k', '93k', '872k', '121k', '322k', '1.0M',\n",
       "       '976k', '172k', '238k', '549k', '206k', '954k', '444k', '717k',\n",
       "       '210k', '609k', '308k', '705k', '306k', '904k', '473k', '175k',\n",
       "       '350k', '383k', '454k', '421k', '70k', '812k', '442k', '842k',\n",
       "       '417k', '412k', '459k', '478k', '335k', '782k', '721k', '430k',\n",
       "       '429k', '192k', '200k', '460k', '728k', '496k', '816k', '414k',\n",
       "       '506k', '887k', '613k', '243k', '569k', '778k', '683k', '592k',\n",
       "       '319k', '186k', '840k', '647k', '191k', '373k', '437k', '598k',\n",
       "       '716k', '585k', '982k', '219k', '55k', '948k', '323k', '691k',\n",
       "       '511k', '951k', '963k', '25k', '554k', '351k', '27k', '82k',\n",
       "       '208k', '913k', '514k', '551k', '29k', '103k', '898k', '743k',\n",
       "       '116k', '153k', '209k', '353k', '499k', '173k', '597k', '809k',\n",
       "       '122k', '411k', '400k', '801k', '787k', '50k', '643k', '986k',\n",
       "       '97k', '516k', '837k', '780k', '961k', '269k', '20k', '498k',\n",
       "       '600k', '749k', '642k', '881k', '72k', '656k', '601k', '221k',\n",
       "       '228k', '108k', '940k', '176k', '33k', '663k', '34k', '942k',\n",
       "       '259k', '164k', '458k', '245k', '629k', '28k', '288k', '775k',\n",
       "       '785k', '636k', '916k', '994k', '309k', '485k', '914k', '903k',\n",
       "       '608k', '500k', '54k', '562k', '847k', '957k', '688k', '811k',\n",
       "       '270k', '48k', '329k', '523k', '921k', '874k', '981k', '784k',\n",
       "       '280k', '24k', '518k', '754k', '892k', '154k', '860k', '364k',\n",
       "       '387k', '626k', '161k', '879k', '39k', '970k', '170k', '141k',\n",
       "       '160k', '144k', '143k', '190k', '376k', '193k', '246k', '73k',\n",
       "       '992k', '253k', '420k', '404k', '470k', '226k', '240k', '89k',\n",
       "       '234k', '257k', '861k', '467k', '157k', '44k', '676k', '67k',\n",
       "       '552k', '885k', '1020k', '582k', '619k'], dtype=object)"
      ]
     },
     "execution_count": 18,
     "metadata": {},
     "output_type": "execute_result"
    }
   ],
   "source": [
    "df['Size'].unique()"
   ]
  },
  {
   "cell_type": "markdown",
   "id": "a219f1a4",
   "metadata": {
    "papermill": {
     "duration": 0.017003,
     "end_time": "2022-06-10T18:56:59.640112",
     "exception": false,
     "start_time": "2022-06-10T18:56:59.623109",
     "status": "completed"
    },
    "tags": []
   },
   "source": [
    "### Correct Size Data Types --as its contains values with different units (M & K)\n",
    "* CONVERT ALL INTO SINGLE UNIT"
   ]
  },
  {
   "cell_type": "code",
   "execution_count": 19,
   "id": "92de9979",
   "metadata": {
    "execution": {
     "iopub.execute_input": "2022-06-10T18:56:59.676899Z",
     "iopub.status.busy": "2022-06-10T18:56:59.676494Z",
     "iopub.status.idle": "2022-06-10T18:56:59.683903Z",
     "shell.execute_reply": "2022-06-10T18:56:59.683086Z"
    },
    "papermill": {
     "duration": 0.028029,
     "end_time": "2022-06-10T18:56:59.685549",
     "exception": false,
     "start_time": "2022-06-10T18:56:59.657520",
     "status": "completed"
    },
    "tags": []
   },
   "outputs": [],
   "source": [
    "df['Size']=df['Size'].map(lambda x : x.rstrip('M'))"
   ]
  },
  {
   "cell_type": "code",
   "execution_count": 20,
   "id": "b159f33c",
   "metadata": {
    "execution": {
     "iopub.execute_input": "2022-06-10T18:56:59.722204Z",
     "iopub.status.busy": "2022-06-10T18:56:59.721836Z",
     "iopub.status.idle": "2022-06-10T18:56:59.730447Z",
     "shell.execute_reply": "2022-06-10T18:56:59.729537Z"
    },
    "papermill": {
     "duration": 0.029568,
     "end_time": "2022-06-10T18:56:59.732519",
     "exception": false,
     "start_time": "2022-06-10T18:56:59.702951",
     "status": "completed"
    },
    "tags": []
   },
   "outputs": [
    {
     "data": {
      "text/plain": [
       "array(['19', '14', '8.7', '25', '2.8', '5.6', '29', '33', '3.1', '28',\n",
       "       '12', '20', '21', '37', '5.5', '17', '39', '31', '4.2', '7.0',\n",
       "       '23', '6.0', '6.1', '4.6', '9.2', '5.2', '11', '24',\n",
       "       'Varies with device', '9.4', '15', '10', '1.2', '26', '8.0', '7.9',\n",
       "       '56', '57', '35', '54', '201k', '3.6', '5.7', '8.6', '2.4', '27',\n",
       "       '2.7', '2.5', '16', '3.4', '8.9', '3.9', '2.9', '38', '32', '5.4',\n",
       "       '18', '1.1', '2.2', '4.5', '9.8', '52', '9.0', '6.7', '30', '2.6',\n",
       "       '7.1', '3.7', '22', '7.4', '6.4', '3.2', '8.2', '9.9', '4.9',\n",
       "       '9.5', '5.0', '5.9', '13', '73', '6.8', '3.5', '4.0', '2.3', '7.2',\n",
       "       '2.1', '42', '7.3', '9.1', '55', '23k', '6.5', '1.5', '7.5', '51',\n",
       "       '41', '48', '8.5', '46', '8.3', '4.3', '4.7', '3.3', '40', '7.8',\n",
       "       '8.8', '6.6', '5.1', '61', '66', '79k', '8.4', '118k', '44',\n",
       "       '695k', '1.6', '6.2', '18k', '53', '1.4', '3.0', '5.8', '3.8',\n",
       "       '9.6', '45', '63', '49', '77', '4.4', '4.8', '70', '6.9', '9.3',\n",
       "       '10.0', '8.1', '36', '84', '97', '2.0', '1.9', '1.8', '5.3', '47',\n",
       "       '556k', '526k', '76', '7.6', '59', '9.7', '78', '72', '43', '7.7',\n",
       "       '6.3', '334k', '34', '93', '65', '79', '100', '58', '50', '68',\n",
       "       '64', '67', '60', '94', '232k', '99', '624k', '95', '8.5k', '41k',\n",
       "       '292k', '80', '1.7', '74', '62', '69', '75', '98', '85', '82',\n",
       "       '96', '87', '71', '86', '91', '81', '92', '83', '88', '704k',\n",
       "       '862k', '899k', '378k', '266k', '375k', '1.3', '975k', '980k',\n",
       "       '4.1', '89', '696k', '544k', '525k', '920k', '779k', '853k',\n",
       "       '720k', '713k', '772k', '318k', '58k', '241k', '196k', '857k',\n",
       "       '51k', '953k', '865k', '251k', '930k', '540k', '313k', '746k',\n",
       "       '203k', '26k', '314k', '239k', '371k', '220k', '730k', '756k',\n",
       "       '91k', '293k', '17k', '74k', '14k', '317k', '78k', '924k', '902k',\n",
       "       '818k', '81k', '939k', '169k', '45k', '475k', '965k', '90', '545k',\n",
       "       '61k', '283k', '655k', '714k', '93k', '872k', '121k', '322k',\n",
       "       '1.0', '976k', '172k', '238k', '549k', '206k', '954k', '444k',\n",
       "       '717k', '210k', '609k', '308k', '705k', '306k', '904k', '473k',\n",
       "       '175k', '350k', '383k', '454k', '421k', '70k', '812k', '442k',\n",
       "       '842k', '417k', '412k', '459k', '478k', '335k', '782k', '721k',\n",
       "       '430k', '429k', '192k', '200k', '460k', '728k', '496k', '816k',\n",
       "       '414k', '506k', '887k', '613k', '243k', '569k', '778k', '683k',\n",
       "       '592k', '319k', '186k', '840k', '647k', '191k', '373k', '437k',\n",
       "       '598k', '716k', '585k', '982k', '219k', '55k', '948k', '323k',\n",
       "       '691k', '511k', '951k', '963k', '25k', '554k', '351k', '27k',\n",
       "       '82k', '208k', '913k', '514k', '551k', '29k', '103k', '898k',\n",
       "       '743k', '116k', '153k', '209k', '353k', '499k', '173k', '597k',\n",
       "       '809k', '122k', '411k', '400k', '801k', '787k', '50k', '643k',\n",
       "       '986k', '97k', '516k', '837k', '780k', '961k', '269k', '20k',\n",
       "       '498k', '600k', '749k', '642k', '881k', '72k', '656k', '601k',\n",
       "       '221k', '228k', '108k', '940k', '176k', '33k', '663k', '34k',\n",
       "       '942k', '259k', '164k', '458k', '245k', '629k', '28k', '288k',\n",
       "       '775k', '785k', '636k', '916k', '994k', '309k', '485k', '914k',\n",
       "       '903k', '608k', '500k', '54k', '562k', '847k', '957k', '688k',\n",
       "       '811k', '270k', '48k', '329k', '523k', '921k', '874k', '981k',\n",
       "       '784k', '280k', '24k', '518k', '754k', '892k', '154k', '860k',\n",
       "       '364k', '387k', '626k', '161k', '879k', '39k', '970k', '170k',\n",
       "       '141k', '160k', '144k', '143k', '190k', '376k', '193k', '246k',\n",
       "       '73k', '992k', '253k', '420k', '404k', '470k', '226k', '240k',\n",
       "       '89k', '234k', '257k', '861k', '467k', '157k', '44k', '676k',\n",
       "       '67k', '552k', '885k', '1020k', '582k', '619k'], dtype=object)"
      ]
     },
     "execution_count": 20,
     "metadata": {},
     "output_type": "execute_result"
    }
   ],
   "source": [
    "df['Size'].unique()"
   ]
  },
  {
   "cell_type": "markdown",
   "id": "182b6840",
   "metadata": {
    "papermill": {
     "duration": 0.017882,
     "end_time": "2022-06-10T18:56:59.768483",
     "exception": false,
     "start_time": "2022-06-10T18:56:59.750601",
     "status": "completed"
    },
    "tags": []
   },
   "source": [
    "### Keep all values of size in single unit"
   ]
  },
  {
   "cell_type": "code",
   "execution_count": 21,
   "id": "ffdfb87e",
   "metadata": {
    "execution": {
     "iopub.execute_input": "2022-06-10T18:56:59.807015Z",
     "iopub.status.busy": "2022-06-10T18:56:59.805956Z",
     "iopub.status.idle": "2022-06-10T18:56:59.814719Z",
     "shell.execute_reply": "2022-06-10T18:56:59.813768Z"
    },
    "papermill": {
     "duration": 0.030266,
     "end_time": "2022-06-10T18:56:59.816785",
     "exception": false,
     "start_time": "2022-06-10T18:56:59.786519",
     "status": "completed"
    },
    "tags": []
   },
   "outputs": [],
   "source": [
    "df['Size']= df['Size'].map(lambda x : str(round(float(x.rstrip('k'))/1024,1)) if x[-1]=='k' else x)"
   ]
  },
  {
   "cell_type": "code",
   "execution_count": 22,
   "id": "264eddde",
   "metadata": {
    "execution": {
     "iopub.execute_input": "2022-06-10T18:56:59.853620Z",
     "iopub.status.busy": "2022-06-10T18:56:59.852847Z",
     "iopub.status.idle": "2022-06-10T18:56:59.860637Z",
     "shell.execute_reply": "2022-06-10T18:56:59.859737Z"
    },
    "papermill": {
     "duration": 0.027997,
     "end_time": "2022-06-10T18:56:59.862329",
     "exception": false,
     "start_time": "2022-06-10T18:56:59.834332",
     "status": "completed"
    },
    "tags": []
   },
   "outputs": [
    {
     "data": {
      "text/plain": [
       "array(['19', '14', '8.7', '25', '2.8', '5.6', '29', '33', '3.1', '28',\n",
       "       '12', '20', '21', '37', '5.5', '17', '39', '31', '4.2', '7.0',\n",
       "       '23', '6.0', '6.1', '4.6', '9.2', '5.2', '11', '24',\n",
       "       'Varies with device', '9.4', '15', '10', '1.2', '26', '8.0', '7.9',\n",
       "       '56', '57', '35', '54', '0.2', '3.6', '5.7', '8.6', '2.4', '27',\n",
       "       '2.7', '2.5', '16', '3.4', '8.9', '3.9', '2.9', '38', '32', '5.4',\n",
       "       '18', '1.1', '2.2', '4.5', '9.8', '52', '9.0', '6.7', '30', '2.6',\n",
       "       '7.1', '3.7', '22', '7.4', '6.4', '3.2', '8.2', '9.9', '4.9',\n",
       "       '9.5', '5.0', '5.9', '13', '73', '6.8', '3.5', '4.0', '2.3', '7.2',\n",
       "       '2.1', '42', '7.3', '9.1', '55', '0.0', '6.5', '1.5', '7.5', '51',\n",
       "       '41', '48', '8.5', '46', '8.3', '4.3', '4.7', '3.3', '40', '7.8',\n",
       "       '8.8', '6.6', '5.1', '61', '66', '0.1', '8.4', '44', '0.7', '1.6',\n",
       "       '6.2', '53', '1.4', '3.0', '5.8', '3.8', '9.6', '45', '63', '49',\n",
       "       '77', '4.4', '4.8', '70', '6.9', '9.3', '10.0', '8.1', '36', '84',\n",
       "       '97', '2.0', '1.9', '1.8', '5.3', '47', '0.5', '76', '7.6', '59',\n",
       "       '9.7', '78', '72', '43', '7.7', '6.3', '0.3', '34', '93', '65',\n",
       "       '79', '100', '58', '50', '68', '64', '67', '60', '94', '99', '0.6',\n",
       "       '95', '80', '1.7', '74', '62', '69', '75', '98', '85', '82', '96',\n",
       "       '87', '71', '86', '91', '81', '92', '83', '88', '0.8', '0.9',\n",
       "       '0.4', '1.3', '1.0', '4.1', '89', '90'], dtype=object)"
      ]
     },
     "execution_count": 22,
     "metadata": {},
     "output_type": "execute_result"
    }
   ],
   "source": [
    "df['Size'].unique()"
   ]
  },
  {
   "cell_type": "markdown",
   "id": "8ad68404",
   "metadata": {
    "papermill": {
     "duration": 0.0173,
     "end_time": "2022-06-10T18:56:59.897529",
     "exception": false,
     "start_time": "2022-06-10T18:56:59.880229",
     "status": "completed"
    },
    "tags": []
   },
   "source": [
    "### Handle Categ values in size(num col) which can replaced with mean and then change data type"
   ]
  },
  {
   "cell_type": "code",
   "execution_count": 23,
   "id": "5506f0bc",
   "metadata": {
    "execution": {
     "iopub.execute_input": "2022-06-10T18:56:59.934883Z",
     "iopub.status.busy": "2022-06-10T18:56:59.933807Z",
     "iopub.status.idle": "2022-06-10T18:56:59.958472Z",
     "shell.execute_reply": "2022-06-10T18:56:59.957790Z"
    },
    "papermill": {
     "duration": 0.045302,
     "end_time": "2022-06-10T18:56:59.960371",
     "exception": false,
     "start_time": "2022-06-10T18:56:59.915069",
     "status": "completed"
    },
    "tags": []
   },
   "outputs": [
    {
     "data": {
      "text/html": [
       "<div>\n",
       "<style scoped>\n",
       "    .dataframe tbody tr th:only-of-type {\n",
       "        vertical-align: middle;\n",
       "    }\n",
       "\n",
       "    .dataframe tbody tr th {\n",
       "        vertical-align: top;\n",
       "    }\n",
       "\n",
       "    .dataframe thead th {\n",
       "        text-align: right;\n",
       "    }\n",
       "</style>\n",
       "<table border=\"1\" class=\"dataframe\">\n",
       "  <thead>\n",
       "    <tr style=\"text-align: right;\">\n",
       "      <th></th>\n",
       "      <th>App</th>\n",
       "      <th>Category</th>\n",
       "      <th>Rating</th>\n",
       "      <th>Reviews</th>\n",
       "      <th>Size</th>\n",
       "      <th>Installs</th>\n",
       "      <th>Type</th>\n",
       "      <th>Price</th>\n",
       "      <th>Content Rating</th>\n",
       "      <th>Genres</th>\n",
       "      <th>Last Updated</th>\n",
       "      <th>Current Ver</th>\n",
       "      <th>Android Ver</th>\n",
       "    </tr>\n",
       "  </thead>\n",
       "  <tbody>\n",
       "    <tr>\n",
       "      <th>37</th>\n",
       "      <td>Floor Plan Creator</td>\n",
       "      <td>ART_AND_DESIGN</td>\n",
       "      <td>4.1</td>\n",
       "      <td>36639</td>\n",
       "      <td>Varies with device</td>\n",
       "      <td>5,000,000+</td>\n",
       "      <td>Free</td>\n",
       "      <td>0.0</td>\n",
       "      <td>Everyone</td>\n",
       "      <td>Art &amp; Design</td>\n",
       "      <td>July 14, 2018</td>\n",
       "      <td>Varies with device</td>\n",
       "      <td>2.3.3 and up</td>\n",
       "    </tr>\n",
       "    <tr>\n",
       "      <th>42</th>\n",
       "      <td>Textgram - write on photos</td>\n",
       "      <td>ART_AND_DESIGN</td>\n",
       "      <td>4.4</td>\n",
       "      <td>295221</td>\n",
       "      <td>Varies with device</td>\n",
       "      <td>10,000,000+</td>\n",
       "      <td>Free</td>\n",
       "      <td>0.0</td>\n",
       "      <td>Everyone</td>\n",
       "      <td>Art &amp; Design</td>\n",
       "      <td>July 30, 2018</td>\n",
       "      <td>Varies with device</td>\n",
       "      <td>Varies with device</td>\n",
       "    </tr>\n",
       "    <tr>\n",
       "      <th>52</th>\n",
       "      <td>Used Cars and Trucks for Sale</td>\n",
       "      <td>AUTO_AND_VEHICLES</td>\n",
       "      <td>4.6</td>\n",
       "      <td>17057</td>\n",
       "      <td>Varies with device</td>\n",
       "      <td>1,000,000+</td>\n",
       "      <td>Free</td>\n",
       "      <td>0.0</td>\n",
       "      <td>Everyone</td>\n",
       "      <td>Auto &amp; Vehicles</td>\n",
       "      <td>July 30, 2018</td>\n",
       "      <td>Varies with device</td>\n",
       "      <td>Varies with device</td>\n",
       "    </tr>\n",
       "    <tr>\n",
       "      <th>67</th>\n",
       "      <td>Ulysse Speedometer</td>\n",
       "      <td>AUTO_AND_VEHICLES</td>\n",
       "      <td>4.3</td>\n",
       "      <td>40211</td>\n",
       "      <td>Varies with device</td>\n",
       "      <td>5,000,000+</td>\n",
       "      <td>Free</td>\n",
       "      <td>0.0</td>\n",
       "      <td>Everyone</td>\n",
       "      <td>Auto &amp; Vehicles</td>\n",
       "      <td>July 30, 2018</td>\n",
       "      <td>Varies with device</td>\n",
       "      <td>Varies with device</td>\n",
       "    </tr>\n",
       "    <tr>\n",
       "      <th>68</th>\n",
       "      <td>REPUVE</td>\n",
       "      <td>AUTO_AND_VEHICLES</td>\n",
       "      <td>3.9</td>\n",
       "      <td>356</td>\n",
       "      <td>Varies with device</td>\n",
       "      <td>100,000+</td>\n",
       "      <td>Free</td>\n",
       "      <td>0.0</td>\n",
       "      <td>Everyone</td>\n",
       "      <td>Auto &amp; Vehicles</td>\n",
       "      <td>May 25, 2018</td>\n",
       "      <td>Varies with device</td>\n",
       "      <td>Varies with device</td>\n",
       "    </tr>\n",
       "    <tr>\n",
       "      <th>...</th>\n",
       "      <td>...</td>\n",
       "      <td>...</td>\n",
       "      <td>...</td>\n",
       "      <td>...</td>\n",
       "      <td>...</td>\n",
       "      <td>...</td>\n",
       "      <td>...</td>\n",
       "      <td>...</td>\n",
       "      <td>...</td>\n",
       "      <td>...</td>\n",
       "      <td>...</td>\n",
       "      <td>...</td>\n",
       "      <td>...</td>\n",
       "    </tr>\n",
       "    <tr>\n",
       "      <th>10713</th>\n",
       "      <td>My Earthquake Alerts - US &amp; Worldwide Earthquakes</td>\n",
       "      <td>WEATHER</td>\n",
       "      <td>4.4</td>\n",
       "      <td>3471</td>\n",
       "      <td>Varies with device</td>\n",
       "      <td>100,000+</td>\n",
       "      <td>Free</td>\n",
       "      <td>0.0</td>\n",
       "      <td>Everyone</td>\n",
       "      <td>Weather</td>\n",
       "      <td>July 24, 2018</td>\n",
       "      <td>Varies with device</td>\n",
       "      <td>Varies with device</td>\n",
       "    </tr>\n",
       "    <tr>\n",
       "      <th>10725</th>\n",
       "      <td>Posta App</td>\n",
       "      <td>MAPS_AND_NAVIGATION</td>\n",
       "      <td>3.6</td>\n",
       "      <td>8</td>\n",
       "      <td>Varies with device</td>\n",
       "      <td>1,000+</td>\n",
       "      <td>Free</td>\n",
       "      <td>0.0</td>\n",
       "      <td>Everyone</td>\n",
       "      <td>Maps &amp; Navigation</td>\n",
       "      <td>September 27, 2017</td>\n",
       "      <td>Varies with device</td>\n",
       "      <td>4.4 and up</td>\n",
       "    </tr>\n",
       "    <tr>\n",
       "      <th>10765</th>\n",
       "      <td>Chat For Strangers - Video Chat</td>\n",
       "      <td>SOCIAL</td>\n",
       "      <td>3.4</td>\n",
       "      <td>622</td>\n",
       "      <td>Varies with device</td>\n",
       "      <td>100,000+</td>\n",
       "      <td>Free</td>\n",
       "      <td>0.0</td>\n",
       "      <td>Mature 17+</td>\n",
       "      <td>Social</td>\n",
       "      <td>May 23, 2018</td>\n",
       "      <td>Varies with device</td>\n",
       "      <td>Varies with device</td>\n",
       "    </tr>\n",
       "    <tr>\n",
       "      <th>10826</th>\n",
       "      <td>Frim: get new friends on local chat rooms</td>\n",
       "      <td>SOCIAL</td>\n",
       "      <td>4.0</td>\n",
       "      <td>88486</td>\n",
       "      <td>Varies with device</td>\n",
       "      <td>5,000,000+</td>\n",
       "      <td>Free</td>\n",
       "      <td>0.0</td>\n",
       "      <td>Mature 17+</td>\n",
       "      <td>Social</td>\n",
       "      <td>March 23, 2018</td>\n",
       "      <td>Varies with device</td>\n",
       "      <td>Varies with device</td>\n",
       "    </tr>\n",
       "    <tr>\n",
       "      <th>10839</th>\n",
       "      <td>The SCP Foundation DB fr nn5n</td>\n",
       "      <td>BOOKS_AND_REFERENCE</td>\n",
       "      <td>4.5</td>\n",
       "      <td>114</td>\n",
       "      <td>Varies with device</td>\n",
       "      <td>1,000+</td>\n",
       "      <td>Free</td>\n",
       "      <td>0.0</td>\n",
       "      <td>Mature 17+</td>\n",
       "      <td>Books &amp; Reference</td>\n",
       "      <td>January 19, 2015</td>\n",
       "      <td>Varies with device</td>\n",
       "      <td>Varies with device</td>\n",
       "    </tr>\n",
       "  </tbody>\n",
       "</table>\n",
       "<p>1694 rows × 13 columns</p>\n",
       "</div>"
      ],
      "text/plain": [
       "                                                     App             Category  \\\n",
       "37                                    Floor Plan Creator       ART_AND_DESIGN   \n",
       "42                            Textgram - write on photos       ART_AND_DESIGN   \n",
       "52                         Used Cars and Trucks for Sale    AUTO_AND_VEHICLES   \n",
       "67                                    Ulysse Speedometer    AUTO_AND_VEHICLES   \n",
       "68                                                REPUVE    AUTO_AND_VEHICLES   \n",
       "...                                                  ...                  ...   \n",
       "10713  My Earthquake Alerts - US & Worldwide Earthquakes              WEATHER   \n",
       "10725                                          Posta App  MAPS_AND_NAVIGATION   \n",
       "10765                    Chat For Strangers - Video Chat               SOCIAL   \n",
       "10826          Frim: get new friends on local chat rooms               SOCIAL   \n",
       "10839                      The SCP Foundation DB fr nn5n  BOOKS_AND_REFERENCE   \n",
       "\n",
       "       Rating Reviews                Size     Installs  Type  Price  \\\n",
       "37        4.1   36639  Varies with device   5,000,000+  Free    0.0   \n",
       "42        4.4  295221  Varies with device  10,000,000+  Free    0.0   \n",
       "52        4.6   17057  Varies with device   1,000,000+  Free    0.0   \n",
       "67        4.3   40211  Varies with device   5,000,000+  Free    0.0   \n",
       "68        3.9     356  Varies with device     100,000+  Free    0.0   \n",
       "...       ...     ...                 ...          ...   ...    ...   \n",
       "10713     4.4    3471  Varies with device     100,000+  Free    0.0   \n",
       "10725     3.6       8  Varies with device       1,000+  Free    0.0   \n",
       "10765     3.4     622  Varies with device     100,000+  Free    0.0   \n",
       "10826     4.0   88486  Varies with device   5,000,000+  Free    0.0   \n",
       "10839     4.5     114  Varies with device       1,000+  Free    0.0   \n",
       "\n",
       "      Content Rating             Genres        Last Updated  \\\n",
       "37          Everyone       Art & Design       July 14, 2018   \n",
       "42          Everyone       Art & Design       July 30, 2018   \n",
       "52          Everyone    Auto & Vehicles       July 30, 2018   \n",
       "67          Everyone    Auto & Vehicles       July 30, 2018   \n",
       "68          Everyone    Auto & Vehicles        May 25, 2018   \n",
       "...              ...                ...                 ...   \n",
       "10713       Everyone            Weather       July 24, 2018   \n",
       "10725       Everyone  Maps & Navigation  September 27, 2017   \n",
       "10765     Mature 17+             Social        May 23, 2018   \n",
       "10826     Mature 17+             Social      March 23, 2018   \n",
       "10839     Mature 17+  Books & Reference    January 19, 2015   \n",
       "\n",
       "              Current Ver         Android Ver  \n",
       "37     Varies with device        2.3.3 and up  \n",
       "42     Varies with device  Varies with device  \n",
       "52     Varies with device  Varies with device  \n",
       "67     Varies with device  Varies with device  \n",
       "68     Varies with device  Varies with device  \n",
       "...                   ...                 ...  \n",
       "10713  Varies with device  Varies with device  \n",
       "10725  Varies with device          4.4 and up  \n",
       "10765  Varies with device  Varies with device  \n",
       "10826  Varies with device  Varies with device  \n",
       "10839  Varies with device  Varies with device  \n",
       "\n",
       "[1694 rows x 13 columns]"
      ]
     },
     "execution_count": 23,
     "metadata": {},
     "output_type": "execute_result"
    }
   ],
   "source": [
    "df[df['Size']==\"Varies with device\"]"
   ]
  },
  {
   "cell_type": "markdown",
   "id": "6c12efd5",
   "metadata": {
    "papermill": {
     "duration": 0.017772,
     "end_time": "2022-06-10T18:56:59.996322",
     "exception": false,
     "start_time": "2022-06-10T18:56:59.978550",
     "status": "completed"
    },
    "tags": []
   },
   "source": [
    "### fill categ with mean & then change data types"
   ]
  },
  {
   "cell_type": "code",
   "execution_count": 24,
   "id": "ca728d55",
   "metadata": {
    "execution": {
     "iopub.execute_input": "2022-06-10T18:57:00.034146Z",
     "iopub.status.busy": "2022-06-10T18:57:00.033371Z",
     "iopub.status.idle": "2022-06-10T18:57:00.043949Z",
     "shell.execute_reply": "2022-06-10T18:57:00.042952Z"
    },
    "papermill": {
     "duration": 0.031398,
     "end_time": "2022-06-10T18:57:00.045818",
     "exception": false,
     "start_time": "2022-06-10T18:57:00.014420",
     "status": "completed"
    },
    "tags": []
   },
   "outputs": [
    {
     "data": {
      "text/plain": [
       "21.534570333880676"
      ]
     },
     "execution_count": 24,
     "metadata": {},
     "output_type": "execute_result"
    }
   ],
   "source": [
    "df[df['Size']!=\"Varies with device\"]['Size'].astype(float).mean()"
   ]
  },
  {
   "cell_type": "code",
   "execution_count": 25,
   "id": "5788ace9",
   "metadata": {
    "execution": {
     "iopub.execute_input": "2022-06-10T18:57:00.084735Z",
     "iopub.status.busy": "2022-06-10T18:57:00.083661Z",
     "iopub.status.idle": "2022-06-10T18:57:00.090020Z",
     "shell.execute_reply": "2022-06-10T18:57:00.089241Z"
    },
    "papermill": {
     "duration": 0.027599,
     "end_time": "2022-06-10T18:57:00.091969",
     "exception": false,
     "start_time": "2022-06-10T18:57:00.064370",
     "status": "completed"
    },
    "tags": []
   },
   "outputs": [],
   "source": [
    "df['Size'].replace(\"Varies with device\",21.53,inplace=True)"
   ]
  },
  {
   "cell_type": "markdown",
   "id": "e1fc7ae1",
   "metadata": {
    "papermill": {
     "duration": 0.017575,
     "end_time": "2022-06-10T18:57:00.128202",
     "exception": false,
     "start_time": "2022-06-10T18:57:00.110627",
     "status": "completed"
    },
    "tags": []
   },
   "source": [
    "### data correction of install feature"
   ]
  },
  {
   "cell_type": "code",
   "execution_count": 26,
   "id": "276e70c4",
   "metadata": {
    "execution": {
     "iopub.execute_input": "2022-06-10T18:57:00.165949Z",
     "iopub.status.busy": "2022-06-10T18:57:00.165570Z",
     "iopub.status.idle": "2022-06-10T18:57:00.172770Z",
     "shell.execute_reply": "2022-06-10T18:57:00.171831Z"
    },
    "papermill": {
     "duration": 0.028659,
     "end_time": "2022-06-10T18:57:00.174722",
     "exception": false,
     "start_time": "2022-06-10T18:57:00.146063",
     "status": "completed"
    },
    "tags": []
   },
   "outputs": [
    {
     "data": {
      "text/plain": [
       "array(['10,000+', '500,000+', '5,000,000+', '50,000,000+', '100,000+',\n",
       "       '50,000+', '1,000,000+', '10,000,000+', '5,000+', '100,000,000+',\n",
       "       '1,000,000,000+', '1,000+', '500,000,000+', '50+', '100+', '500+',\n",
       "       '10+', '1+', '5+', '0+'], dtype=object)"
      ]
     },
     "execution_count": 26,
     "metadata": {},
     "output_type": "execute_result"
    }
   ],
   "source": [
    "df['Installs'].unique()"
   ]
  },
  {
   "cell_type": "code",
   "execution_count": 27,
   "id": "99811e63",
   "metadata": {
    "execution": {
     "iopub.execute_input": "2022-06-10T18:57:00.213351Z",
     "iopub.status.busy": "2022-06-10T18:57:00.212816Z",
     "iopub.status.idle": "2022-06-10T18:57:00.220861Z",
     "shell.execute_reply": "2022-06-10T18:57:00.219847Z"
    },
    "papermill": {
     "duration": 0.029874,
     "end_time": "2022-06-10T18:57:00.223088",
     "exception": false,
     "start_time": "2022-06-10T18:57:00.193214",
     "status": "completed"
    },
    "tags": []
   },
   "outputs": [],
   "source": [
    "df['Installs']= df['Installs'].map(lambda x : x.rstrip('+'))"
   ]
  },
  {
   "cell_type": "code",
   "execution_count": 28,
   "id": "df45ed24",
   "metadata": {
    "execution": {
     "iopub.execute_input": "2022-06-10T18:57:00.261208Z",
     "iopub.status.busy": "2022-06-10T18:57:00.260687Z",
     "iopub.status.idle": "2022-06-10T18:57:00.268172Z",
     "shell.execute_reply": "2022-06-10T18:57:00.267049Z"
    },
    "papermill": {
     "duration": 0.028691,
     "end_time": "2022-06-10T18:57:00.269954",
     "exception": false,
     "start_time": "2022-06-10T18:57:00.241263",
     "status": "completed"
    },
    "tags": []
   },
   "outputs": [
    {
     "data": {
      "text/plain": [
       "array(['10,000', '500,000', '5,000,000', '50,000,000', '100,000',\n",
       "       '50,000', '1,000,000', '10,000,000', '5,000', '100,000,000',\n",
       "       '1,000,000,000', '1,000', '500,000,000', '50', '100', '500', '10',\n",
       "       '1', '5', '0'], dtype=object)"
      ]
     },
     "execution_count": 28,
     "metadata": {},
     "output_type": "execute_result"
    }
   ],
   "source": [
    "df['Installs'].unique()"
   ]
  },
  {
   "cell_type": "code",
   "execution_count": 29,
   "id": "a785b2d1",
   "metadata": {
    "execution": {
     "iopub.execute_input": "2022-06-10T18:57:00.308418Z",
     "iopub.status.busy": "2022-06-10T18:57:00.307863Z",
     "iopub.status.idle": "2022-06-10T18:57:00.317823Z",
     "shell.execute_reply": "2022-06-10T18:57:00.316902Z"
    },
    "papermill": {
     "duration": 0.031456,
     "end_time": "2022-06-10T18:57:00.319751",
     "exception": false,
     "start_time": "2022-06-10T18:57:00.288295",
     "status": "completed"
    },
    "tags": []
   },
   "outputs": [],
   "source": [
    "df['Installs']=df['Installs'].map(lambda x: ''.join(x.split(',')))"
   ]
  },
  {
   "cell_type": "markdown",
   "id": "6a699e0f",
   "metadata": {
    "papermill": {
     "duration": 0.018085,
     "end_time": "2022-06-10T18:57:00.356107",
     "exception": false,
     "start_time": "2022-06-10T18:57:00.338022",
     "status": "completed"
    },
    "tags": []
   },
   "source": [
    "### Change data types of num features that are actually \"object\""
   ]
  },
  {
   "cell_type": "code",
   "execution_count": 30,
   "id": "f2a76392",
   "metadata": {
    "execution": {
     "iopub.execute_input": "2022-06-10T18:57:00.395272Z",
     "iopub.status.busy": "2022-06-10T18:57:00.394629Z",
     "iopub.status.idle": "2022-06-10T18:57:00.405151Z",
     "shell.execute_reply": "2022-06-10T18:57:00.404221Z"
    },
    "papermill": {
     "duration": 0.031897,
     "end_time": "2022-06-10T18:57:00.407072",
     "exception": false,
     "start_time": "2022-06-10T18:57:00.375175",
     "status": "completed"
    },
    "tags": []
   },
   "outputs": [
    {
     "data": {
      "text/plain": [
       "dtype('int64')"
      ]
     },
     "execution_count": 30,
     "metadata": {},
     "output_type": "execute_result"
    }
   ],
   "source": [
    "df['Installs']=df['Installs'].astype(int)\n",
    "df['Installs'].dtype"
   ]
  },
  {
   "cell_type": "code",
   "execution_count": 31,
   "id": "1056c7df",
   "metadata": {
    "execution": {
     "iopub.execute_input": "2022-06-10T18:57:00.445474Z",
     "iopub.status.busy": "2022-06-10T18:57:00.444975Z",
     "iopub.status.idle": "2022-06-10T18:57:00.452560Z",
     "shell.execute_reply": "2022-06-10T18:57:00.451536Z"
    },
    "papermill": {
     "duration": 0.028967,
     "end_time": "2022-06-10T18:57:00.454384",
     "exception": false,
     "start_time": "2022-06-10T18:57:00.425417",
     "status": "completed"
    },
    "tags": []
   },
   "outputs": [
    {
     "data": {
      "text/plain": [
       "App                object\n",
       "Category           object\n",
       "Rating            float64\n",
       "Reviews            object\n",
       "Size               object\n",
       "Installs            int64\n",
       "Type               object\n",
       "Price             float64\n",
       "Content Rating     object\n",
       "Genres             object\n",
       "Last Updated       object\n",
       "Current Ver        object\n",
       "Android Ver        object\n",
       "dtype: object"
      ]
     },
     "execution_count": 31,
     "metadata": {},
     "output_type": "execute_result"
    }
   ],
   "source": [
    "df.dtypes"
   ]
  },
  {
   "cell_type": "code",
   "execution_count": 32,
   "id": "ea365deb",
   "metadata": {
    "execution": {
     "iopub.execute_input": "2022-06-10T18:57:00.493154Z",
     "iopub.status.busy": "2022-06-10T18:57:00.492768Z",
     "iopub.status.idle": "2022-06-10T18:57:00.503537Z",
     "shell.execute_reply": "2022-06-10T18:57:00.502758Z"
    },
    "papermill": {
     "duration": 0.032738,
     "end_time": "2022-06-10T18:57:00.505611",
     "exception": false,
     "start_time": "2022-06-10T18:57:00.472873",
     "status": "completed"
    },
    "tags": []
   },
   "outputs": [],
   "source": [
    "df['Reviews']=df['Reviews'].astype(int)\n",
    "df['Size']=df['Size'].astype(float)"
   ]
  },
  {
   "cell_type": "code",
   "execution_count": 33,
   "id": "01fa817c",
   "metadata": {
    "execution": {
     "iopub.execute_input": "2022-06-10T18:57:00.545053Z",
     "iopub.status.busy": "2022-06-10T18:57:00.544664Z",
     "iopub.status.idle": "2022-06-10T18:57:00.551625Z",
     "shell.execute_reply": "2022-06-10T18:57:00.550880Z"
    },
    "papermill": {
     "duration": 0.02836,
     "end_time": "2022-06-10T18:57:00.553331",
     "exception": false,
     "start_time": "2022-06-10T18:57:00.524971",
     "status": "completed"
    },
    "tags": []
   },
   "outputs": [
    {
     "data": {
      "text/plain": [
       "App                object\n",
       "Category           object\n",
       "Rating            float64\n",
       "Reviews             int64\n",
       "Size              float64\n",
       "Installs            int64\n",
       "Type               object\n",
       "Price             float64\n",
       "Content Rating     object\n",
       "Genres             object\n",
       "Last Updated       object\n",
       "Current Ver        object\n",
       "Android Ver        object\n",
       "dtype: object"
      ]
     },
     "execution_count": 33,
     "metadata": {},
     "output_type": "execute_result"
    }
   ],
   "source": [
    "df.dtypes"
   ]
  },
  {
   "cell_type": "code",
   "execution_count": 34,
   "id": "759a96c7",
   "metadata": {
    "execution": {
     "iopub.execute_input": "2022-06-10T18:57:00.592297Z",
     "iopub.status.busy": "2022-06-10T18:57:00.591740Z",
     "iopub.status.idle": "2022-06-10T18:57:00.597379Z",
     "shell.execute_reply": "2022-06-10T18:57:00.596759Z"
    },
    "papermill": {
     "duration": 0.027263,
     "end_time": "2022-06-10T18:57:00.599158",
     "exception": false,
     "start_time": "2022-06-10T18:57:00.571895",
     "status": "completed"
    },
    "tags": []
   },
   "outputs": [
    {
     "data": {
      "text/plain": [
       "array(['Free', 'Paid'], dtype=object)"
      ]
     },
     "execution_count": 34,
     "metadata": {},
     "output_type": "execute_result"
    }
   ],
   "source": [
    "df['Type'].unique()"
   ]
  },
  {
   "cell_type": "markdown",
   "id": "ad23a133",
   "metadata": {
    "papermill": {
     "duration": 0.018379,
     "end_time": "2022-06-10T18:57:00.636295",
     "exception": false,
     "start_time": "2022-06-10T18:57:00.617916",
     "status": "completed"
    },
    "tags": []
   },
   "source": [
    "### Drop Unwanted features"
   ]
  },
  {
   "cell_type": "code",
   "execution_count": 35,
   "id": "b27fec03",
   "metadata": {
    "execution": {
     "iopub.execute_input": "2022-06-10T18:57:00.675167Z",
     "iopub.status.busy": "2022-06-10T18:57:00.674795Z",
     "iopub.status.idle": "2022-06-10T18:57:00.682810Z",
     "shell.execute_reply": "2022-06-10T18:57:00.681815Z"
    },
    "papermill": {
     "duration": 0.029734,
     "end_time": "2022-06-10T18:57:00.684817",
     "exception": false,
     "start_time": "2022-06-10T18:57:00.655083",
     "status": "completed"
    },
    "tags": []
   },
   "outputs": [],
   "source": [
    "df.drop([\"Last Updated\",\"Current Ver\",\"Android Ver\",\"Genres\"],inplace=True,axis=1)"
   ]
  },
  {
   "cell_type": "code",
   "execution_count": 36,
   "id": "3a3cf83f",
   "metadata": {
    "execution": {
     "iopub.execute_input": "2022-06-10T18:57:00.724540Z",
     "iopub.status.busy": "2022-06-10T18:57:00.723558Z",
     "iopub.status.idle": "2022-06-10T18:57:00.742873Z",
     "shell.execute_reply": "2022-06-10T18:57:00.741997Z"
    },
    "papermill": {
     "duration": 0.041001,
     "end_time": "2022-06-10T18:57:00.744683",
     "exception": false,
     "start_time": "2022-06-10T18:57:00.703682",
     "status": "completed"
    },
    "tags": []
   },
   "outputs": [
    {
     "data": {
      "text/html": [
       "<div>\n",
       "<style scoped>\n",
       "    .dataframe tbody tr th:only-of-type {\n",
       "        vertical-align: middle;\n",
       "    }\n",
       "\n",
       "    .dataframe tbody tr th {\n",
       "        vertical-align: top;\n",
       "    }\n",
       "\n",
       "    .dataframe thead th {\n",
       "        text-align: right;\n",
       "    }\n",
       "</style>\n",
       "<table border=\"1\" class=\"dataframe\">\n",
       "  <thead>\n",
       "    <tr style=\"text-align: right;\">\n",
       "      <th></th>\n",
       "      <th>App</th>\n",
       "      <th>Category</th>\n",
       "      <th>Rating</th>\n",
       "      <th>Reviews</th>\n",
       "      <th>Size</th>\n",
       "      <th>Installs</th>\n",
       "      <th>Type</th>\n",
       "      <th>Price</th>\n",
       "      <th>Content Rating</th>\n",
       "    </tr>\n",
       "  </thead>\n",
       "  <tbody>\n",
       "    <tr>\n",
       "      <th>0</th>\n",
       "      <td>Photo Editor &amp; Candy Camera &amp; Grid &amp; ScrapBook</td>\n",
       "      <td>ART_AND_DESIGN</td>\n",
       "      <td>4.100000</td>\n",
       "      <td>159</td>\n",
       "      <td>19.00</td>\n",
       "      <td>10000</td>\n",
       "      <td>Free</td>\n",
       "      <td>0.0</td>\n",
       "      <td>Everyone</td>\n",
       "    </tr>\n",
       "    <tr>\n",
       "      <th>1</th>\n",
       "      <td>Coloring book moana</td>\n",
       "      <td>ART_AND_DESIGN</td>\n",
       "      <td>3.900000</td>\n",
       "      <td>967</td>\n",
       "      <td>14.00</td>\n",
       "      <td>500000</td>\n",
       "      <td>Free</td>\n",
       "      <td>0.0</td>\n",
       "      <td>Everyone</td>\n",
       "    </tr>\n",
       "    <tr>\n",
       "      <th>2</th>\n",
       "      <td>U Launcher Lite – FREE Live Cool Themes, Hide ...</td>\n",
       "      <td>ART_AND_DESIGN</td>\n",
       "      <td>4.700000</td>\n",
       "      <td>87510</td>\n",
       "      <td>8.70</td>\n",
       "      <td>5000000</td>\n",
       "      <td>Free</td>\n",
       "      <td>0.0</td>\n",
       "      <td>Everyone</td>\n",
       "    </tr>\n",
       "    <tr>\n",
       "      <th>3</th>\n",
       "      <td>Sketch - Draw &amp; Paint</td>\n",
       "      <td>ART_AND_DESIGN</td>\n",
       "      <td>4.500000</td>\n",
       "      <td>215644</td>\n",
       "      <td>25.00</td>\n",
       "      <td>50000000</td>\n",
       "      <td>Free</td>\n",
       "      <td>0.0</td>\n",
       "      <td>Teen</td>\n",
       "    </tr>\n",
       "    <tr>\n",
       "      <th>4</th>\n",
       "      <td>Pixel Draw - Number Art Coloring Book</td>\n",
       "      <td>ART_AND_DESIGN</td>\n",
       "      <td>4.300000</td>\n",
       "      <td>967</td>\n",
       "      <td>2.80</td>\n",
       "      <td>100000</td>\n",
       "      <td>Free</td>\n",
       "      <td>0.0</td>\n",
       "      <td>Everyone</td>\n",
       "    </tr>\n",
       "    <tr>\n",
       "      <th>...</th>\n",
       "      <td>...</td>\n",
       "      <td>...</td>\n",
       "      <td>...</td>\n",
       "      <td>...</td>\n",
       "      <td>...</td>\n",
       "      <td>...</td>\n",
       "      <td>...</td>\n",
       "      <td>...</td>\n",
       "      <td>...</td>\n",
       "    </tr>\n",
       "    <tr>\n",
       "      <th>10836</th>\n",
       "      <td>Sya9a Maroc - FR</td>\n",
       "      <td>FAMILY</td>\n",
       "      <td>4.500000</td>\n",
       "      <td>38</td>\n",
       "      <td>53.00</td>\n",
       "      <td>5000</td>\n",
       "      <td>Free</td>\n",
       "      <td>0.0</td>\n",
       "      <td>Everyone</td>\n",
       "    </tr>\n",
       "    <tr>\n",
       "      <th>10837</th>\n",
       "      <td>Fr. Mike Schmitz Audio Teachings</td>\n",
       "      <td>FAMILY</td>\n",
       "      <td>5.000000</td>\n",
       "      <td>4</td>\n",
       "      <td>3.60</td>\n",
       "      <td>100</td>\n",
       "      <td>Free</td>\n",
       "      <td>0.0</td>\n",
       "      <td>Everyone</td>\n",
       "    </tr>\n",
       "    <tr>\n",
       "      <th>10838</th>\n",
       "      <td>Parkinson Exercices FR</td>\n",
       "      <td>MEDICAL</td>\n",
       "      <td>4.193338</td>\n",
       "      <td>3</td>\n",
       "      <td>9.50</td>\n",
       "      <td>1000</td>\n",
       "      <td>Free</td>\n",
       "      <td>0.0</td>\n",
       "      <td>Everyone</td>\n",
       "    </tr>\n",
       "    <tr>\n",
       "      <th>10839</th>\n",
       "      <td>The SCP Foundation DB fr nn5n</td>\n",
       "      <td>BOOKS_AND_REFERENCE</td>\n",
       "      <td>4.500000</td>\n",
       "      <td>114</td>\n",
       "      <td>21.53</td>\n",
       "      <td>1000</td>\n",
       "      <td>Free</td>\n",
       "      <td>0.0</td>\n",
       "      <td>Mature 17+</td>\n",
       "    </tr>\n",
       "    <tr>\n",
       "      <th>10840</th>\n",
       "      <td>iHoroscope - 2018 Daily Horoscope &amp; Astrology</td>\n",
       "      <td>LIFESTYLE</td>\n",
       "      <td>4.500000</td>\n",
       "      <td>398307</td>\n",
       "      <td>19.00</td>\n",
       "      <td>10000000</td>\n",
       "      <td>Free</td>\n",
       "      <td>0.0</td>\n",
       "      <td>Everyone</td>\n",
       "    </tr>\n",
       "  </tbody>\n",
       "</table>\n",
       "<p>10829 rows × 9 columns</p>\n",
       "</div>"
      ],
      "text/plain": [
       "                                                     App             Category  \\\n",
       "0         Photo Editor & Candy Camera & Grid & ScrapBook       ART_AND_DESIGN   \n",
       "1                                    Coloring book moana       ART_AND_DESIGN   \n",
       "2      U Launcher Lite – FREE Live Cool Themes, Hide ...       ART_AND_DESIGN   \n",
       "3                                  Sketch - Draw & Paint       ART_AND_DESIGN   \n",
       "4                  Pixel Draw - Number Art Coloring Book       ART_AND_DESIGN   \n",
       "...                                                  ...                  ...   \n",
       "10836                                   Sya9a Maroc - FR               FAMILY   \n",
       "10837                   Fr. Mike Schmitz Audio Teachings               FAMILY   \n",
       "10838                             Parkinson Exercices FR              MEDICAL   \n",
       "10839                      The SCP Foundation DB fr nn5n  BOOKS_AND_REFERENCE   \n",
       "10840      iHoroscope - 2018 Daily Horoscope & Astrology            LIFESTYLE   \n",
       "\n",
       "         Rating  Reviews   Size  Installs  Type  Price Content Rating  \n",
       "0      4.100000      159  19.00     10000  Free    0.0       Everyone  \n",
       "1      3.900000      967  14.00    500000  Free    0.0       Everyone  \n",
       "2      4.700000    87510   8.70   5000000  Free    0.0       Everyone  \n",
       "3      4.500000   215644  25.00  50000000  Free    0.0           Teen  \n",
       "4      4.300000      967   2.80    100000  Free    0.0       Everyone  \n",
       "...         ...      ...    ...       ...   ...    ...            ...  \n",
       "10836  4.500000       38  53.00      5000  Free    0.0       Everyone  \n",
       "10837  5.000000        4   3.60       100  Free    0.0       Everyone  \n",
       "10838  4.193338        3   9.50      1000  Free    0.0       Everyone  \n",
       "10839  4.500000      114  21.53      1000  Free    0.0     Mature 17+  \n",
       "10840  4.500000   398307  19.00  10000000  Free    0.0       Everyone  \n",
       "\n",
       "[10829 rows x 9 columns]"
      ]
     },
     "execution_count": 36,
     "metadata": {},
     "output_type": "execute_result"
    }
   ],
   "source": [
    "df"
   ]
  },
  {
   "cell_type": "code",
   "execution_count": 37,
   "id": "da399bbb",
   "metadata": {
    "execution": {
     "iopub.execute_input": "2022-06-10T18:57:00.785029Z",
     "iopub.status.busy": "2022-06-10T18:57:00.784376Z",
     "iopub.status.idle": "2022-06-10T18:57:00.789380Z",
     "shell.execute_reply": "2022-06-10T18:57:00.788637Z"
    },
    "papermill": {
     "duration": 0.027328,
     "end_time": "2022-06-10T18:57:00.791364",
     "exception": false,
     "start_time": "2022-06-10T18:57:00.764036",
     "status": "completed"
    },
    "tags": []
   },
   "outputs": [],
   "source": [
    "df['Rating']=df['Rating'].round(1)\n",
    "df['Size']=df['Size'].round(1)"
   ]
  },
  {
   "cell_type": "markdown",
   "id": "847fef13",
   "metadata": {
    "papermill": {
     "duration": 0.018768,
     "end_time": "2022-06-10T18:57:00.829316",
     "exception": false,
     "start_time": "2022-06-10T18:57:00.810548",
     "status": "completed"
    },
    "tags": []
   },
   "source": [
    "## final df after EDA"
   ]
  },
  {
   "cell_type": "code",
   "execution_count": 38,
   "id": "dc251081",
   "metadata": {
    "execution": {
     "iopub.execute_input": "2022-06-10T18:57:00.869602Z",
     "iopub.status.busy": "2022-06-10T18:57:00.868970Z",
     "iopub.status.idle": "2022-06-10T18:57:00.888186Z",
     "shell.execute_reply": "2022-06-10T18:57:00.887464Z"
    },
    "papermill": {
     "duration": 0.041713,
     "end_time": "2022-06-10T18:57:00.889976",
     "exception": false,
     "start_time": "2022-06-10T18:57:00.848263",
     "status": "completed"
    },
    "tags": []
   },
   "outputs": [
    {
     "data": {
      "text/html": [
       "<div>\n",
       "<style scoped>\n",
       "    .dataframe tbody tr th:only-of-type {\n",
       "        vertical-align: middle;\n",
       "    }\n",
       "\n",
       "    .dataframe tbody tr th {\n",
       "        vertical-align: top;\n",
       "    }\n",
       "\n",
       "    .dataframe thead th {\n",
       "        text-align: right;\n",
       "    }\n",
       "</style>\n",
       "<table border=\"1\" class=\"dataframe\">\n",
       "  <thead>\n",
       "    <tr style=\"text-align: right;\">\n",
       "      <th></th>\n",
       "      <th>App</th>\n",
       "      <th>Category</th>\n",
       "      <th>Rating</th>\n",
       "      <th>Reviews</th>\n",
       "      <th>Size</th>\n",
       "      <th>Installs</th>\n",
       "      <th>Type</th>\n",
       "      <th>Price</th>\n",
       "      <th>Content Rating</th>\n",
       "    </tr>\n",
       "  </thead>\n",
       "  <tbody>\n",
       "    <tr>\n",
       "      <th>0</th>\n",
       "      <td>Photo Editor &amp; Candy Camera &amp; Grid &amp; ScrapBook</td>\n",
       "      <td>ART_AND_DESIGN</td>\n",
       "      <td>4.1</td>\n",
       "      <td>159</td>\n",
       "      <td>19.0</td>\n",
       "      <td>10000</td>\n",
       "      <td>Free</td>\n",
       "      <td>0.0</td>\n",
       "      <td>Everyone</td>\n",
       "    </tr>\n",
       "    <tr>\n",
       "      <th>1</th>\n",
       "      <td>Coloring book moana</td>\n",
       "      <td>ART_AND_DESIGN</td>\n",
       "      <td>3.9</td>\n",
       "      <td>967</td>\n",
       "      <td>14.0</td>\n",
       "      <td>500000</td>\n",
       "      <td>Free</td>\n",
       "      <td>0.0</td>\n",
       "      <td>Everyone</td>\n",
       "    </tr>\n",
       "    <tr>\n",
       "      <th>2</th>\n",
       "      <td>U Launcher Lite – FREE Live Cool Themes, Hide ...</td>\n",
       "      <td>ART_AND_DESIGN</td>\n",
       "      <td>4.7</td>\n",
       "      <td>87510</td>\n",
       "      <td>8.7</td>\n",
       "      <td>5000000</td>\n",
       "      <td>Free</td>\n",
       "      <td>0.0</td>\n",
       "      <td>Everyone</td>\n",
       "    </tr>\n",
       "    <tr>\n",
       "      <th>3</th>\n",
       "      <td>Sketch - Draw &amp; Paint</td>\n",
       "      <td>ART_AND_DESIGN</td>\n",
       "      <td>4.5</td>\n",
       "      <td>215644</td>\n",
       "      <td>25.0</td>\n",
       "      <td>50000000</td>\n",
       "      <td>Free</td>\n",
       "      <td>0.0</td>\n",
       "      <td>Teen</td>\n",
       "    </tr>\n",
       "    <tr>\n",
       "      <th>4</th>\n",
       "      <td>Pixel Draw - Number Art Coloring Book</td>\n",
       "      <td>ART_AND_DESIGN</td>\n",
       "      <td>4.3</td>\n",
       "      <td>967</td>\n",
       "      <td>2.8</td>\n",
       "      <td>100000</td>\n",
       "      <td>Free</td>\n",
       "      <td>0.0</td>\n",
       "      <td>Everyone</td>\n",
       "    </tr>\n",
       "    <tr>\n",
       "      <th>...</th>\n",
       "      <td>...</td>\n",
       "      <td>...</td>\n",
       "      <td>...</td>\n",
       "      <td>...</td>\n",
       "      <td>...</td>\n",
       "      <td>...</td>\n",
       "      <td>...</td>\n",
       "      <td>...</td>\n",
       "      <td>...</td>\n",
       "    </tr>\n",
       "    <tr>\n",
       "      <th>10836</th>\n",
       "      <td>Sya9a Maroc - FR</td>\n",
       "      <td>FAMILY</td>\n",
       "      <td>4.5</td>\n",
       "      <td>38</td>\n",
       "      <td>53.0</td>\n",
       "      <td>5000</td>\n",
       "      <td>Free</td>\n",
       "      <td>0.0</td>\n",
       "      <td>Everyone</td>\n",
       "    </tr>\n",
       "    <tr>\n",
       "      <th>10837</th>\n",
       "      <td>Fr. Mike Schmitz Audio Teachings</td>\n",
       "      <td>FAMILY</td>\n",
       "      <td>5.0</td>\n",
       "      <td>4</td>\n",
       "      <td>3.6</td>\n",
       "      <td>100</td>\n",
       "      <td>Free</td>\n",
       "      <td>0.0</td>\n",
       "      <td>Everyone</td>\n",
       "    </tr>\n",
       "    <tr>\n",
       "      <th>10838</th>\n",
       "      <td>Parkinson Exercices FR</td>\n",
       "      <td>MEDICAL</td>\n",
       "      <td>4.2</td>\n",
       "      <td>3</td>\n",
       "      <td>9.5</td>\n",
       "      <td>1000</td>\n",
       "      <td>Free</td>\n",
       "      <td>0.0</td>\n",
       "      <td>Everyone</td>\n",
       "    </tr>\n",
       "    <tr>\n",
       "      <th>10839</th>\n",
       "      <td>The SCP Foundation DB fr nn5n</td>\n",
       "      <td>BOOKS_AND_REFERENCE</td>\n",
       "      <td>4.5</td>\n",
       "      <td>114</td>\n",
       "      <td>21.5</td>\n",
       "      <td>1000</td>\n",
       "      <td>Free</td>\n",
       "      <td>0.0</td>\n",
       "      <td>Mature 17+</td>\n",
       "    </tr>\n",
       "    <tr>\n",
       "      <th>10840</th>\n",
       "      <td>iHoroscope - 2018 Daily Horoscope &amp; Astrology</td>\n",
       "      <td>LIFESTYLE</td>\n",
       "      <td>4.5</td>\n",
       "      <td>398307</td>\n",
       "      <td>19.0</td>\n",
       "      <td>10000000</td>\n",
       "      <td>Free</td>\n",
       "      <td>0.0</td>\n",
       "      <td>Everyone</td>\n",
       "    </tr>\n",
       "  </tbody>\n",
       "</table>\n",
       "<p>10829 rows × 9 columns</p>\n",
       "</div>"
      ],
      "text/plain": [
       "                                                     App             Category  \\\n",
       "0         Photo Editor & Candy Camera & Grid & ScrapBook       ART_AND_DESIGN   \n",
       "1                                    Coloring book moana       ART_AND_DESIGN   \n",
       "2      U Launcher Lite – FREE Live Cool Themes, Hide ...       ART_AND_DESIGN   \n",
       "3                                  Sketch - Draw & Paint       ART_AND_DESIGN   \n",
       "4                  Pixel Draw - Number Art Coloring Book       ART_AND_DESIGN   \n",
       "...                                                  ...                  ...   \n",
       "10836                                   Sya9a Maroc - FR               FAMILY   \n",
       "10837                   Fr. Mike Schmitz Audio Teachings               FAMILY   \n",
       "10838                             Parkinson Exercices FR              MEDICAL   \n",
       "10839                      The SCP Foundation DB fr nn5n  BOOKS_AND_REFERENCE   \n",
       "10840      iHoroscope - 2018 Daily Horoscope & Astrology            LIFESTYLE   \n",
       "\n",
       "       Rating  Reviews  Size  Installs  Type  Price Content Rating  \n",
       "0         4.1      159  19.0     10000  Free    0.0       Everyone  \n",
       "1         3.9      967  14.0    500000  Free    0.0       Everyone  \n",
       "2         4.7    87510   8.7   5000000  Free    0.0       Everyone  \n",
       "3         4.5   215644  25.0  50000000  Free    0.0           Teen  \n",
       "4         4.3      967   2.8    100000  Free    0.0       Everyone  \n",
       "...       ...      ...   ...       ...   ...    ...            ...  \n",
       "10836     4.5       38  53.0      5000  Free    0.0       Everyone  \n",
       "10837     5.0        4   3.6       100  Free    0.0       Everyone  \n",
       "10838     4.2        3   9.5      1000  Free    0.0       Everyone  \n",
       "10839     4.5      114  21.5      1000  Free    0.0     Mature 17+  \n",
       "10840     4.5   398307  19.0  10000000  Free    0.0       Everyone  \n",
       "\n",
       "[10829 rows x 9 columns]"
      ]
     },
     "execution_count": 38,
     "metadata": {},
     "output_type": "execute_result"
    }
   ],
   "source": [
    "df"
   ]
  },
  {
   "cell_type": "markdown",
   "id": "614883ea",
   "metadata": {
    "papermill": {
     "duration": 0.019566,
     "end_time": "2022-06-10T18:57:00.929354",
     "exception": false,
     "start_time": "2022-06-10T18:57:00.909788",
     "status": "completed"
    },
    "tags": []
   },
   "source": [
    "# Visualization"
   ]
  },
  {
   "cell_type": "markdown",
   "id": "635a94d4",
   "metadata": {
    "papermill": {
     "duration": 0.019316,
     "end_time": "2022-06-10T18:57:00.968546",
     "exception": false,
     "start_time": "2022-06-10T18:57:00.949230",
     "status": "completed"
    },
    "tags": []
   },
   "source": [
    "### Statistics info "
   ]
  },
  {
   "cell_type": "code",
   "execution_count": 39,
   "id": "c26bbf43",
   "metadata": {
    "execution": {
     "iopub.execute_input": "2022-06-10T18:57:01.009690Z",
     "iopub.status.busy": "2022-06-10T18:57:01.008972Z",
     "iopub.status.idle": "2022-06-10T18:57:01.036448Z",
     "shell.execute_reply": "2022-06-10T18:57:01.035674Z"
    },
    "papermill": {
     "duration": 0.050293,
     "end_time": "2022-06-10T18:57:01.038282",
     "exception": false,
     "start_time": "2022-06-10T18:57:00.987989",
     "status": "completed"
    },
    "tags": []
   },
   "outputs": [
    {
     "data": {
      "text/html": [
       "<div>\n",
       "<style scoped>\n",
       "    .dataframe tbody tr th:only-of-type {\n",
       "        vertical-align: middle;\n",
       "    }\n",
       "\n",
       "    .dataframe tbody tr th {\n",
       "        vertical-align: top;\n",
       "    }\n",
       "\n",
       "    .dataframe thead th {\n",
       "        text-align: right;\n",
       "    }\n",
       "</style>\n",
       "<table border=\"1\" class=\"dataframe\">\n",
       "  <thead>\n",
       "    <tr style=\"text-align: right;\">\n",
       "      <th></th>\n",
       "      <th>Rating</th>\n",
       "      <th>Reviews</th>\n",
       "      <th>Size</th>\n",
       "      <th>Installs</th>\n",
       "      <th>Price</th>\n",
       "    </tr>\n",
       "  </thead>\n",
       "  <tbody>\n",
       "    <tr>\n",
       "      <th>count</th>\n",
       "      <td>10829.000000</td>\n",
       "      <td>1.082900e+04</td>\n",
       "      <td>10829.000000</td>\n",
       "      <td>1.082900e+04</td>\n",
       "      <td>10829.000000</td>\n",
       "    </tr>\n",
       "    <tr>\n",
       "      <th>mean</th>\n",
       "      <td>4.192945</td>\n",
       "      <td>4.446018e+05</td>\n",
       "      <td>21.529162</td>\n",
       "      <td>1.547990e+07</td>\n",
       "      <td>1.028091</td>\n",
       "    </tr>\n",
       "    <tr>\n",
       "      <th>std</th>\n",
       "      <td>0.479046</td>\n",
       "      <td>2.929213e+06</td>\n",
       "      <td>20.751524</td>\n",
       "      <td>8.507114e+07</td>\n",
       "      <td>15.957778</td>\n",
       "    </tr>\n",
       "    <tr>\n",
       "      <th>min</th>\n",
       "      <td>1.000000</td>\n",
       "      <td>0.000000e+00</td>\n",
       "      <td>0.000000</td>\n",
       "      <td>0.000000e+00</td>\n",
       "      <td>0.000000</td>\n",
       "    </tr>\n",
       "    <tr>\n",
       "      <th>25%</th>\n",
       "      <td>4.100000</td>\n",
       "      <td>3.800000e+01</td>\n",
       "      <td>5.900000</td>\n",
       "      <td>5.000000e+03</td>\n",
       "      <td>0.000000</td>\n",
       "    </tr>\n",
       "    <tr>\n",
       "      <th>50%</th>\n",
       "      <td>4.200000</td>\n",
       "      <td>2.100000e+03</td>\n",
       "      <td>18.000000</td>\n",
       "      <td>1.000000e+05</td>\n",
       "      <td>0.000000</td>\n",
       "    </tr>\n",
       "    <tr>\n",
       "      <th>75%</th>\n",
       "      <td>4.500000</td>\n",
       "      <td>5.481500e+04</td>\n",
       "      <td>26.000000</td>\n",
       "      <td>5.000000e+06</td>\n",
       "      <td>0.000000</td>\n",
       "    </tr>\n",
       "    <tr>\n",
       "      <th>max</th>\n",
       "      <td>5.000000</td>\n",
       "      <td>7.815831e+07</td>\n",
       "      <td>100.000000</td>\n",
       "      <td>1.000000e+09</td>\n",
       "      <td>400.000000</td>\n",
       "    </tr>\n",
       "  </tbody>\n",
       "</table>\n",
       "</div>"
      ],
      "text/plain": [
       "             Rating       Reviews          Size      Installs         Price\n",
       "count  10829.000000  1.082900e+04  10829.000000  1.082900e+04  10829.000000\n",
       "mean       4.192945  4.446018e+05     21.529162  1.547990e+07      1.028091\n",
       "std        0.479046  2.929213e+06     20.751524  8.507114e+07     15.957778\n",
       "min        1.000000  0.000000e+00      0.000000  0.000000e+00      0.000000\n",
       "25%        4.100000  3.800000e+01      5.900000  5.000000e+03      0.000000\n",
       "50%        4.200000  2.100000e+03     18.000000  1.000000e+05      0.000000\n",
       "75%        4.500000  5.481500e+04     26.000000  5.000000e+06      0.000000\n",
       "max        5.000000  7.815831e+07    100.000000  1.000000e+09    400.000000"
      ]
     },
     "execution_count": 39,
     "metadata": {},
     "output_type": "execute_result"
    }
   ],
   "source": [
    "df.describe()"
   ]
  },
  {
   "cell_type": "code",
   "execution_count": 40,
   "id": "1749b31b",
   "metadata": {
    "execution": {
     "iopub.execute_input": "2022-06-10T18:57:01.080004Z",
     "iopub.status.busy": "2022-06-10T18:57:01.079397Z",
     "iopub.status.idle": "2022-06-10T18:57:01.086422Z",
     "shell.execute_reply": "2022-06-10T18:57:01.085747Z"
    },
    "papermill": {
     "duration": 0.030244,
     "end_time": "2022-06-10T18:57:01.088295",
     "exception": false,
     "start_time": "2022-06-10T18:57:01.058051",
     "status": "completed"
    },
    "tags": []
   },
   "outputs": [
    {
     "data": {
      "text/plain": [
       "Everyone           8704\n",
       "Teen               1208\n",
       "Mature 17+          499\n",
       "Everyone 10+        413\n",
       "Adults only 18+       3\n",
       "Unrated               2\n",
       "Name: Content Rating, dtype: int64"
      ]
     },
     "execution_count": 40,
     "metadata": {},
     "output_type": "execute_result"
    }
   ],
   "source": [
    "df['Content Rating'].value_counts()"
   ]
  },
  {
   "cell_type": "code",
   "execution_count": 41,
   "id": "4cd305c8",
   "metadata": {
    "execution": {
     "iopub.execute_input": "2022-06-10T18:57:01.128883Z",
     "iopub.status.busy": "2022-06-10T18:57:01.128439Z",
     "iopub.status.idle": "2022-06-10T18:57:01.549760Z",
     "shell.execute_reply": "2022-06-10T18:57:01.548761Z"
    },
    "papermill": {
     "duration": 0.443857,
     "end_time": "2022-06-10T18:57:01.551803",
     "exception": false,
     "start_time": "2022-06-10T18:57:01.107946",
     "status": "completed"
    },
    "tags": []
   },
   "outputs": [
    {
     "data": {
      "image/png": "[encoded data removed]",
      "text/plain": [
       "<Figure size 864x720 with 1 Axes>"
      ]
     },
     "metadata": {
      "needs_background": "light"
     },
     "output_type": "display_data"
    }
   ],
   "source": [
    "plt.figure(figsize=(12,10))\n",
    "most_cat = df['Category'].value_counts()\n",
    "sns.barplot(x=most_cat, y=most_cat.index, data=df)\n",
    "plt.xticks(size=15)\n",
    "plt.xlabel(\"Frequency\",size=22,c=\"g\")\n",
    "plt.ylabel(\"Category\",size=22,c=\"g\")\n",
    "plt.title(\"Total Apps of all Categ\",size=28,c=\"r\")\n",
    "plt.show()"
   ]
  },
  {
   "cell_type": "markdown",
   "id": "942db473",
   "metadata": {
    "papermill": {
     "duration": 0.021062,
     "end_time": "2022-06-10T18:57:01.594356",
     "exception": false,
     "start_time": "2022-06-10T18:57:01.573294",
     "status": "completed"
    },
    "tags": []
   },
   "source": [
    "* There are more kinds of apps in playstore which are under categ of family, games & tools\n",
    "* Arts, weather,beatuty,comics kinds of apps are very less in playstore"
   ]
  },
  {
   "cell_type": "code",
   "execution_count": 42,
   "id": "f4effe35",
   "metadata": {
    "execution": {
     "iopub.execute_input": "2022-06-10T18:57:01.638266Z",
     "iopub.status.busy": "2022-06-10T18:57:01.637647Z",
     "iopub.status.idle": "2022-06-10T18:57:02.043504Z",
     "shell.execute_reply": "2022-06-10T18:57:02.042430Z"
    },
    "papermill": {
     "duration": 0.430218,
     "end_time": "2022-06-10T18:57:02.045471",
     "exception": false,
     "start_time": "2022-06-10T18:57:01.615253",
     "status": "completed"
    },
    "tags": []
   },
   "outputs": [
    {
     "name": "stdout",
     "output_type": "stream",
     "text": [
      "\n"
     ]
    },
    {
     "data": {
      "image/png": "[encoded data removed]",
      "text/plain": [
       "<Figure size 864x720 with 1 Axes>"
      ]
     },
     "metadata": {
      "needs_background": "light"
     },
     "output_type": "display_data"
    }
   ],
   "source": [
    "print()\n",
    "plt.figure(figsize=(12,10))\n",
    "df.groupby('Category')['Installs'].mean().round(0).sort_values(ascending=True).plot(kind=\"barh\")\n",
    "plt.xticks(size=15)\n",
    "plt.xlabel(\"Frequency\",size=22,c=\"g\")\n",
    "plt.ylabel(\"Category\",size=22,c=\"g\")\n",
    "plt.title(\"All Categ with their Installation\",size=28,c=\"r\")\n",
    "plt.show()"
   ]
  },
  {
   "cell_type": "markdown",
   "id": "3aa69063",
   "metadata": {
    "papermill": {
     "duration": 0.022175,
     "end_time": "2022-06-10T18:57:02.089836",
     "exception": false,
     "start_time": "2022-06-10T18:57:02.067661",
     "status": "completed"
    },
    "tags": []
   },
   "source": [
    "* community & social types of apps are most installed by users which was very highest rate follwed by games, productivity \n",
    "* Arts, weather,beatuty,comics kinds of apps are very less in playstore also their avalibilty & installation is also very very less "
   ]
  },
  {
   "cell_type": "code",
   "execution_count": 43,
   "id": "c18f1cd4",
   "metadata": {
    "execution": {
     "iopub.execute_input": "2022-06-10T18:57:02.135307Z",
     "iopub.status.busy": "2022-06-10T18:57:02.134583Z",
     "iopub.status.idle": "2022-06-10T18:57:02.143633Z",
     "shell.execute_reply": "2022-06-10T18:57:02.142747Z"
    },
    "papermill": {
     "duration": 0.033729,
     "end_time": "2022-06-10T18:57:02.145515",
     "exception": false,
     "start_time": "2022-06-10T18:57:02.111786",
     "status": "completed"
    },
    "tags": []
   },
   "outputs": [
    {
     "data": {
      "text/plain": [
       "DATING                 234\n",
       "BOOKS_AND_REFERENCE    230\n",
       "VIDEO_PLAYERS          175\n",
       "EDUCATION              156\n",
       "ENTERTAINMENT          149\n",
       "MAPS_AND_NAVIGATION    137\n",
       "FOOD_AND_DRINK         127\n",
       "HOUSE_AND_HOME          88\n",
       "AUTO_AND_VEHICLES       85\n",
       "LIBRARIES_AND_DEMO      84\n",
       "WEATHER                 82\n",
       "EVENTS                  64\n",
       "ART_AND_DESIGN          64\n",
       "PARENTING               60\n",
       "COMICS                  60\n",
       "BEAUTY                  53\n",
       "Name: Category, dtype: int64"
      ]
     },
     "execution_count": 43,
     "metadata": {},
     "output_type": "execute_result"
    }
   ],
   "source": [
    "df.Category.value_counts()[df.Category.value_counts()<250]"
   ]
  },
  {
   "cell_type": "markdown",
   "id": "4accfb44",
   "metadata": {
    "papermill": {
     "duration": 0.021448,
     "end_time": "2022-06-10T18:57:02.188350",
     "exception": false,
     "start_time": "2022-06-10T18:57:02.166902",
     "status": "completed"
    },
    "tags": []
   },
   "source": [
    "* highest top categ "
   ]
  },
  {
   "cell_type": "code",
   "execution_count": 44,
   "id": "f2dd2276",
   "metadata": {
    "execution": {
     "iopub.execute_input": "2022-06-10T18:57:02.234124Z",
     "iopub.status.busy": "2022-06-10T18:57:02.233593Z",
     "iopub.status.idle": "2022-06-10T18:57:02.250325Z",
     "shell.execute_reply": "2022-06-10T18:57:02.249555Z"
    },
    "papermill": {
     "duration": 0.042057,
     "end_time": "2022-06-10T18:57:02.252243",
     "exception": false,
     "start_time": "2022-06-10T18:57:02.210186",
     "status": "completed"
    },
    "tags": []
   },
   "outputs": [
    {
     "data": {
      "text/html": [
       "<div>\n",
       "<style scoped>\n",
       "    .dataframe tbody tr th:only-of-type {\n",
       "        vertical-align: middle;\n",
       "    }\n",
       "\n",
       "    .dataframe tbody tr th {\n",
       "        vertical-align: top;\n",
       "    }\n",
       "\n",
       "    .dataframe thead th {\n",
       "        text-align: right;\n",
       "    }\n",
       "</style>\n",
       "<table border=\"1\" class=\"dataframe\">\n",
       "  <thead>\n",
       "    <tr style=\"text-align: right;\">\n",
       "      <th></th>\n",
       "      <th>Category</th>\n",
       "      <th>Reviews</th>\n",
       "    </tr>\n",
       "  </thead>\n",
       "  <tbody>\n",
       "    <tr>\n",
       "      <th>0</th>\n",
       "      <td>ART_AND_DESIGN</td>\n",
       "      <td>26787.0</td>\n",
       "    </tr>\n",
       "    <tr>\n",
       "      <th>1</th>\n",
       "      <td>AUTO_AND_VEHICLES</td>\n",
       "      <td>13690.0</td>\n",
       "    </tr>\n",
       "    <tr>\n",
       "      <th>2</th>\n",
       "      <td>BEAUTY</td>\n",
       "      <td>7476.0</td>\n",
       "    </tr>\n",
       "    <tr>\n",
       "      <th>3</th>\n",
       "      <td>BOOKS_AND_REFERENCE</td>\n",
       "      <td>95474.0</td>\n",
       "    </tr>\n",
       "    <tr>\n",
       "      <th>4</th>\n",
       "      <td>BUSINESS</td>\n",
       "      <td>30336.0</td>\n",
       "    </tr>\n",
       "    <tr>\n",
       "      <th>5</th>\n",
       "      <td>COMICS</td>\n",
       "      <td>56388.0</td>\n",
       "    </tr>\n",
       "    <tr>\n",
       "      <th>6</th>\n",
       "      <td>COMMUNICATION</td>\n",
       "      <td>2107138.0</td>\n",
       "    </tr>\n",
       "    <tr>\n",
       "      <th>7</th>\n",
       "      <td>DATING</td>\n",
       "      <td>31159.0</td>\n",
       "    </tr>\n",
       "    <tr>\n",
       "      <th>8</th>\n",
       "      <td>EDUCATION</td>\n",
       "      <td>253819.0</td>\n",
       "    </tr>\n",
       "    <tr>\n",
       "      <th>9</th>\n",
       "      <td>ENTERTAINMENT</td>\n",
       "      <td>397169.0</td>\n",
       "    </tr>\n",
       "    <tr>\n",
       "      <th>10</th>\n",
       "      <td>EVENTS</td>\n",
       "      <td>2516.0</td>\n",
       "    </tr>\n",
       "    <tr>\n",
       "      <th>11</th>\n",
       "      <td>FAMILY</td>\n",
       "      <td>208448.0</td>\n",
       "    </tr>\n",
       "    <tr>\n",
       "      <th>12</th>\n",
       "      <td>FINANCE</td>\n",
       "      <td>47953.0</td>\n",
       "    </tr>\n",
       "    <tr>\n",
       "      <th>13</th>\n",
       "      <td>FOOD_AND_DRINK</td>\n",
       "      <td>69947.0</td>\n",
       "    </tr>\n",
       "    <tr>\n",
       "      <th>14</th>\n",
       "      <td>GAME</td>\n",
       "      <td>1385859.0</td>\n",
       "    </tr>\n",
       "    <tr>\n",
       "      <th>15</th>\n",
       "      <td>HEALTH_AND_FITNESS</td>\n",
       "      <td>111125.0</td>\n",
       "    </tr>\n",
       "    <tr>\n",
       "      <th>16</th>\n",
       "      <td>HOUSE_AND_HOME</td>\n",
       "      <td>45186.0</td>\n",
       "    </tr>\n",
       "    <tr>\n",
       "      <th>17</th>\n",
       "      <td>LIBRARIES_AND_DEMO</td>\n",
       "      <td>12107.0</td>\n",
       "    </tr>\n",
       "    <tr>\n",
       "      <th>18</th>\n",
       "      <td>LIFESTYLE</td>\n",
       "      <td>33725.0</td>\n",
       "    </tr>\n",
       "    <tr>\n",
       "      <th>19</th>\n",
       "      <td>MAPS_AND_NAVIGATION</td>\n",
       "      <td>223790.0</td>\n",
       "    </tr>\n",
       "    <tr>\n",
       "      <th>20</th>\n",
       "      <td>MEDICAL</td>\n",
       "      <td>3425.0</td>\n",
       "    </tr>\n",
       "    <tr>\n",
       "      <th>21</th>\n",
       "      <td>NEWS_AND_MAGAZINES</td>\n",
       "      <td>192229.0</td>\n",
       "    </tr>\n",
       "    <tr>\n",
       "      <th>22</th>\n",
       "      <td>PARENTING</td>\n",
       "      <td>15972.0</td>\n",
       "    </tr>\n",
       "    <tr>\n",
       "      <th>23</th>\n",
       "      <td>PERSONALIZATION</td>\n",
       "      <td>229092.0</td>\n",
       "    </tr>\n",
       "    <tr>\n",
       "      <th>24</th>\n",
       "      <td>PHOTOGRAPHY</td>\n",
       "      <td>637363.0</td>\n",
       "    </tr>\n",
       "    <tr>\n",
       "      <th>25</th>\n",
       "      <td>PRODUCTIVITY</td>\n",
       "      <td>269144.0</td>\n",
       "    </tr>\n",
       "    <tr>\n",
       "      <th>26</th>\n",
       "      <td>SHOPPING</td>\n",
       "      <td>442466.0</td>\n",
       "    </tr>\n",
       "    <tr>\n",
       "      <th>27</th>\n",
       "      <td>SOCIAL</td>\n",
       "      <td>2105903.0</td>\n",
       "    </tr>\n",
       "    <tr>\n",
       "      <th>28</th>\n",
       "      <td>SPORTS</td>\n",
       "      <td>184454.0</td>\n",
       "    </tr>\n",
       "    <tr>\n",
       "      <th>29</th>\n",
       "      <td>TOOLS</td>\n",
       "      <td>324829.0</td>\n",
       "    </tr>\n",
       "    <tr>\n",
       "      <th>30</th>\n",
       "      <td>TRAVEL_AND_LOCAL</td>\n",
       "      <td>242705.0</td>\n",
       "    </tr>\n",
       "    <tr>\n",
       "      <th>31</th>\n",
       "      <td>VIDEO_PLAYERS</td>\n",
       "      <td>630744.0</td>\n",
       "    </tr>\n",
       "    <tr>\n",
       "      <th>32</th>\n",
       "      <td>WEATHER</td>\n",
       "      <td>178107.0</td>\n",
       "    </tr>\n",
       "  </tbody>\n",
       "</table>\n",
       "</div>"
      ],
      "text/plain": [
       "               Category    Reviews\n",
       "0        ART_AND_DESIGN    26787.0\n",
       "1     AUTO_AND_VEHICLES    13690.0\n",
       "2                BEAUTY     7476.0\n",
       "3   BOOKS_AND_REFERENCE    95474.0\n",
       "4              BUSINESS    30336.0\n",
       "5                COMICS    56388.0\n",
       "6         COMMUNICATION  2107138.0\n",
       "7                DATING    31159.0\n",
       "8             EDUCATION   253819.0\n",
       "9         ENTERTAINMENT   397169.0\n",
       "10               EVENTS     2516.0\n",
       "11               FAMILY   208448.0\n",
       "12              FINANCE    47953.0\n",
       "13       FOOD_AND_DRINK    69947.0\n",
       "14                 GAME  1385859.0\n",
       "15   HEALTH_AND_FITNESS   111125.0\n",
       "16       HOUSE_AND_HOME    45186.0\n",
       "17   LIBRARIES_AND_DEMO    12107.0\n",
       "18            LIFESTYLE    33725.0\n",
       "19  MAPS_AND_NAVIGATION   223790.0\n",
       "20              MEDICAL     3425.0\n",
       "21   NEWS_AND_MAGAZINES   192229.0\n",
       "22            PARENTING    15972.0\n",
       "23      PERSONALIZATION   229092.0\n",
       "24          PHOTOGRAPHY   637363.0\n",
       "25         PRODUCTIVITY   269144.0\n",
       "26             SHOPPING   442466.0\n",
       "27               SOCIAL  2105903.0\n",
       "28               SPORTS   184454.0\n",
       "29                TOOLS   324829.0\n",
       "30     TRAVEL_AND_LOCAL   242705.0\n",
       "31        VIDEO_PLAYERS   630744.0\n",
       "32              WEATHER   178107.0"
      ]
     },
     "execution_count": 44,
     "metadata": {},
     "output_type": "execute_result"
    }
   ],
   "source": [
    "df.groupby('Category', as_index=False)['Reviews'].mean().round(0)"
   ]
  },
  {
   "cell_type": "code",
   "execution_count": 45,
   "id": "9b9d1b7d",
   "metadata": {
    "execution": {
     "iopub.execute_input": "2022-06-10T18:57:02.298325Z",
     "iopub.status.busy": "2022-06-10T18:57:02.297695Z",
     "iopub.status.idle": "2022-06-10T18:57:02.672852Z",
     "shell.execute_reply": "2022-06-10T18:57:02.672028Z"
    },
    "papermill": {
     "duration": 0.400456,
     "end_time": "2022-06-10T18:57:02.674832",
     "exception": false,
     "start_time": "2022-06-10T18:57:02.274376",
     "status": "completed"
    },
    "tags": []
   },
   "outputs": [
    {
     "data": {
      "image/png": "[encoded data removed]",
      "text/plain": [
       "<Figure size 864x648 with 1 Axes>"
      ]
     },
     "metadata": {
      "needs_background": "light"
     },
     "output_type": "display_data"
    }
   ],
   "source": [
    "plt.figure(figsize=(12,9)) \n",
    "sns.scatterplot(data=df,y=\"Category\",x='Price',color=\"g\")\n",
    "plt.xticks(rotation='vertical',size=15)\n",
    "plt.xlabel(\"Price\",size=25,c=\"r\")\n",
    "plt.ylabel(\"Category\",size=25,c=\"r\")\n",
    "plt.title(\"Visualization of Paid App\",size=28,c=\"b\")\n",
    "plt.show()"
   ]
  },
  {
   "cell_type": "markdown",
   "id": "05eeb692",
   "metadata": {
    "papermill": {
     "duration": 0.023442,
     "end_time": "2022-06-10T18:57:02.722522",
     "exception": false,
     "start_time": "2022-06-10T18:57:02.699080",
     "status": "completed"
    },
    "tags": []
   },
   "source": [
    "* There are few Apps related to finance games and lifestyle are costly in paid categ apps \n",
    "* Paid apps are very very less \n",
    "* 0 indicate free apps "
   ]
  },
  {
   "cell_type": "code",
   "execution_count": 46,
   "id": "3895a0e6",
   "metadata": {
    "execution": {
     "iopub.execute_input": "2022-06-10T18:57:02.771258Z",
     "iopub.status.busy": "2022-06-10T18:57:02.770581Z",
     "iopub.status.idle": "2022-06-10T18:57:02.976592Z",
     "shell.execute_reply": "2022-06-10T18:57:02.975481Z"
    },
    "papermill": {
     "duration": 0.232877,
     "end_time": "2022-06-10T18:57:02.978691",
     "exception": false,
     "start_time": "2022-06-10T18:57:02.745814",
     "status": "completed"
    },
    "tags": []
   },
   "outputs": [
    {
     "data": {
      "image/png": "[encoded data removed]",
      "text/plain": [
       "<Figure size 1080x504 with 1 Axes>"
      ]
     },
     "metadata": {
      "needs_background": "light"
     },
     "output_type": "display_data"
    }
   ],
   "source": [
    "plt.figure(figsize=(15,7))\n",
    "\n",
    "sns.countplot(x=\"Content Rating\",data=df)\n",
    "plt.xticks(size=15)\n",
    "plt.yticks(size=15)\n",
    "plt.xlabel(\"Content Rating\",size=22,c=\"k\")\n",
    "plt.ylabel(\"Frequency\",size=22,c=\"k\")\n",
    "plt.title(\"Content Rating with their counts\",size=28,c=\"b\")\n",
    "plt.show()"
   ]
  },
  {
   "cell_type": "markdown",
   "id": "d7eef8bc",
   "metadata": {
    "papermill": {
     "duration": 0.02374,
     "end_time": "2022-06-10T18:57:03.027240",
     "exception": false,
     "start_time": "2022-06-10T18:57:03.003500",
     "status": "completed"
    },
    "tags": []
   },
   "source": [
    "* There is highest counts of everyone categ as compared others follwed by Teen "
   ]
  },
  {
   "cell_type": "code",
   "execution_count": 47,
   "id": "da82d4ee",
   "metadata": {
    "execution": {
     "iopub.execute_input": "2022-06-10T18:57:03.077443Z",
     "iopub.status.busy": "2022-06-10T18:57:03.076932Z",
     "iopub.status.idle": "2022-06-10T18:57:03.458291Z",
     "shell.execute_reply": "2022-06-10T18:57:03.457549Z"
    },
    "papermill": {
     "duration": 0.409868,
     "end_time": "2022-06-10T18:57:03.461119",
     "exception": false,
     "start_time": "2022-06-10T18:57:03.051251",
     "status": "completed"
    },
    "tags": []
   },
   "outputs": [
    {
     "data": {
      "image/png": "[encoded data removed]",
      "text/plain": [
       "<Figure size 1152x864 with 1 Axes>"
      ]
     },
     "metadata": {
      "needs_background": "light"
     },
     "output_type": "display_data"
    }
   ],
   "source": [
    "plt.figure(figsize=(16,12)) \n",
    "sns.scatterplot(data=df,y=\"Category\",x='Rating',color=\"m\")\n",
    "plt.xticks(rotation='vertical',size=15)\n",
    "plt.xlabel(\"Rating\",size=15,c=\"r\")\n",
    "plt.ylabel(\"Category\",size=15,c=\"r\")\n",
    "plt.title(\"All Categ with their Rating\",size=28,c=\"k\")\n",
    "plt.show()"
   ]
  },
  {
   "cell_type": "markdown",
   "id": "f5bb42de",
   "metadata": {
    "papermill": {
     "duration": 0.025485,
     "end_time": "2022-06-10T18:57:03.512584",
     "exception": false,
     "start_time": "2022-06-10T18:57:03.487099",
     "status": "completed"
    },
    "tags": []
   },
   "source": [
    "* as seen here there are only few categ apps having some reviews less than 1.5 which is very bad\n",
    "* these are business, communication, games, family, medical, finance, & helath"
   ]
  },
  {
   "cell_type": "code",
   "execution_count": null,
   "id": "15132a6a",
   "metadata": {
    "papermill": {
     "duration": 0.025484,
     "end_time": "2022-06-10T18:57:03.563829",
     "exception": false,
     "start_time": "2022-06-10T18:57:03.538345",
     "status": "completed"
    },
    "tags": []
   },
   "outputs": [],
   "source": []
  },
  {
   "cell_type": "code",
   "execution_count": 48,
   "id": "86e86dd7",
   "metadata": {
    "execution": {
     "iopub.execute_input": "2022-06-10T18:57:03.616775Z",
     "iopub.status.busy": "2022-06-10T18:57:03.615916Z",
     "iopub.status.idle": "2022-06-10T18:57:03.904697Z",
     "shell.execute_reply": "2022-06-10T18:57:03.903554Z"
    },
    "papermill": {
     "duration": 0.317623,
     "end_time": "2022-06-10T18:57:03.906818",
     "exception": false,
     "start_time": "2022-06-10T18:57:03.589195",
     "status": "completed"
    },
    "tags": []
   },
   "outputs": [
    {
     "data": {
      "image/png": "[encoded data removed]",
      "text/plain": [
       "<Figure size 720x504 with 2 Axes>"
      ]
     },
     "metadata": {
      "needs_background": "light"
     },
     "output_type": "display_data"
    }
   ],
   "source": [
    "plt.figure(figsize=(10,7))\n",
    "sns.heatmap(df[[\"Reviews\",\"Price\",\"Rating\",\"Installs\",\"Size\"]].corr(), annot=True,linewidths=.5,fmt='.1f')\n",
    "plt.title(\"Correlation Graph\",c=\"r\",size=25)\n",
    "plt.show()"
   ]
  },
  {
   "cell_type": "markdown",
   "id": "5e28ad5a",
   "metadata": {
    "papermill": {
     "duration": 0.026249,
     "end_time": "2022-06-10T18:57:03.958505",
     "exception": false,
     "start_time": "2022-06-10T18:57:03.932256",
     "status": "completed"
    },
    "tags": []
   },
   "source": [
    "* As seen here with heatmap, reviews and Installs has good relation\n",
    "* More the Reviews more the installation no of apps\n",
    "* means users see review and total installtaion before installling \n",
    "* There is no realtion of no of installation & Reviews with price "
   ]
  },
  {
   "cell_type": "code",
   "execution_count": 49,
   "id": "64eaf143",
   "metadata": {
    "execution": {
     "iopub.execute_input": "2022-06-10T18:57:04.012191Z",
     "iopub.status.busy": "2022-06-10T18:57:04.011265Z",
     "iopub.status.idle": "2022-06-10T18:57:04.153133Z",
     "shell.execute_reply": "2022-06-10T18:57:04.151793Z"
    },
    "papermill": {
     "duration": 0.172279,
     "end_time": "2022-06-10T18:57:04.156360",
     "exception": false,
     "start_time": "2022-06-10T18:57:03.984081",
     "status": "completed"
    },
    "tags": []
   },
   "outputs": [
    {
     "data": {
      "image/png": "[encoded data removed]",
      "text/plain": [
       "<Figure size 576x576 with 1 Axes>"
      ]
     },
     "metadata": {},
     "output_type": "display_data"
    }
   ],
   "source": [
    "plt.figure(figsize=(8,8))\n",
    "labels =df['Type'].value_counts(sort = True).index\n",
    "sizes = df['Type'].value_counts(sort = True)\n",
    "plt.pie(sizes, labels=labels,autopct='%1.1f%%', shadow=True, startangle=270,)\n",
    "plt.title('Total % of Free App in store',size = 20)\n",
    "plt.show()"
   ]
  },
  {
   "cell_type": "markdown",
   "id": "caf9b970",
   "metadata": {
    "papermill": {
     "duration": 0.03026,
     "end_time": "2022-06-10T18:57:04.239581",
     "exception": false,
     "start_time": "2022-06-10T18:57:04.209321",
     "status": "completed"
    },
    "tags": []
   },
   "source": [
    "* Free apps are very much more than Paid apps \n",
    "* 92% apps are free \n",
    "* users always prefer to install free apps "
   ]
  },
  {
   "cell_type": "code",
   "execution_count": 50,
   "id": "ed38b129",
   "metadata": {
    "execution": {
     "iopub.execute_input": "2022-06-10T18:57:04.297069Z",
     "iopub.status.busy": "2022-06-10T18:57:04.296699Z",
     "iopub.status.idle": "2022-06-10T18:57:04.892907Z",
     "shell.execute_reply": "2022-06-10T18:57:04.891842Z"
    },
    "papermill": {
     "duration": 0.627118,
     "end_time": "2022-06-10T18:57:04.895372",
     "exception": false,
     "start_time": "2022-06-10T18:57:04.268254",
     "status": "completed"
    },
    "tags": []
   },
   "outputs": [
    {
     "data": {
      "image/png": "[encoded data removed]",
      "text/plain": [
       "<Figure size 1080x576 with 1 Axes>"
      ]
     },
     "metadata": {
      "needs_background": "light"
     },
     "output_type": "display_data"
    }
   ],
   "source": [
    "#boxplot plot installs/rates\n",
    "ax = plt.figure(figsize=(15,8))\n",
    "sns.boxplot(x=\"Installs\", y=\"Rating\", data=df)\n",
    "plt.title(\"Installs vs Rating\",size=25,c=\"r\")\n",
    "plt.xticks(size=15,rotation=90)\n",
    "plt.yticks(size=15)\n",
    "plt.xlabel(\"Installs\",size=20)\n",
    "plt.ylabel(\"Rating\",size=20)\n",
    "plt.show()"
   ]
  },
  {
   "cell_type": "markdown",
   "id": "ec465aab",
   "metadata": {
    "papermill": {
     "duration": 0.028083,
     "end_time": "2022-06-10T18:57:04.950930",
     "exception": false,
     "start_time": "2022-06-10T18:57:04.922847",
     "status": "completed"
    },
    "tags": []
   },
   "source": [
    "* avg rating of all apps is between 3 to 4.5 which is very good\n",
    "* Highly installed apps having rating is also good "
   ]
  },
  {
   "cell_type": "code",
   "execution_count": 51,
   "id": "abbcd0ea",
   "metadata": {
    "execution": {
     "iopub.execute_input": "2022-06-10T18:57:05.008127Z",
     "iopub.status.busy": "2022-06-10T18:57:05.007124Z",
     "iopub.status.idle": "2022-06-10T18:57:05.363186Z",
     "shell.execute_reply": "2022-06-10T18:57:05.362400Z"
    },
    "papermill": {
     "duration": 0.386631,
     "end_time": "2022-06-10T18:57:05.365269",
     "exception": false,
     "start_time": "2022-06-10T18:57:04.978638",
     "status": "completed"
    },
    "tags": []
   },
   "outputs": [
    {
     "data": {
      "image/png": "[encoded data removed]",
      "text/plain": [
       "<Figure size 792x504 with 1 Axes>"
      ]
     },
     "metadata": {
      "needs_background": "light"
     },
     "output_type": "display_data"
    }
   ],
   "source": [
    "plt.figure(figsize=(11,7))\n",
    "plt.subplot(1,1,1)\n",
    "sns.distplot(df['Rating'],color='r',kde_kws={'linewidth':3,'color':'b'});\n",
    "plt.show()"
   ]
  },
  {
   "cell_type": "markdown",
   "id": "5e4f44a6",
   "metadata": {
    "papermill": {
     "duration": 0.027128,
     "end_time": "2022-06-10T18:57:05.420302",
     "exception": false,
     "start_time": "2022-06-10T18:57:05.393174",
     "status": "completed"
    },
    "tags": []
   },
   "source": [
    "* As seen distribution of Rating apps "
   ]
  },
  {
   "cell_type": "code",
   "execution_count": 52,
   "id": "515dbc01",
   "metadata": {
    "execution": {
     "iopub.execute_input": "2022-06-10T18:57:05.477120Z",
     "iopub.status.busy": "2022-06-10T18:57:05.476571Z",
     "iopub.status.idle": "2022-06-10T18:57:05.817969Z",
     "shell.execute_reply": "2022-06-10T18:57:05.816992Z"
    },
    "papermill": {
     "duration": 0.372226,
     "end_time": "2022-06-10T18:57:05.820148",
     "exception": false,
     "start_time": "2022-06-10T18:57:05.447922",
     "status": "completed"
    },
    "tags": []
   },
   "outputs": [
    {
     "name": "stdout",
     "output_type": "stream",
     "text": [
      "0 Rating\n",
      "1 Size\n",
      "2 Price\n"
     ]
    },
    {
     "data": {
      "image/png": "[encoded data removed]",
      "text/plain": [
       "<Figure size 1296x864 with 3 Axes>"
      ]
     },
     "metadata": {
      "needs_background": "light"
     },
     "output_type": "display_data"
    }
   ],
   "source": [
    "col = ['Rating','Size','Price'] \n",
    "plt.figure(figsize=(18,12))\n",
    "for i,v in enumerate(col):\n",
    "    print(i,v)\n",
    "    plt.subplot(3,2,i+1)\n",
    "    sns.boxplot(x=v, data=df)\n",
    "plt.show()"
   ]
  },
  {
   "cell_type": "code",
   "execution_count": 53,
   "id": "dd981539",
   "metadata": {
    "execution": {
     "iopub.execute_input": "2022-06-10T18:57:05.877924Z",
     "iopub.status.busy": "2022-06-10T18:57:05.877079Z",
     "iopub.status.idle": "2022-06-10T18:57:06.059911Z",
     "shell.execute_reply": "2022-06-10T18:57:06.058930Z"
    },
    "papermill": {
     "duration": 0.214241,
     "end_time": "2022-06-10T18:57:06.062089",
     "exception": false,
     "start_time": "2022-06-10T18:57:05.847848",
     "status": "completed"
    },
    "tags": []
   },
   "outputs": [
    {
     "data": {
      "image/png": "[encoded data removed]",
      "text/plain": [
       "<Figure size 432x288 with 1 Axes>"
      ]
     },
     "metadata": {
      "needs_background": "light"
     },
     "output_type": "display_data"
    }
   ],
   "source": [
    "plt.hist(df['Size'])\n",
    "plt.show()"
   ]
  },
  {
   "cell_type": "markdown",
   "id": "94dd7181",
   "metadata": {
    "papermill": {
     "duration": 0.027772,
     "end_time": "2022-06-10T18:57:06.118508",
     "exception": false,
     "start_time": "2022-06-10T18:57:06.090736",
     "status": "completed"
    },
    "tags": []
   },
   "source": [
    "* Distribution of app size feature as seen most of apps has size between 0-30 M"
   ]
  },
  {
   "cell_type": "code",
   "execution_count": 54,
   "id": "3507d118",
   "metadata": {
    "execution": {
     "iopub.execute_input": "2022-06-10T18:57:06.177017Z",
     "iopub.status.busy": "2022-06-10T18:57:06.175989Z",
     "iopub.status.idle": "2022-06-10T18:57:06.536152Z",
     "shell.execute_reply": "2022-06-10T18:57:06.535239Z"
    },
    "papermill": {
     "duration": 0.391555,
     "end_time": "2022-06-10T18:57:06.538290",
     "exception": false,
     "start_time": "2022-06-10T18:57:06.146735",
     "status": "completed"
    },
    "tags": []
   },
   "outputs": [
    {
     "data": {
      "text/plain": [
       "Text(0.5, 1.0, 'Avg Price of all Categories')"
      ]
     },
     "execution_count": 54,
     "metadata": {},
     "output_type": "execute_result"
    },
    {
     "data": {
      "image/png": "[encoded data removed]",
      "text/plain": [
       "<Figure size 1080x504 with 1 Axes>"
      ]
     },
     "metadata": {
      "needs_background": "light"
     },
     "output_type": "display_data"
    }
   ],
   "source": [
    "plt.figure(figsize=(15,7))\n",
    "df.groupby(\"Category\")['Price'].mean().sort_values(ascending=False).plot(kind=\"bar\")\n",
    "plt.xlabel(\"Category\",size=15,c=\"r\")\n",
    "plt.ylabel(\"Avg Cost\",size=15,c=\"r\")\n",
    "plt.title(\"Avg Price of all Categories\",size=28,c=\"k\")"
   ]
  },
  {
   "cell_type": "markdown",
   "id": "2155eae4",
   "metadata": {
    "papermill": {
     "duration": 0.028602,
     "end_time": "2022-06-10T18:57:06.595616",
     "exception": false,
     "start_time": "2022-06-10T18:57:06.567014",
     "status": "completed"
    },
    "tags": []
   },
   "source": [
    "* apps whcih are related to finance, lifestyle, medical and events has highest avg cost than others"
   ]
  },
  {
   "cell_type": "markdown",
   "id": "c89f6809",
   "metadata": {
    "papermill": {
     "duration": 0.02903,
     "end_time": "2022-06-10T18:57:06.653581",
     "exception": false,
     "start_time": "2022-06-10T18:57:06.624551",
     "status": "completed"
    },
    "tags": []
   },
   "source": [
    "# CONCLUSION\n",
    "* WE HAVE DONE EDA AND VISUUALIZATION PART ON GPLAY DATA"
   ]
  },
  {
   "cell_type": "markdown",
   "id": "7c052d55",
   "metadata": {
    "papermill": {
     "duration": 0.029295,
     "end_time": "2022-06-10T18:57:06.759330",
     "exception": false,
     "start_time": "2022-06-10T18:57:06.730035",
     "status": "completed"
    },
    "tags": []
   },
   "source": [
    "* for any query you can contact or ping me I will always thereto help\n",
    "* THANKING YOU\n",
    "* pleaes vote me if you like \n"
   ]
  },
  {
   "cell_type": "code",
   "execution_count": null,
   "id": "fc95797d",
   "metadata": {
    "papermill": {
     "duration": 0.028244,
     "end_time": "2022-06-10T18:57:06.816212",
     "exception": false,
     "start_time": "2022-06-10T18:57:06.787968",
     "status": "completed"
    },
    "tags": []
   },
   "outputs": [],
   "source": []
  },
  {
   "cell_type": "code",
   "execution_count": null,
   "id": "be66c3c1",
   "metadata": {
    "papermill": {
     "duration": 0.028228,
     "end_time": "2022-06-10T18:57:06.873063",
     "exception": false,
     "start_time": "2022-06-10T18:57:06.844835",
     "status": "completed"
    },
    "tags": []
   },
   "outputs": [],
   "source": []
  },
  {
   "cell_type": "code",
   "execution_count": null,
   "id": "00fbcb47",
   "metadata": {
    "papermill": {
     "duration": 0.027916,
     "end_time": "2022-06-10T18:57:06.929590",
     "exception": false,
     "start_time": "2022-06-10T18:57:06.901674",
     "status": "completed"
    },
    "tags": []
   },
   "outputs": [],
   "source": []
  },
  {
   "cell_type": "code",
   "execution_count": null,
   "id": "93e92b16",
   "metadata": {
    "papermill": {
     "duration": 0.029531,
     "end_time": "2022-06-10T18:57:06.987333",
     "exception": false,
     "start_time": "2022-06-10T18:57:06.957802",
     "status": "completed"
    },
    "tags": []
   },
   "outputs": [],
   "source": []
  },
  {
   "cell_type": "code",
   "execution_count": null,
   "id": "2624a61d",
   "metadata": {
    "papermill": {
     "duration": 0.028232,
     "end_time": "2022-06-10T18:57:07.044141",
     "exception": false,
     "start_time": "2022-06-10T18:57:07.015909",
     "status": "completed"
    },
    "tags": []
   },
   "outputs": [],
   "source": []
  },
  {
   "cell_type": "code",
   "execution_count": null,
   "id": "429a8a0b",
   "metadata": {
    "papermill": {
     "duration": 0.028178,
     "end_time": "2022-06-10T18:57:07.100800",
     "exception": false,
     "start_time": "2022-06-10T18:57:07.072622",
     "status": "completed"
    },
    "tags": []
   },
   "outputs": [],
   "source": []
  },
  {
   "cell_type": "code",
   "execution_count": null,
   "id": "6a5a78aa",
   "metadata": {
    "papermill": {
     "duration": 0.028234,
     "end_time": "2022-06-10T18:57:07.157513",
     "exception": false,
     "start_time": "2022-06-10T18:57:07.129279",
     "status": "completed"
    },
    "tags": []
   },
   "outputs": [],
   "source": []
  },
  {
   "cell_type": "code",
   "execution_count": null,
   "id": "794f3d42",
   "metadata": {
    "papermill": {
     "duration": 0.028403,
     "end_time": "2022-06-10T18:57:07.214603",
     "exception": false,
     "start_time": "2022-06-10T18:57:07.186200",
     "status": "completed"
    },
    "tags": []
   },
   "outputs": [],
   "source": []
  },
  {
   "cell_type": "code",
   "execution_count": null,
   "id": "e2753588",
   "metadata": {
    "papermill": {
     "duration": 0.028864,
     "end_time": "2022-06-10T18:57:07.272245",
     "exception": false,
     "start_time": "2022-06-10T18:57:07.243381",
     "status": "completed"
    },
    "tags": []
   },
   "outputs": [],
   "source": []
  },
  {
   "cell_type": "code",
   "execution_count": null,
   "id": "5e5a50e4",
   "metadata": {
    "papermill": {
     "duration": 0.027823,
     "end_time": "2022-06-10T18:57:07.329219",
     "exception": false,
     "start_time": "2022-06-10T18:57:07.301396",
     "status": "completed"
    },
    "tags": []
   },
   "outputs": [],
   "source": []
  }
 ],
 "metadata": {
  "kernelspec": {
   "display_name": "Python 3",
   "language": "python",
   "name": "python3"
  },
  "language_info": {
   "codemirror_mode": {
    "name": "ipython",
    "version": 3
   },
   "file_extension": ".py",
   "mimetype": "text/x-python",
   "name": "python",
   "nbconvert_exporter": "python",
   "pygments_lexer": "ipython3",
   "version": "3.7.12"
  },
  "papermill": {
   "default_parameters": {},
   "duration": 20.502253,
   "end_time": "2022-06-10T18:57:08.178204",
   "environment_variables": {},
   "exception": null,
   "input_path": "__notebook__.ipynb",
   "output_path": "__notebook__.ipynb",
   "parameters": {},
   "start_time": "2022-06-10T18:56:47.675951",
   "version": "2.3.4"
  }
 },
 "nbformat": 4,
 "nbformat_minor": 5
}
